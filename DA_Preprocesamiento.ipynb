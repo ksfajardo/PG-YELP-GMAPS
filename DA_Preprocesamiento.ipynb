{
  "nbformat": 4,
  "nbformat_minor": 0,
  "metadata": {
    "colab": {
      "provenance": [],
      "collapsed_sections": [
        "caelA4OsKQ06",
        "WKLmkPaVKzKf",
        "6pUm9jJj9wse",
        "dAQpOO0qlft4",
        "sc4cbifM8YR_",
        "RVY1JrQY9DuW",
        "9qvbW9CulNFm",
        "-9hZn1bqJgkz",
        "rHum4v4P2hkk",
        "C8pWU75V2quj",
        "O-DJ3fJMaEdV",
        "MuN0M8g3we2s",
        "7Z5Z9oPNs3p5"
      ],
      "include_colab_link": true
    },
    "kernelspec": {
      "name": "python3",
      "display_name": "Python 3"
    },
    "language_info": {
      "name": "python"
    }
  },
  "cells": [
    {
      "cell_type": "markdown",
      "metadata": {
        "id": "view-in-github",
        "colab_type": "text"
      },
      "source": [
        "<a href=\"https://colab.research.google.com/github/ksfajardo/PG-YELP-GMAPS/blob/DA/DA_Preprocesamiento.ipynb\" target=\"_parent\"><img src=\"https://colab.research.google.com/assets/colab-badge.svg\" alt=\"Open In Colab\"/></a>"
      ]
    },
    {
      "cell_type": "markdown",
      "source": [
        "# Acceso a Big Query"
      ],
      "metadata": {
        "id": "EEHMQGciDD_r"
      }
    },
    {
      "cell_type": "code",
      "execution_count": null,
      "metadata": {
        "id": "3hXl4DXfpttt"
      },
      "outputs": [],
      "source": [
        "# Verificación de cuenta\n",
        "from google.colab import auth\n",
        "auth.authenticate_user()"
      ]
    },
    {
      "cell_type": "code",
      "source": [
        "#Acceder al proyecto de BigQuery\n",
        "\n",
        "from google.cloud import bigquery\n",
        "client = bigquery.Client(project='pg-yelp-gmaps-389415')"
      ],
      "metadata": {
        "id": "fSfYaSqtqibl"
      },
      "execution_count": null,
      "outputs": []
    },
    {
      "cell_type": "markdown",
      "source": [
        "# Importar librerías"
      ],
      "metadata": {
        "id": "TJoCY96lb44r"
      }
    },
    {
      "cell_type": "code",
      "source": [
        "import pandas as pd\n",
        "import ast"
      ],
      "metadata": {
        "id": "WhvfCVjq7AlX"
      },
      "execution_count": null,
      "outputs": []
    },
    {
      "cell_type": "markdown",
      "source": [
        "# Importación de datos desde BigQuery\n",
        "## ⚠⚠⚠"
      ],
      "metadata": {
        "id": "3Ly70NnMJz7P"
      }
    },
    {
      "cell_type": "markdown",
      "source": [
        "## Google"
      ],
      "metadata": {
        "id": "caelA4OsKQ06"
      }
    },
    {
      "cell_type": "markdown",
      "source": [
        "### Metadata"
      ],
      "metadata": {
        "id": "X141U3PDKTU4"
      }
    },
    {
      "cell_type": "code",
      "source": [
        "# COBRA AL CORRER\n",
        "#Consultar la tabla Metadata del dataset GMaps\n",
        "\n",
        "sql_query = ('''SELECT *\n",
        "                FROM pg-yelp-gmaps.GMaps.Metadata\n",
        "                ''')\n",
        "\n",
        "df_meta = client.query(sql_query).to_dataframe()"
      ],
      "metadata": {
        "id": "BSz90Tcjqt3m"
      },
      "execution_count": null,
      "outputs": []
    },
    {
      "cell_type": "markdown",
      "source": [
        "### Reviews"
      ],
      "metadata": {
        "id": "UmduTUX8Kssq"
      }
    },
    {
      "cell_type": "code",
      "source": [
        "# COBRA AL CORRER\n",
        "#Consultar la tabla Reviews Part 1/4 del dataset GMaps\n",
        "\n",
        "sql_query = ('''SELECT *\n",
        "                FROM pg-yelp-gmaps.GMaps.Reviews\n",
        "                LIMIT 3000000''')\n",
        "\n",
        "df_reviewg_1 = client.query(sql_query).to_dataframe()"
      ],
      "metadata": {
        "id": "OSyijh_4Bjjc"
      },
      "execution_count": null,
      "outputs": []
    },
    {
      "cell_type": "code",
      "source": [
        "# COBRA AL CORRER\n",
        "#Consultar la tabla Reviews Part 2/4 del dataset GMaps\n",
        "\n",
        "sql_query = ('''SELECT *\n",
        "                FROM pg-yelp-gmaps.GMaps.Reviews\n",
        "                LIMIT 3000000 OFFSET 3000000''')\n",
        "\n",
        "df_reviewg_2 = client.query(sql_query).to_dataframe()"
      ],
      "metadata": {
        "id": "R8eLymbHztrZ"
      },
      "execution_count": null,
      "outputs": []
    },
    {
      "cell_type": "code",
      "source": [
        "# COBRA AL CORRER\n",
        "#Consultar la tabla Reviews Part 3/4 del dataset GMaps\n",
        "\n",
        "sql_query = ('''SELECT *\n",
        "                FROM pg-yelp-gmaps.GMaps.Reviews\n",
        "                LIMIT 3000000 OFFSET 6000000''')\n",
        "\n",
        "df_reviewg_3 = client.query(sql_query).to_dataframe()"
      ],
      "metadata": {
        "id": "eQTVTvsW1kNz"
      },
      "execution_count": null,
      "outputs": []
    },
    {
      "cell_type": "code",
      "source": [
        "# COBRA AL CORRER\n",
        "#Consultar la tabla Reviews Part 4/4 del dataset GMaps\n",
        "\n",
        "sql_query = ('''SELECT *\n",
        "                FROM pg-yelp-gmaps.GMaps.Reviews\n",
        "                LIMIT 3381800 OFFSET 9000000''')\n",
        "\n",
        "df_reviewg_4 = client.query(sql_query).to_dataframe()"
      ],
      "metadata": {
        "id": "taeEA4uC1xxZ"
      },
      "execution_count": null,
      "outputs": []
    },
    {
      "cell_type": "markdown",
      "source": [
        "## Places API"
      ],
      "metadata": {
        "id": "_v9XKB5Joo3Y"
      }
    },
    {
      "cell_type": "code",
      "source": [
        "# COBRA AL CORRER\n",
        "#Consultar la tabla Metadata del dataset GMaps\n",
        "\n",
        "sql_query = ('''SELECT *\n",
        "                FROM pg-yelp-gmaps.PlacesAPI.business\n",
        "                ''')\n",
        "\n",
        "df_meta_API = client.query(sql_query).to_dataframe()"
      ],
      "metadata": {
        "id": "44KFkr_nos97"
      },
      "execution_count": null,
      "outputs": []
    },
    {
      "cell_type": "code",
      "source": [
        "# COBRA AL CORRER\n",
        "#Consultar la tabla Metadata del dataset GMaps\n",
        "\n",
        "sql_query = ('''SELECT *\n",
        "                FROM pg-yelp-gmaps.PlacesAPI.reviews\n",
        "                ''')\n",
        "\n",
        "df_reviews_API = client.query(sql_query).to_dataframe()"
      ],
      "metadata": {
        "id": "dPU6B500o9CE"
      },
      "execution_count": null,
      "outputs": []
    },
    {
      "cell_type": "markdown",
      "source": [
        "## Yelp"
      ],
      "metadata": {
        "id": "WKLmkPaVKzKf"
      }
    },
    {
      "cell_type": "markdown",
      "source": [
        "### Business"
      ],
      "metadata": {
        "id": "vnpcs4phK0-N"
      }
    },
    {
      "cell_type": "code",
      "source": [
        "# COBRA AL CORRER\n",
        "#Consultar la tabla business del dataset Yelp\n",
        "\n",
        "sql_query = ('''SELECT *\n",
        "                FROM pg-yelp-gmaps.Yelp.business\n",
        "                ''')\n",
        "\n",
        "df_business = client.query(sql_query).to_dataframe()"
      ],
      "metadata": {
        "id": "qPABtdhSMPTj"
      },
      "execution_count": null,
      "outputs": []
    },
    {
      "cell_type": "markdown",
      "source": [
        "### Reviews"
      ],
      "metadata": {
        "id": "5XxaA5yaNkWO"
      }
    },
    {
      "cell_type": "code",
      "source": [
        "# COBRA AL CORRER\n",
        "#Consultar la tabla Reviews del dataset Yelp\n",
        "\n",
        "sql_query = ('''SELECT *\n",
        "                FROM pg-yelp-gmaps.Yelp.Reviews\n",
        "                ''')\n",
        "\n",
        "yelp_reviews = client.query(sql_query).to_dataframe()"
      ],
      "metadata": {
        "id": "MUj4Ga9zNnVH"
      },
      "execution_count": null,
      "outputs": []
    },
    {
      "cell_type": "markdown",
      "source": [
        "### Checkin"
      ],
      "metadata": {
        "id": "bCyu2e11PLbR"
      }
    },
    {
      "cell_type": "code",
      "source": [
        "# COBRA AL CORRER\n",
        "#Consultar la tabla checkin del dataset Yelp\n",
        "\n",
        "sql_query = ('''SELECT *\n",
        "                FROM pg-yelp-gmaps.Yelp.checkin\n",
        "                ''')\n",
        "\n",
        "df_checkin = client.query(sql_query).to_dataframe()"
      ],
      "metadata": {
        "id": "0-iCV4cbPPhK"
      },
      "execution_count": null,
      "outputs": []
    },
    {
      "cell_type": "markdown",
      "source": [
        "# Google"
      ],
      "metadata": {
        "id": "Q-5cAVyqDQME"
      }
    },
    {
      "cell_type": "markdown",
      "source": [
        "## Metadata"
      ],
      "metadata": {
        "id": "PI30Vo5NFL9j"
      }
    },
    {
      "cell_type": "code",
      "source": [
        "df_meta.head()"
      ],
      "metadata": {
        "colab": {
          "base_uri": "https://localhost:8080/",
          "height": 226
        },
        "id": "WpWTQgjDBDbB",
        "outputId": "94bab0c8-06c8-42a3-fdf3-df793507fe1e"
      },
      "execution_count": null,
      "outputs": [
        {
          "output_type": "execute_result",
          "data": {
            "text/plain": [
              "         local_name                                gmap_id    latitude  \\\n",
              "0      Tribbey Barr  0x87b3ac89402147a1:0x9a962c564f57cea6  35.1128354   \n",
              "1      Highwire Bar  0x87b3ad8d4ff39983:0x533a68a773ffb75a  35.1128354   \n",
              "2               NUL  0x8841b1f8e7066a95:0x9f4eb8ab06d3c633  39.0941276   \n",
              "3  The Drawing Room  0x88fe7bf6f5ed59f7:0x227246356eb520f3  32.7786654   \n",
              "4     bar restauran  0x88d9bb05066486f7:0x9723aec0ac8bf391  25.8690738   \n",
              "\n",
              "     longitude subcategory avg_rating num_of_reviews price hours  \\\n",
              "0  -97.0538935         bar        4.1             33  None  None   \n",
              "1  -97.0538935         bar        4.9              8  None  None   \n",
              "2  -84.4947691         bar        5.0              1  None  None   \n",
              "3  -79.9265451         bar        5.0              3  None  None   \n",
              "4  -80.3302124         bar        4.6             28  None  None   \n",
              "\n",
              "                                                MISC state     platform  \\\n",
              "0  {\"Service options\": [\"Outdoor seating\", \"Deliv...  None  Google Maps   \n",
              "1  {\"Service options\": [\"Delivery\"], \"Offerings\":...  None  Google Maps   \n",
              "2  {\"Service options\": [\"Dine-in\", \"Delivery\", \"T...  None  Google Maps   \n",
              "3  {\"Service options\": [\"Dine-in\", \"Delivery\"], \"...  None  Google Maps   \n",
              "4  {\"Service options\": [\"Dine-in\"], \"Highlights\":...  None  Google Maps   \n",
              "\n",
              "       category  \n",
              "0  food service  \n",
              "1  food service  \n",
              "2  food service  \n",
              "3  food service  \n",
              "4  food service  "
            ],
            "text/html": [
              "\n",
              "  <div id=\"df-8131306a-7152-48cd-970c-8d31beee2a61\">\n",
              "    <div class=\"colab-df-container\">\n",
              "      <div>\n",
              "<style scoped>\n",
              "    .dataframe tbody tr th:only-of-type {\n",
              "        vertical-align: middle;\n",
              "    }\n",
              "\n",
              "    .dataframe tbody tr th {\n",
              "        vertical-align: top;\n",
              "    }\n",
              "\n",
              "    .dataframe thead th {\n",
              "        text-align: right;\n",
              "    }\n",
              "</style>\n",
              "<table border=\"1\" class=\"dataframe\">\n",
              "  <thead>\n",
              "    <tr style=\"text-align: right;\">\n",
              "      <th></th>\n",
              "      <th>local_name</th>\n",
              "      <th>gmap_id</th>\n",
              "      <th>latitude</th>\n",
              "      <th>longitude</th>\n",
              "      <th>subcategory</th>\n",
              "      <th>avg_rating</th>\n",
              "      <th>num_of_reviews</th>\n",
              "      <th>price</th>\n",
              "      <th>hours</th>\n",
              "      <th>MISC</th>\n",
              "      <th>state</th>\n",
              "      <th>platform</th>\n",
              "      <th>category</th>\n",
              "    </tr>\n",
              "  </thead>\n",
              "  <tbody>\n",
              "    <tr>\n",
              "      <th>0</th>\n",
              "      <td>Tribbey Barr</td>\n",
              "      <td>0x87b3ac89402147a1:0x9a962c564f57cea6</td>\n",
              "      <td>35.1128354</td>\n",
              "      <td>-97.0538935</td>\n",
              "      <td>bar</td>\n",
              "      <td>4.1</td>\n",
              "      <td>33</td>\n",
              "      <td>None</td>\n",
              "      <td>None</td>\n",
              "      <td>{\"Service options\": [\"Outdoor seating\", \"Deliv...</td>\n",
              "      <td>None</td>\n",
              "      <td>Google Maps</td>\n",
              "      <td>food service</td>\n",
              "    </tr>\n",
              "    <tr>\n",
              "      <th>1</th>\n",
              "      <td>Highwire Bar</td>\n",
              "      <td>0x87b3ad8d4ff39983:0x533a68a773ffb75a</td>\n",
              "      <td>35.1128354</td>\n",
              "      <td>-97.0538935</td>\n",
              "      <td>bar</td>\n",
              "      <td>4.9</td>\n",
              "      <td>8</td>\n",
              "      <td>None</td>\n",
              "      <td>None</td>\n",
              "      <td>{\"Service options\": [\"Delivery\"], \"Offerings\":...</td>\n",
              "      <td>None</td>\n",
              "      <td>Google Maps</td>\n",
              "      <td>food service</td>\n",
              "    </tr>\n",
              "    <tr>\n",
              "      <th>2</th>\n",
              "      <td>NUL</td>\n",
              "      <td>0x8841b1f8e7066a95:0x9f4eb8ab06d3c633</td>\n",
              "      <td>39.0941276</td>\n",
              "      <td>-84.4947691</td>\n",
              "      <td>bar</td>\n",
              "      <td>5.0</td>\n",
              "      <td>1</td>\n",
              "      <td>None</td>\n",
              "      <td>None</td>\n",
              "      <td>{\"Service options\": [\"Dine-in\", \"Delivery\", \"T...</td>\n",
              "      <td>None</td>\n",
              "      <td>Google Maps</td>\n",
              "      <td>food service</td>\n",
              "    </tr>\n",
              "    <tr>\n",
              "      <th>3</th>\n",
              "      <td>The Drawing Room</td>\n",
              "      <td>0x88fe7bf6f5ed59f7:0x227246356eb520f3</td>\n",
              "      <td>32.7786654</td>\n",
              "      <td>-79.9265451</td>\n",
              "      <td>bar</td>\n",
              "      <td>5.0</td>\n",
              "      <td>3</td>\n",
              "      <td>None</td>\n",
              "      <td>None</td>\n",
              "      <td>{\"Service options\": [\"Dine-in\", \"Delivery\"], \"...</td>\n",
              "      <td>None</td>\n",
              "      <td>Google Maps</td>\n",
              "      <td>food service</td>\n",
              "    </tr>\n",
              "    <tr>\n",
              "      <th>4</th>\n",
              "      <td>bar restauran</td>\n",
              "      <td>0x88d9bb05066486f7:0x9723aec0ac8bf391</td>\n",
              "      <td>25.8690738</td>\n",
              "      <td>-80.3302124</td>\n",
              "      <td>bar</td>\n",
              "      <td>4.6</td>\n",
              "      <td>28</td>\n",
              "      <td>None</td>\n",
              "      <td>None</td>\n",
              "      <td>{\"Service options\": [\"Dine-in\"], \"Highlights\":...</td>\n",
              "      <td>None</td>\n",
              "      <td>Google Maps</td>\n",
              "      <td>food service</td>\n",
              "    </tr>\n",
              "  </tbody>\n",
              "</table>\n",
              "</div>\n",
              "      <button class=\"colab-df-convert\" onclick=\"convertToInteractive('df-8131306a-7152-48cd-970c-8d31beee2a61')\"\n",
              "              title=\"Convert this dataframe to an interactive table.\"\n",
              "              style=\"display:none;\">\n",
              "        \n",
              "  <svg xmlns=\"http://www.w3.org/2000/svg\" height=\"24px\"viewBox=\"0 0 24 24\"\n",
              "       width=\"24px\">\n",
              "    <path d=\"M0 0h24v24H0V0z\" fill=\"none\"/>\n",
              "    <path d=\"M18.56 5.44l.94 2.06.94-2.06 2.06-.94-2.06-.94-.94-2.06-.94 2.06-2.06.94zm-11 1L8.5 8.5l.94-2.06 2.06-.94-2.06-.94L8.5 2.5l-.94 2.06-2.06.94zm10 10l.94 2.06.94-2.06 2.06-.94-2.06-.94-.94-2.06-.94 2.06-2.06.94z\"/><path d=\"M17.41 7.96l-1.37-1.37c-.4-.4-.92-.59-1.43-.59-.52 0-1.04.2-1.43.59L10.3 9.45l-7.72 7.72c-.78.78-.78 2.05 0 2.83L4 21.41c.39.39.9.59 1.41.59.51 0 1.02-.2 1.41-.59l7.78-7.78 2.81-2.81c.8-.78.8-2.07 0-2.86zM5.41 20L4 18.59l7.72-7.72 1.47 1.35L5.41 20z\"/>\n",
              "  </svg>\n",
              "      </button>\n",
              "      \n",
              "  <style>\n",
              "    .colab-df-container {\n",
              "      display:flex;\n",
              "      flex-wrap:wrap;\n",
              "      gap: 12px;\n",
              "    }\n",
              "\n",
              "    .colab-df-convert {\n",
              "      background-color: #E8F0FE;\n",
              "      border: none;\n",
              "      border-radius: 50%;\n",
              "      cursor: pointer;\n",
              "      display: none;\n",
              "      fill: #1967D2;\n",
              "      height: 32px;\n",
              "      padding: 0 0 0 0;\n",
              "      width: 32px;\n",
              "    }\n",
              "\n",
              "    .colab-df-convert:hover {\n",
              "      background-color: #E2EBFA;\n",
              "      box-shadow: 0px 1px 2px rgba(60, 64, 67, 0.3), 0px 1px 3px 1px rgba(60, 64, 67, 0.15);\n",
              "      fill: #174EA6;\n",
              "    }\n",
              "\n",
              "    [theme=dark] .colab-df-convert {\n",
              "      background-color: #3B4455;\n",
              "      fill: #D2E3FC;\n",
              "    }\n",
              "\n",
              "    [theme=dark] .colab-df-convert:hover {\n",
              "      background-color: #434B5C;\n",
              "      box-shadow: 0px 1px 3px 1px rgba(0, 0, 0, 0.15);\n",
              "      filter: drop-shadow(0px 1px 2px rgba(0, 0, 0, 0.3));\n",
              "      fill: #FFFFFF;\n",
              "    }\n",
              "  </style>\n",
              "\n",
              "      <script>\n",
              "        const buttonEl =\n",
              "          document.querySelector('#df-8131306a-7152-48cd-970c-8d31beee2a61 button.colab-df-convert');\n",
              "        buttonEl.style.display =\n",
              "          google.colab.kernel.accessAllowed ? 'block' : 'none';\n",
              "\n",
              "        async function convertToInteractive(key) {\n",
              "          const element = document.querySelector('#df-8131306a-7152-48cd-970c-8d31beee2a61');\n",
              "          const dataTable =\n",
              "            await google.colab.kernel.invokeFunction('convertToInteractive',\n",
              "                                                     [key], {});\n",
              "          if (!dataTable) return;\n",
              "\n",
              "          const docLinkHtml = 'Like what you see? Visit the ' +\n",
              "            '<a target=\"_blank\" href=https://colab.research.google.com/notebooks/data_table.ipynb>data table notebook</a>'\n",
              "            + ' to learn more about interactive tables.';\n",
              "          element.innerHTML = '';\n",
              "          dataTable['output_type'] = 'display_data';\n",
              "          await google.colab.output.renderOutput(dataTable, element);\n",
              "          const docLink = document.createElement('div');\n",
              "          docLink.innerHTML = docLinkHtml;\n",
              "          element.appendChild(docLink);\n",
              "        }\n",
              "      </script>\n",
              "    </div>\n",
              "  </div>\n",
              "  "
            ]
          },
          "metadata": {},
          "execution_count": 14
        }
      ]
    },
    {
      "cell_type": "code",
      "source": [
        "df_meta.info()"
      ],
      "metadata": {
        "colab": {
          "base_uri": "https://localhost:8080/"
        },
        "id": "6umFVfbXIT6s",
        "outputId": "55c23ca5-fc40-4537-de90-9f5901aaeec4"
      },
      "execution_count": null,
      "outputs": [
        {
          "output_type": "stream",
          "name": "stdout",
          "text": [
            "<class 'pandas.core.frame.DataFrame'>\n",
            "RangeIndex: 377301 entries, 0 to 377300\n",
            "Data columns (total 13 columns):\n",
            " #   Column          Non-Null Count   Dtype \n",
            "---  ------          --------------   ----- \n",
            " 0   local_name      377301 non-null  object\n",
            " 1   gmap_id         377301 non-null  object\n",
            " 2   latitude        377301 non-null  object\n",
            " 3   longitude       377301 non-null  object\n",
            " 4   subcategory     377301 non-null  object\n",
            " 5   avg_rating      377301 non-null  object\n",
            " 6   num_of_reviews  377301 non-null  object\n",
            " 7   price           377301 non-null  object\n",
            " 8   hours           377301 non-null  object\n",
            " 9   MISC            377301 non-null  object\n",
            " 10  state           377301 non-null  object\n",
            " 11  platform        377301 non-null  object\n",
            " 12  category        377301 non-null  object\n",
            "dtypes: object(13)\n",
            "memory usage: 37.4+ MB\n"
          ]
        }
      ]
    },
    {
      "cell_type": "code",
      "source": [
        "# Eliminar registros de más\n",
        "idx = df_meta[df_meta['subcategory'].str.contains('food store|supplier|public|publish|convenience|gas |atm|bank|manufacturer|organization|food service|food producer|food market')].index\n",
        "df_meta = df_meta.drop(idx).reset_index(drop = True)"
      ],
      "metadata": {
        "id": "S3rBiVQ4Gowm"
      },
      "execution_count": null,
      "outputs": []
    },
    {
      "cell_type": "code",
      "source": [
        "#Transformar al tipo de dato correspondiente\n",
        "df_meta['hours'] = df_meta['hours'].apply(lambda x: ast.literal_eval(x))\n",
        "df_meta['MISC'] = df_meta['MISC'].apply(lambda x: ast.literal_eval(x))\n",
        "df_meta.info()"
      ],
      "metadata": {
        "id": "H2w8D-w76qiM",
        "colab": {
          "base_uri": "https://localhost:8080/"
        },
        "outputId": "44b8ddb5-2a7b-44cc-8a9c-a82dd19d14d7"
      },
      "execution_count": null,
      "outputs": [
        {
          "output_type": "stream",
          "name": "stdout",
          "text": [
            "<class 'pandas.core.frame.DataFrame'>\n",
            "RangeIndex: 324331 entries, 0 to 324330\n",
            "Data columns (total 13 columns):\n",
            " #   Column          Non-Null Count   Dtype \n",
            "---  ------          --------------   ----- \n",
            " 0   local_name      324331 non-null  object\n",
            " 1   gmap_id         324331 non-null  object\n",
            " 2   latitude        324331 non-null  object\n",
            " 3   longitude       324331 non-null  object\n",
            " 4   subcategory     324331 non-null  object\n",
            " 5   avg_rating      324331 non-null  object\n",
            " 6   num_of_reviews  324331 non-null  object\n",
            " 7   price           324331 non-null  object\n",
            " 8   hours           286622 non-null  object\n",
            " 9   MISC            311723 non-null  object\n",
            " 10  state           324331 non-null  object\n",
            " 11  platform        324331 non-null  object\n",
            " 12  category        324331 non-null  object\n",
            "dtypes: object(13)\n",
            "memory usage: 32.2+ MB\n"
          ]
        }
      ]
    },
    {
      "cell_type": "markdown",
      "source": [
        "### Categorías de restaurantes"
      ],
      "metadata": {
        "id": "6pUm9jJj9wse"
      }
    },
    {
      "cell_type": "code",
      "source": [
        "# Definir función para categorizar\n",
        "def categorize (row):\n",
        "    row = row.lower()\n",
        "    if 'fast food' in row:\n",
        "        return 'Fast food'\n",
        "    elif any(word in row for word in ['burger', 'chicken', 'barbecue', 'barbeque', 'steak','bistro','buffet']):\n",
        "        return 'Tradicional'\n",
        "    elif any(word in row for word in ['pizza', 'sandwich', 'hot dog']):\n",
        "        return 'Pizza & Sandwich'\n",
        "    elif any(word in row for word in ['bar', 'beer', 'pub','club']):\n",
        "        return 'Bar'\n",
        "    elif any(word in row for word in ['mexican', 'taco']):\n",
        "        return 'Mexicana'\n",
        "    elif any(word in row for word in ['deli', 'seafood', 'wine', 'cocktail','vegan','vegeta']):\n",
        "        return 'Epecial'\n",
        "    elif any(word in row for word in ['chinese', 'italian', 'asian', 'japan', 'sushi', 'thai', 'indian', 'korean','latin','ramen','africa'\\\n",
        "                                       'mediterranean','vietnamese','jamaica','greek','eastern','caribbean','cuba','peru','salvador','cajun','french']):\n",
        "        return 'Internacional'\n",
        "    elif any(word in row for word in ['coffee','cafe', 'ice cream', 'dessert', 'yogurt', 'bakery', 'pastry', 'breakfast', 'cupcake', 'tea', 'smoothie','juice']):\n",
        "        return 'Desayuno'\n",
        "    else:\n",
        "        return 'Sin Dato'\n",
        "\n",
        "df_meta['rest_category'] = df_meta['subcategory'].apply(categorize)\n",
        "idx_otra = list(df_meta[df_meta['rest_category'] == 'Sin Dato'].index)\n",
        "df_meta.loc[idx_otra,'rest_category'] = df_meta.loc[idx_otra,'local_name'].apply(categorize)"
      ],
      "metadata": {
        "id": "Rp5bLnki94dz"
      },
      "execution_count": null,
      "outputs": []
    },
    {
      "cell_type": "code",
      "source": [
        "df_meta.rest_category.value_counts()"
      ],
      "metadata": {
        "colab": {
          "base_uri": "https://localhost:8080/"
        },
        "id": "dMXPTngq-7e3",
        "outputId": "7d282273-266d-4f3c-8523-9bb04e151efd"
      },
      "execution_count": null,
      "outputs": [
        {
          "output_type": "execute_result",
          "data": {
            "text/plain": [
              "Bar                 90096\n",
              "Desayuno            56380\n",
              "Sin Dato            42571\n",
              "Internacional       29699\n",
              "Pizza & Sandwich    27992\n",
              "Fast food           27303\n",
              "Tradicional         19693\n",
              "Mexicana            17553\n",
              "Epecial             13044\n",
              "Name: rest_category, dtype: int64"
            ]
          },
          "metadata": {},
          "execution_count": 21
        }
      ]
    },
    {
      "cell_type": "markdown",
      "source": [
        "### Eliminar registros usando subcategorías y categorías"
      ],
      "metadata": {
        "id": "dAQpOO0qlft4"
      }
    },
    {
      "cell_type": "code",
      "source": [
        "# Eliminar registros que hayan quedado en categoría 'Sin dato' y la subcategoría NO contenga 'restaurant'\n",
        "idx2 = list(df_meta[(df_meta['rest_category'] == 'Sin Dato') & (~df_meta['subcategory'].str.contains('restaurant'))].index)\n",
        "df_meta = df_meta.drop(idx2).reset_index(drop = True)"
      ],
      "metadata": {
        "id": "0gqNgMgk_J--"
      },
      "execution_count": null,
      "outputs": []
    },
    {
      "cell_type": "code",
      "source": [
        "df_meta.rest_category.value_counts()"
      ],
      "metadata": {
        "colab": {
          "base_uri": "https://localhost:8080/"
        },
        "id": "lMSrk-l-hRME",
        "outputId": "ded593bf-abe1-4baa-ca16-d857e30a1b9e"
      },
      "execution_count": null,
      "outputs": [
        {
          "output_type": "execute_result",
          "data": {
            "text/plain": [
              "Bar                 90096\n",
              "Desayuno            56380\n",
              "Sin Dato            41264\n",
              "Internacional       29699\n",
              "Pizza & Sandwich    27992\n",
              "Fast food           27303\n",
              "Tradicional         19693\n",
              "Mexicana            17553\n",
              "Epecial             13044\n",
              "Name: rest_category, dtype: int64"
            ]
          },
          "metadata": {},
          "execution_count": 23
        }
      ]
    },
    {
      "cell_type": "markdown",
      "source": [
        "### Días abierto"
      ],
      "metadata": {
        "id": "sc4cbifM8YR_"
      }
    },
    {
      "cell_type": "code",
      "source": [
        "# Obtener lista de días abiertos\n",
        "df_meta['days_open'] = df_meta[~df_meta.hours.isna()]['hours'].apply(lambda x: [day[0] for day in x if day[1] != 'Closed'])"
      ],
      "metadata": {
        "id": "r7wNzecf8bFM"
      },
      "execution_count": null,
      "outputs": []
    },
    {
      "cell_type": "code",
      "source": [
        "#Días abiertos discreto\n",
        "\n",
        "def open (row):\n",
        "    mon_sat = ['Monday', 'Tuesday', 'Wednesday', 'Thursday', 'Friday','Saturday']\n",
        "    thu_sun = ['Saturday', 'Sunday', 'Thursday', 'Friday']\n",
        "    week = ['Monday', 'Tuesday', 'Wednesday', 'Thursday', 'Friday']\n",
        "    if isinstance(row,list):\n",
        "        if len(row) == 7:\n",
        "            return 'Todos los días'\n",
        "        elif all(weekday in row for weekday in mon_sat):\n",
        "            return 'Domingo cerrado'\n",
        "        elif all(weekday in row for weekday in thu_sun):\n",
        "            return 'Jue-Dom'\n",
        "        elif all(weekday in row for weekday in week):\n",
        "            return 'Semana'\n",
        "        else:\n",
        "            return 'Otro'\n",
        "\n",
        "df_meta['abierto'] = df_meta.days_open.apply(open)"
      ],
      "metadata": {
        "id": "XLoksb-D8qET"
      },
      "execution_count": null,
      "outputs": []
    },
    {
      "cell_type": "code",
      "source": [
        "df_meta.abierto.value_counts()"
      ],
      "metadata": {
        "colab": {
          "base_uri": "https://localhost:8080/"
        },
        "id": "fUiuojj88zuj",
        "outputId": "98cc45b7-c94e-44f2-bdde-e649350b3657"
      },
      "execution_count": null,
      "outputs": [
        {
          "output_type": "execute_result",
          "data": {
            "text/plain": [
              "Todos los días     161319\n",
              "Jue-Dom             38054\n",
              "Otro                36744\n",
              "Domingo cerrado     36491\n",
              "Semana              13086\n",
              "Name: abierto, dtype: int64"
            ]
          },
          "metadata": {},
          "execution_count": 26
        }
      ]
    },
    {
      "cell_type": "markdown",
      "source": [
        "### Servicio"
      ],
      "metadata": {
        "id": "RVY1JrQY9DuW"
      }
    },
    {
      "cell_type": "code",
      "source": [
        "#Crear columna 'service' de la llave correspondiente, lista de servicios ofrecidos\n",
        "df_meta['service'] = df_meta['MISC'].apply(lambda x: x['Service options'] if isinstance(x, dict) and 'Service options' in x.keys() else None)"
      ],
      "metadata": {
        "id": "exnQAsdq9KXV"
      },
      "execution_count": null,
      "outputs": []
    },
    {
      "cell_type": "code",
      "source": [
        "#Categorizar sin repetir el servicio\n",
        "\n",
        "def service_f (row):\n",
        "    full = ['Takeout', 'Dine-in', 'Delivery']\n",
        "    take_del = ['Takeout', 'Delivery']\n",
        "    take_dine = ['Takeout', 'Dine-in']\n",
        "    dine_del = ['Dine-in', 'Delivery']\n",
        "    dine_take = ['Dine-in', 'Takeout']\n",
        "\n",
        "    if isinstance(row,list):\n",
        "        if all(service in row for service in full):\n",
        "            return 'Dine-in, Takeout, Delivery'\n",
        "        elif all(service in row for service in take_del):\n",
        "            return 'Takeout, Delivery'\n",
        "        elif all(service in row for service in take_dine):\n",
        "            return 'Dine-in, Takeout'\n",
        "        elif all(service in row for service in dine_del):\n",
        "            return 'Dine-in, Delivery'\n",
        "        elif all(service in row for service in dine_take):\n",
        "            return 'Dine-in, Takeout'\n",
        "        elif 'Delivery' in row:\n",
        "            return 'Delivery'\n",
        "        elif 'Takeout' in row:\n",
        "            return 'Takeout'\n",
        "        elif 'Dine-in' in row:\n",
        "            return 'Dine-in'\n",
        "        else:\n",
        "            return 'Sin Dato'\n",
        "\n",
        "df_meta['service'] = df_meta['service'].apply(service_f)"
      ],
      "metadata": {
        "id": "44zwueI69Te2"
      },
      "execution_count": null,
      "outputs": []
    },
    {
      "cell_type": "code",
      "source": [
        "df_meta.service.value_counts()"
      ],
      "metadata": {
        "colab": {
          "base_uri": "https://localhost:8080/"
        },
        "id": "H8zHZ6Zx9jkP",
        "outputId": "e835940b-9c80-4be1-8cd3-309c133183b8"
      },
      "execution_count": null,
      "outputs": [
        {
          "output_type": "execute_result",
          "data": {
            "text/plain": [
              "Dine-in, Takeout, Delivery    100833\n",
              "Takeout, Delivery              67301\n",
              "Delivery                       67142\n",
              "Dine-in, Delivery              14295\n",
              "Dine-in, Takeout               10709\n",
              "Takeout                         7951\n",
              "Dine-in                         3102\n",
              "Sin Dato                        1977\n",
              "Name: service, dtype: int64"
            ]
          },
          "metadata": {},
          "execution_count": 29
        }
      ]
    },
    {
      "cell_type": "markdown",
      "source": [
        "### Eliminar columnas"
      ],
      "metadata": {
        "id": "9qvbW9CulNFm"
      }
    },
    {
      "cell_type": "code",
      "source": [
        "df_meta.drop(columns = ['MISC','platform','category','hours','subcategory','price','state','days_open'], inplace=True)"
      ],
      "metadata": {
        "id": "RW07_ls_j5oH"
      },
      "execution_count": null,
      "outputs": []
    },
    {
      "cell_type": "markdown",
      "source": [
        "## Review"
      ],
      "metadata": {
        "id": "-9hZn1bqJgkz"
      }
    },
    {
      "cell_type": "markdown",
      "source": [
        "### Part I"
      ],
      "metadata": {
        "id": "v-Neo_wH2MYW"
      }
    },
    {
      "cell_type": "code",
      "source": [
        "df_reviewg_1.info()"
      ],
      "metadata": {
        "colab": {
          "base_uri": "https://localhost:8080/"
        },
        "id": "5xe-dFM3JlJr",
        "outputId": "c84330ed-8777-48ad-9065-a4a5b91dd68e"
      },
      "execution_count": null,
      "outputs": [
        {
          "output_type": "stream",
          "name": "stdout",
          "text": [
            "<class 'pandas.core.frame.DataFrame'>\n",
            "RangeIndex: 3000000 entries, 0 to 2999999\n",
            "Data columns (total 7 columns):\n",
            " #   Column   Dtype \n",
            "---  ------   ----- \n",
            " 0   user_id  object\n",
            " 1   date     object\n",
            " 2   rating   object\n",
            " 3   opinion  object\n",
            " 4   gmap_id  object\n",
            " 5   feeling  object\n",
            " 6   state    object\n",
            "dtypes: object(7)\n",
            "memory usage: 160.2+ MB\n"
          ]
        }
      ]
    },
    {
      "cell_type": "code",
      "source": [
        "df_review_1f = df_reviewg_1[df_reviewg_1['gmap_id'].isin(df_meta['gmap_id'])]"
      ],
      "metadata": {
        "id": "CGa9IhRAymRr"
      },
      "execution_count": null,
      "outputs": []
    },
    {
      "cell_type": "code",
      "source": [
        "df_review_1f.info()"
      ],
      "metadata": {
        "colab": {
          "base_uri": "https://localhost:8080/"
        },
        "id": "GTAofKG_zKfg",
        "outputId": "29453eb0-4e1e-4015-fe73-8aa91855a4b5"
      },
      "execution_count": null,
      "outputs": [
        {
          "output_type": "stream",
          "name": "stdout",
          "text": [
            "<class 'pandas.core.frame.DataFrame'>\n",
            "Int64Index: 1186411 entries, 9 to 2999998\n",
            "Data columns (total 7 columns):\n",
            " #   Column   Non-Null Count    Dtype \n",
            "---  ------   --------------    ----- \n",
            " 0   user_id  1186411 non-null  object\n",
            " 1   date     1186411 non-null  object\n",
            " 2   rating   1186411 non-null  object\n",
            " 3   opinion  1186411 non-null  object\n",
            " 4   gmap_id  1186411 non-null  object\n",
            " 5   feeling  1186411 non-null  object\n",
            " 6   state    1186411 non-null  object\n",
            "dtypes: object(7)\n",
            "memory usage: 72.4+ MB\n"
          ]
        }
      ]
    },
    {
      "cell_type": "markdown",
      "source": [
        "### Part II"
      ],
      "metadata": {
        "id": "gzmNJBYo2UBD"
      }
    },
    {
      "cell_type": "code",
      "source": [
        "df_reviewg_2.info()"
      ],
      "metadata": {
        "colab": {
          "base_uri": "https://localhost:8080/"
        },
        "outputId": "5484fde6-b298-4e21-a758-fe91c7322205",
        "id": "iHeudDlF2UBE"
      },
      "execution_count": null,
      "outputs": [
        {
          "output_type": "stream",
          "name": "stdout",
          "text": [
            "<class 'pandas.core.frame.DataFrame'>\n",
            "RangeIndex: 3000000 entries, 0 to 2999999\n",
            "Data columns (total 7 columns):\n",
            " #   Column   Dtype \n",
            "---  ------   ----- \n",
            " 0   user_id  object\n",
            " 1   date     object\n",
            " 2   rating   object\n",
            " 3   opinion  object\n",
            " 4   gmap_id  object\n",
            " 5   feeling  object\n",
            " 6   state    object\n",
            "dtypes: object(7)\n",
            "memory usage: 160.2+ MB\n"
          ]
        }
      ]
    },
    {
      "cell_type": "code",
      "source": [
        "df_review_2f = df_reviewg_2[df_reviewg_2['gmap_id'].isin(df_meta['gmap_id'])]"
      ],
      "metadata": {
        "id": "uoF5QIqk2UBE"
      },
      "execution_count": null,
      "outputs": []
    },
    {
      "cell_type": "code",
      "source": [
        "df_review_2f.info()"
      ],
      "metadata": {
        "colab": {
          "base_uri": "https://localhost:8080/"
        },
        "outputId": "8a138aad-3cfe-438d-c1e3-793749235af0",
        "id": "F-jm0j7A2UBE"
      },
      "execution_count": null,
      "outputs": [
        {
          "output_type": "stream",
          "name": "stdout",
          "text": [
            "<class 'pandas.core.frame.DataFrame'>\n",
            "Int64Index: 1090098 entries, 48 to 2999997\n",
            "Data columns (total 7 columns):\n",
            " #   Column   Non-Null Count    Dtype \n",
            "---  ------   --------------    ----- \n",
            " 0   user_id  1090098 non-null  object\n",
            " 1   date     1090098 non-null  object\n",
            " 2   rating   1090098 non-null  object\n",
            " 3   opinion  1090098 non-null  object\n",
            " 4   gmap_id  1090098 non-null  object\n",
            " 5   feeling  1090098 non-null  object\n",
            " 6   state    1090098 non-null  object\n",
            "dtypes: object(7)\n",
            "memory usage: 66.5+ MB\n"
          ]
        }
      ]
    },
    {
      "cell_type": "markdown",
      "source": [
        "### Part III"
      ],
      "metadata": {
        "id": "rHum4v4P2hkk"
      }
    },
    {
      "cell_type": "code",
      "source": [
        "df_reviewg_3.info()"
      ],
      "metadata": {
        "colab": {
          "base_uri": "https://localhost:8080/"
        },
        "outputId": "fd02099b-ad15-4a70-c8ce-99e8b8b7dfcf",
        "id": "PeBOVIEx2hkk"
      },
      "execution_count": null,
      "outputs": [
        {
          "output_type": "stream",
          "name": "stdout",
          "text": [
            "<class 'pandas.core.frame.DataFrame'>\n",
            "RangeIndex: 3000000 entries, 0 to 2999999\n",
            "Data columns (total 7 columns):\n",
            " #   Column   Dtype \n",
            "---  ------   ----- \n",
            " 0   user_id  object\n",
            " 1   date     object\n",
            " 2   rating   object\n",
            " 3   opinion  object\n",
            " 4   gmap_id  object\n",
            " 5   feeling  object\n",
            " 6   state    object\n",
            "dtypes: object(7)\n",
            "memory usage: 160.2+ MB\n"
          ]
        }
      ]
    },
    {
      "cell_type": "code",
      "source": [
        "df_review_3f = df_reviewg_3[df_reviewg_3['gmap_id'].isin(df_meta['gmap_id'])]"
      ],
      "metadata": {
        "id": "mIlNtfZq2hkl"
      },
      "execution_count": null,
      "outputs": []
    },
    {
      "cell_type": "code",
      "source": [
        "df_review_3f.info()"
      ],
      "metadata": {
        "colab": {
          "base_uri": "https://localhost:8080/"
        },
        "outputId": "622a7b25-1b27-4eaf-b924-cd95cf6e769d",
        "id": "IQvU0aNv2hkl"
      },
      "execution_count": null,
      "outputs": [
        {
          "output_type": "stream",
          "name": "stdout",
          "text": [
            "<class 'pandas.core.frame.DataFrame'>\n",
            "Int64Index: 1049156 entries, 0 to 2999997\n",
            "Data columns (total 7 columns):\n",
            " #   Column   Non-Null Count    Dtype \n",
            "---  ------   --------------    ----- \n",
            " 0   user_id  1049156 non-null  object\n",
            " 1   date     1049156 non-null  object\n",
            " 2   rating   1049156 non-null  object\n",
            " 3   opinion  1049156 non-null  object\n",
            " 4   gmap_id  1049156 non-null  object\n",
            " 5   feeling  1049156 non-null  object\n",
            " 6   state    1049156 non-null  object\n",
            "dtypes: object(7)\n",
            "memory usage: 64.0+ MB\n"
          ]
        }
      ]
    },
    {
      "cell_type": "markdown",
      "source": [
        "### Part IV"
      ],
      "metadata": {
        "id": "C8pWU75V2quj"
      }
    },
    {
      "cell_type": "code",
      "source": [
        "df_reviewg_4.info()"
      ],
      "metadata": {
        "colab": {
          "base_uri": "https://localhost:8080/"
        },
        "outputId": "81d18405-9e41-4984-9ab7-a0b78d10cbad",
        "id": "sbH0l-jC2quk"
      },
      "execution_count": null,
      "outputs": [
        {
          "output_type": "stream",
          "name": "stdout",
          "text": [
            "<class 'pandas.core.frame.DataFrame'>\n",
            "RangeIndex: 3381800 entries, 0 to 3381799\n",
            "Data columns (total 7 columns):\n",
            " #   Column   Dtype \n",
            "---  ------   ----- \n",
            " 0   user_id  object\n",
            " 1   date     object\n",
            " 2   rating   object\n",
            " 3   opinion  object\n",
            " 4   gmap_id  object\n",
            " 5   feeling  object\n",
            " 6   state    object\n",
            "dtypes: object(7)\n",
            "memory usage: 180.6+ MB\n"
          ]
        }
      ]
    },
    {
      "cell_type": "code",
      "source": [
        "df_review_4f = df_reviewg_4[df_reviewg_4['gmap_id'].isin(df_meta['gmap_id'])]"
      ],
      "metadata": {
        "id": "_tKcqZap2quk"
      },
      "execution_count": null,
      "outputs": []
    },
    {
      "cell_type": "code",
      "source": [
        "df_review_4f.info()"
      ],
      "metadata": {
        "colab": {
          "base_uri": "https://localhost:8080/"
        },
        "outputId": "3b289ef5-2a16-4c9a-e1f2-aa642fa35b71",
        "id": "3Wm6zo1s2qul"
      },
      "execution_count": null,
      "outputs": [
        {
          "output_type": "stream",
          "name": "stdout",
          "text": [
            "<class 'pandas.core.frame.DataFrame'>\n",
            "Int64Index: 881426 entries, 3 to 3381799\n",
            "Data columns (total 7 columns):\n",
            " #   Column   Non-Null Count   Dtype \n",
            "---  ------   --------------   ----- \n",
            " 0   user_id  881426 non-null  object\n",
            " 1   date     881426 non-null  object\n",
            " 2   rating   881426 non-null  object\n",
            " 3   opinion  881426 non-null  object\n",
            " 4   gmap_id  881426 non-null  object\n",
            " 5   feeling  881426 non-null  object\n",
            " 6   state    881426 non-null  object\n",
            "dtypes: object(7)\n",
            "memory usage: 53.8+ MB\n"
          ]
        }
      ]
    },
    {
      "cell_type": "markdown",
      "source": [
        "### Review concatenated\n",
        "\n"
      ],
      "metadata": {
        "id": "RP2i8KSX20x5"
      }
    },
    {
      "cell_type": "code",
      "source": [
        "dataframes = [df_review_1f, df_review_2f, df_review_3f, df_review_4f]\n",
        "df_reviewg = pd.concat(dataframes, axis=0)\n",
        "df_reviewg = df_reviewg.reset_index(drop=True)\n",
        "df_reviewg.info()"
      ],
      "metadata": {
        "id": "AoWgZKq_25jA",
        "colab": {
          "base_uri": "https://localhost:8080/"
        },
        "outputId": "6021c20f-33a2-492b-f525-a3339a3e2fac"
      },
      "execution_count": null,
      "outputs": [
        {
          "output_type": "stream",
          "name": "stdout",
          "text": [
            "<class 'pandas.core.frame.DataFrame'>\n",
            "RangeIndex: 4207091 entries, 0 to 4207090\n",
            "Data columns (total 7 columns):\n",
            " #   Column   Dtype \n",
            "---  ------   ----- \n",
            " 0   user_id  object\n",
            " 1   date     object\n",
            " 2   rating   object\n",
            " 3   opinion  object\n",
            " 4   gmap_id  object\n",
            " 5   feeling  object\n",
            " 6   state    object\n",
            "dtypes: object(7)\n",
            "memory usage: 224.7+ MB\n"
          ]
        }
      ]
    },
    {
      "cell_type": "code",
      "source": [
        "df_reviewg['opinion_length'] = df_reviewg['opinion'].apply(lambda x: 1 if len(x.replace(\" \", \"\")) > 30 else 0)"
      ],
      "metadata": {
        "id": "8OVMXxQAZitM"
      },
      "execution_count": null,
      "outputs": []
    },
    {
      "cell_type": "code",
      "source": [
        "df_reviewg[\"opinion_length\"].value_counts()"
      ],
      "metadata": {
        "colab": {
          "base_uri": "https://localhost:8080/"
        },
        "id": "W1xbsRmFZx1X",
        "outputId": "3307c634-7deb-4179-eb85-881075b712fa"
      },
      "execution_count": null,
      "outputs": [
        {
          "output_type": "execute_result",
          "data": {
            "text/plain": [
              "0    2543296\n",
              "1    1663795\n",
              "Name: opinion_length, dtype: int64"
            ]
          },
          "metadata": {},
          "execution_count": 45
        }
      ]
    },
    {
      "cell_type": "code",
      "source": [
        "df_reviewg.drop([\"user_id\"], axis=1, inplace=True)"
      ],
      "metadata": {
        "id": "WBd-RD3VPTR5"
      },
      "execution_count": null,
      "outputs": []
    },
    {
      "cell_type": "markdown",
      "source": [
        "## Metadata Extra"
      ],
      "metadata": {
        "id": "TClsBu0Vl6WQ"
      }
    },
    {
      "cell_type": "markdown",
      "source": [
        "### Extraer datos de Review"
      ],
      "metadata": {
        "id": "c14eRa8mmWQh"
      }
    },
    {
      "cell_type": "code",
      "source": [
        "df_reviewg['date'] = pd.to_datetime(df_reviewg['date'])"
      ],
      "metadata": {
        "id": "MQZjlcysm2_B"
      },
      "execution_count": null,
      "outputs": []
    },
    {
      "cell_type": "code",
      "source": [
        "# Obtener una lista de los ids de restaurantes que recibieron al menos un comentario en 2019 y 2021 respectivamente\n",
        "comment_2019 = list(df_reviewg[df_reviewg.date.dt.year == 2019]['gmap_id'].unique())\n",
        "comment_2021 = list(df_reviewg[df_reviewg.date.dt.year == 2021]['gmap_id'].unique())\n",
        "\n",
        "# Crear un nuevo dataframe con valores únicos de 'gmap_id'\n",
        "comments = pd.DataFrame(df_reviewg['gmap_id'].unique(), columns=['gmap_id'])\n",
        "# Agregar al dataframe dos columnas indicando si el restaurante tuvo o no comentarios en los respectivos años\n",
        "comments['comment_2019'] = comments['gmap_id'].apply(lambda x: int(x in comment_2019))\n",
        "comments['comment_2021'] = comments['gmap_id'].apply(lambda x: int(x in comment_2021))"
      ],
      "metadata": {
        "id": "x7u5SGf_l8jh"
      },
      "execution_count": null,
      "outputs": []
    },
    {
      "cell_type": "code",
      "source": [
        "# Realizar left join basado en 'gmap_id'\n",
        "df_meta2 = pd.merge(df_meta, comments, on='gmap_id', how='left')\n",
        "df_meta2.info()"
      ],
      "metadata": {
        "colab": {
          "base_uri": "https://localhost:8080/"
        },
        "id": "2B_O0eIUolNi",
        "outputId": "ced85eb3-8652-44b7-9be2-055cc0083efe"
      },
      "execution_count": null,
      "outputs": [
        {
          "output_type": "stream",
          "name": "stdout",
          "text": [
            "<class 'pandas.core.frame.DataFrame'>\n",
            "Int64Index: 323024 entries, 0 to 323023\n",
            "Data columns (total 11 columns):\n",
            " #   Column          Non-Null Count   Dtype  \n",
            "---  ------          --------------   -----  \n",
            " 0   local_name      323024 non-null  object \n",
            " 1   gmap_id         323024 non-null  object \n",
            " 2   latitude        323024 non-null  object \n",
            " 3   longitude       323024 non-null  object \n",
            " 4   avg_rating      323024 non-null  object \n",
            " 5   num_of_reviews  323024 non-null  object \n",
            " 6   rest_category   323024 non-null  object \n",
            " 7   abierto         285694 non-null  object \n",
            " 8   service         273310 non-null  object \n",
            " 9   comment_2019    52374 non-null   float64\n",
            " 10  comment_2021    52374 non-null   float64\n",
            "dtypes: float64(2), object(9)\n",
            "memory usage: 29.6+ MB\n"
          ]
        }
      ]
    },
    {
      "cell_type": "code",
      "source": [
        "# Agrupar por subcategoría y sumar 'comment_2019' y 'comment_2021'\n",
        "grouped_data = df_meta2.groupby('rest_category')['comment_2019', 'comment_2021'].sum()\n",
        "grouped_data['percentage'] = round(grouped_data.comment_2021/grouped_data.comment_2019*100,2)\n",
        "grouped_data"
      ],
      "metadata": {
        "colab": {
          "base_uri": "https://localhost:8080/",
          "height": 418
        },
        "id": "akof-hK4ptxF",
        "outputId": "61f76108-cbf6-4dee-c50e-4164645f04cb"
      },
      "execution_count": null,
      "outputs": [
        {
          "output_type": "stream",
          "name": "stderr",
          "text": [
            "<ipython-input-50-84de281747bf>:2: FutureWarning: Indexing with multiple keys (implicitly converted to a tuple of keys) will be deprecated, use a list instead.\n",
            "  grouped_data = df_meta2.groupby('rest_category')['comment_2019', 'comment_2021'].sum()\n"
          ]
        },
        {
          "output_type": "execute_result",
          "data": {
            "text/plain": [
              "                  comment_2019  comment_2021  percentage\n",
              "rest_category                                           \n",
              "Bar                    12991.0       10906.0       83.95\n",
              "Desayuno                6075.0        5187.0       85.38\n",
              "Epecial                 2346.0        2110.0       89.94\n",
              "Fast food               3669.0        3288.0       89.62\n",
              "Internacional           4195.0        3822.0       91.11\n",
              "Mexicana                2316.0        2263.0       97.71\n",
              "Pizza & Sandwich        3948.0        3327.0       84.27\n",
              "Sin Dato                3454.0        3534.0      102.32\n",
              "Tradicional             1972.0        1903.0       96.50"
            ],
            "text/html": [
              "\n",
              "  <div id=\"df-4669de9a-07fc-4f6d-8115-5b5095c08e65\">\n",
              "    <div class=\"colab-df-container\">\n",
              "      <div>\n",
              "<style scoped>\n",
              "    .dataframe tbody tr th:only-of-type {\n",
              "        vertical-align: middle;\n",
              "    }\n",
              "\n",
              "    .dataframe tbody tr th {\n",
              "        vertical-align: top;\n",
              "    }\n",
              "\n",
              "    .dataframe thead th {\n",
              "        text-align: right;\n",
              "    }\n",
              "</style>\n",
              "<table border=\"1\" class=\"dataframe\">\n",
              "  <thead>\n",
              "    <tr style=\"text-align: right;\">\n",
              "      <th></th>\n",
              "      <th>comment_2019</th>\n",
              "      <th>comment_2021</th>\n",
              "      <th>percentage</th>\n",
              "    </tr>\n",
              "    <tr>\n",
              "      <th>rest_category</th>\n",
              "      <th></th>\n",
              "      <th></th>\n",
              "      <th></th>\n",
              "    </tr>\n",
              "  </thead>\n",
              "  <tbody>\n",
              "    <tr>\n",
              "      <th>Bar</th>\n",
              "      <td>12991.0</td>\n",
              "      <td>10906.0</td>\n",
              "      <td>83.95</td>\n",
              "    </tr>\n",
              "    <tr>\n",
              "      <th>Desayuno</th>\n",
              "      <td>6075.0</td>\n",
              "      <td>5187.0</td>\n",
              "      <td>85.38</td>\n",
              "    </tr>\n",
              "    <tr>\n",
              "      <th>Epecial</th>\n",
              "      <td>2346.0</td>\n",
              "      <td>2110.0</td>\n",
              "      <td>89.94</td>\n",
              "    </tr>\n",
              "    <tr>\n",
              "      <th>Fast food</th>\n",
              "      <td>3669.0</td>\n",
              "      <td>3288.0</td>\n",
              "      <td>89.62</td>\n",
              "    </tr>\n",
              "    <tr>\n",
              "      <th>Internacional</th>\n",
              "      <td>4195.0</td>\n",
              "      <td>3822.0</td>\n",
              "      <td>91.11</td>\n",
              "    </tr>\n",
              "    <tr>\n",
              "      <th>Mexicana</th>\n",
              "      <td>2316.0</td>\n",
              "      <td>2263.0</td>\n",
              "      <td>97.71</td>\n",
              "    </tr>\n",
              "    <tr>\n",
              "      <th>Pizza &amp; Sandwich</th>\n",
              "      <td>3948.0</td>\n",
              "      <td>3327.0</td>\n",
              "      <td>84.27</td>\n",
              "    </tr>\n",
              "    <tr>\n",
              "      <th>Sin Dato</th>\n",
              "      <td>3454.0</td>\n",
              "      <td>3534.0</td>\n",
              "      <td>102.32</td>\n",
              "    </tr>\n",
              "    <tr>\n",
              "      <th>Tradicional</th>\n",
              "      <td>1972.0</td>\n",
              "      <td>1903.0</td>\n",
              "      <td>96.50</td>\n",
              "    </tr>\n",
              "  </tbody>\n",
              "</table>\n",
              "</div>\n",
              "      <button class=\"colab-df-convert\" onclick=\"convertToInteractive('df-4669de9a-07fc-4f6d-8115-5b5095c08e65')\"\n",
              "              title=\"Convert this dataframe to an interactive table.\"\n",
              "              style=\"display:none;\">\n",
              "        \n",
              "  <svg xmlns=\"http://www.w3.org/2000/svg\" height=\"24px\"viewBox=\"0 0 24 24\"\n",
              "       width=\"24px\">\n",
              "    <path d=\"M0 0h24v24H0V0z\" fill=\"none\"/>\n",
              "    <path d=\"M18.56 5.44l.94 2.06.94-2.06 2.06-.94-2.06-.94-.94-2.06-.94 2.06-2.06.94zm-11 1L8.5 8.5l.94-2.06 2.06-.94-2.06-.94L8.5 2.5l-.94 2.06-2.06.94zm10 10l.94 2.06.94-2.06 2.06-.94-2.06-.94-.94-2.06-.94 2.06-2.06.94z\"/><path d=\"M17.41 7.96l-1.37-1.37c-.4-.4-.92-.59-1.43-.59-.52 0-1.04.2-1.43.59L10.3 9.45l-7.72 7.72c-.78.78-.78 2.05 0 2.83L4 21.41c.39.39.9.59 1.41.59.51 0 1.02-.2 1.41-.59l7.78-7.78 2.81-2.81c.8-.78.8-2.07 0-2.86zM5.41 20L4 18.59l7.72-7.72 1.47 1.35L5.41 20z\"/>\n",
              "  </svg>\n",
              "      </button>\n",
              "      \n",
              "  <style>\n",
              "    .colab-df-container {\n",
              "      display:flex;\n",
              "      flex-wrap:wrap;\n",
              "      gap: 12px;\n",
              "    }\n",
              "\n",
              "    .colab-df-convert {\n",
              "      background-color: #E8F0FE;\n",
              "      border: none;\n",
              "      border-radius: 50%;\n",
              "      cursor: pointer;\n",
              "      display: none;\n",
              "      fill: #1967D2;\n",
              "      height: 32px;\n",
              "      padding: 0 0 0 0;\n",
              "      width: 32px;\n",
              "    }\n",
              "\n",
              "    .colab-df-convert:hover {\n",
              "      background-color: #E2EBFA;\n",
              "      box-shadow: 0px 1px 2px rgba(60, 64, 67, 0.3), 0px 1px 3px 1px rgba(60, 64, 67, 0.15);\n",
              "      fill: #174EA6;\n",
              "    }\n",
              "\n",
              "    [theme=dark] .colab-df-convert {\n",
              "      background-color: #3B4455;\n",
              "      fill: #D2E3FC;\n",
              "    }\n",
              "\n",
              "    [theme=dark] .colab-df-convert:hover {\n",
              "      background-color: #434B5C;\n",
              "      box-shadow: 0px 1px 3px 1px rgba(0, 0, 0, 0.15);\n",
              "      filter: drop-shadow(0px 1px 2px rgba(0, 0, 0, 0.3));\n",
              "      fill: #FFFFFF;\n",
              "    }\n",
              "  </style>\n",
              "\n",
              "      <script>\n",
              "        const buttonEl =\n",
              "          document.querySelector('#df-4669de9a-07fc-4f6d-8115-5b5095c08e65 button.colab-df-convert');\n",
              "        buttonEl.style.display =\n",
              "          google.colab.kernel.accessAllowed ? 'block' : 'none';\n",
              "\n",
              "        async function convertToInteractive(key) {\n",
              "          const element = document.querySelector('#df-4669de9a-07fc-4f6d-8115-5b5095c08e65');\n",
              "          const dataTable =\n",
              "            await google.colab.kernel.invokeFunction('convertToInteractive',\n",
              "                                                     [key], {});\n",
              "          if (!dataTable) return;\n",
              "\n",
              "          const docLinkHtml = 'Like what you see? Visit the ' +\n",
              "            '<a target=\"_blank\" href=https://colab.research.google.com/notebooks/data_table.ipynb>data table notebook</a>'\n",
              "            + ' to learn more about interactive tables.';\n",
              "          element.innerHTML = '';\n",
              "          dataTable['output_type'] = 'display_data';\n",
              "          await google.colab.output.renderOutput(dataTable, element);\n",
              "          const docLink = document.createElement('div');\n",
              "          docLink.innerHTML = docLinkHtml;\n",
              "          element.appendChild(docLink);\n",
              "        }\n",
              "      </script>\n",
              "    </div>\n",
              "  </div>\n",
              "  "
            ]
          },
          "metadata": {},
          "execution_count": 50
        }
      ]
    },
    {
      "cell_type": "markdown",
      "source": [
        "## Exportar Metadata & Reviews"
      ],
      "metadata": {
        "id": "O-DJ3fJMaEdV"
      }
    },
    {
      "cell_type": "code",
      "source": [
        "#Filtrar registros según estados\n",
        "df_meta2 = df_meta2[df_meta2['gmap_id'].isin(df_reviewg['gmap_id'].unique())]\n",
        "# Transpasar la columna state a metadata\n",
        "df_meta2 = pd.merge(df_meta2, df_reviewg.drop_duplicates(subset=['gmap_id', 'state'])[['gmap_id', 'state']], on='gmap_id', how='left')\n",
        "# Eliminar columna state de review\n",
        "df_reviewg.drop(['state'], axis=1, inplace=True)"
      ],
      "metadata": {
        "id": "qNT7QeWcAfGi"
      },
      "execution_count": null,
      "outputs": []
    },
    {
      "cell_type": "code",
      "source": [
        "# Exportar archivos\n",
        "#df_meta2.to_csv('metadata_google.csv',index = False)\n",
        "#df_reviewg.to_csv('reviews_google_opinion.csv',index = False)"
      ],
      "metadata": {
        "id": "WRwTFSpwaLDQ"
      },
      "execution_count": null,
      "outputs": []
    },
    {
      "cell_type": "markdown",
      "source": [
        "# Places API"
      ],
      "metadata": {
        "id": "eOWgVc3BwCQC"
      }
    },
    {
      "cell_type": "markdown",
      "source": [
        "## Metadata"
      ],
      "metadata": {
        "id": "MuN0M8g3we2s"
      }
    },
    {
      "cell_type": "code",
      "source": [
        "df_meta_API.head()"
      ],
      "metadata": {
        "colab": {
          "base_uri": "https://localhost:8080/",
          "height": 226
        },
        "id": "oHFHLEbDwFXW",
        "outputId": "4e7c7674-7c0d-4680-b1da-12a6e58ca7f4"
      },
      "execution_count": null,
      "outputs": [
        {
          "output_type": "execute_result",
          "data": {
            "text/plain": [
              "                            name rating    latitude     longitude  \\\n",
              "0              Me-n-Eds Pizzeria    3.3  35.4068787  -118.8608044   \n",
              "1  Aldo's Nightclub & Restaurant    3.5  36.7501293  -119.8191931   \n",
              "2                         Sbarro    3.6   34.268505   -119.248604   \n",
              "3     Mariani's Inn & Restaurant    3.6  37.3520406  -121.9709216   \n",
              "4         Chipotle Mexican Grill    3.7  33.9555803   -117.389443   \n",
              "\n",
              "                      place_id state  \n",
              "0  ChIJt8G5AcFz6oAReUBzQ4TH4n4    CA  \n",
              "1  ChIJU18cdjNnlIARvNaox9xVRQo    CA  \n",
              "2  ChIJOe2yJ0-t6YARCL1ZJuhaf-o    CA  \n",
              "3  ChIJ352eomrKj4ARbeF9qPRatko    CA  \n",
              "4  ChIJZfD597ax3IAR-wBRMm2p9WM    CA  "
            ],
            "text/html": [
              "\n",
              "  <div id=\"df-3630e04f-eb3d-4741-90dc-e7c607226644\">\n",
              "    <div class=\"colab-df-container\">\n",
              "      <div>\n",
              "<style scoped>\n",
              "    .dataframe tbody tr th:only-of-type {\n",
              "        vertical-align: middle;\n",
              "    }\n",
              "\n",
              "    .dataframe tbody tr th {\n",
              "        vertical-align: top;\n",
              "    }\n",
              "\n",
              "    .dataframe thead th {\n",
              "        text-align: right;\n",
              "    }\n",
              "</style>\n",
              "<table border=\"1\" class=\"dataframe\">\n",
              "  <thead>\n",
              "    <tr style=\"text-align: right;\">\n",
              "      <th></th>\n",
              "      <th>name</th>\n",
              "      <th>rating</th>\n",
              "      <th>latitude</th>\n",
              "      <th>longitude</th>\n",
              "      <th>place_id</th>\n",
              "      <th>state</th>\n",
              "    </tr>\n",
              "  </thead>\n",
              "  <tbody>\n",
              "    <tr>\n",
              "      <th>0</th>\n",
              "      <td>Me-n-Eds Pizzeria</td>\n",
              "      <td>3.3</td>\n",
              "      <td>35.4068787</td>\n",
              "      <td>-118.8608044</td>\n",
              "      <td>ChIJt8G5AcFz6oAReUBzQ4TH4n4</td>\n",
              "      <td>CA</td>\n",
              "    </tr>\n",
              "    <tr>\n",
              "      <th>1</th>\n",
              "      <td>Aldo's Nightclub &amp; Restaurant</td>\n",
              "      <td>3.5</td>\n",
              "      <td>36.7501293</td>\n",
              "      <td>-119.8191931</td>\n",
              "      <td>ChIJU18cdjNnlIARvNaox9xVRQo</td>\n",
              "      <td>CA</td>\n",
              "    </tr>\n",
              "    <tr>\n",
              "      <th>2</th>\n",
              "      <td>Sbarro</td>\n",
              "      <td>3.6</td>\n",
              "      <td>34.268505</td>\n",
              "      <td>-119.248604</td>\n",
              "      <td>ChIJOe2yJ0-t6YARCL1ZJuhaf-o</td>\n",
              "      <td>CA</td>\n",
              "    </tr>\n",
              "    <tr>\n",
              "      <th>3</th>\n",
              "      <td>Mariani's Inn &amp; Restaurant</td>\n",
              "      <td>3.6</td>\n",
              "      <td>37.3520406</td>\n",
              "      <td>-121.9709216</td>\n",
              "      <td>ChIJ352eomrKj4ARbeF9qPRatko</td>\n",
              "      <td>CA</td>\n",
              "    </tr>\n",
              "    <tr>\n",
              "      <th>4</th>\n",
              "      <td>Chipotle Mexican Grill</td>\n",
              "      <td>3.7</td>\n",
              "      <td>33.9555803</td>\n",
              "      <td>-117.389443</td>\n",
              "      <td>ChIJZfD597ax3IAR-wBRMm2p9WM</td>\n",
              "      <td>CA</td>\n",
              "    </tr>\n",
              "  </tbody>\n",
              "</table>\n",
              "</div>\n",
              "      <button class=\"colab-df-convert\" onclick=\"convertToInteractive('df-3630e04f-eb3d-4741-90dc-e7c607226644')\"\n",
              "              title=\"Convert this dataframe to an interactive table.\"\n",
              "              style=\"display:none;\">\n",
              "        \n",
              "  <svg xmlns=\"http://www.w3.org/2000/svg\" height=\"24px\"viewBox=\"0 0 24 24\"\n",
              "       width=\"24px\">\n",
              "    <path d=\"M0 0h24v24H0V0z\" fill=\"none\"/>\n",
              "    <path d=\"M18.56 5.44l.94 2.06.94-2.06 2.06-.94-2.06-.94-.94-2.06-.94 2.06-2.06.94zm-11 1L8.5 8.5l.94-2.06 2.06-.94-2.06-.94L8.5 2.5l-.94 2.06-2.06.94zm10 10l.94 2.06.94-2.06 2.06-.94-2.06-.94-.94-2.06-.94 2.06-2.06.94z\"/><path d=\"M17.41 7.96l-1.37-1.37c-.4-.4-.92-.59-1.43-.59-.52 0-1.04.2-1.43.59L10.3 9.45l-7.72 7.72c-.78.78-.78 2.05 0 2.83L4 21.41c.39.39.9.59 1.41.59.51 0 1.02-.2 1.41-.59l7.78-7.78 2.81-2.81c.8-.78.8-2.07 0-2.86zM5.41 20L4 18.59l7.72-7.72 1.47 1.35L5.41 20z\"/>\n",
              "  </svg>\n",
              "      </button>\n",
              "      \n",
              "  <style>\n",
              "    .colab-df-container {\n",
              "      display:flex;\n",
              "      flex-wrap:wrap;\n",
              "      gap: 12px;\n",
              "    }\n",
              "\n",
              "    .colab-df-convert {\n",
              "      background-color: #E8F0FE;\n",
              "      border: none;\n",
              "      border-radius: 50%;\n",
              "      cursor: pointer;\n",
              "      display: none;\n",
              "      fill: #1967D2;\n",
              "      height: 32px;\n",
              "      padding: 0 0 0 0;\n",
              "      width: 32px;\n",
              "    }\n",
              "\n",
              "    .colab-df-convert:hover {\n",
              "      background-color: #E2EBFA;\n",
              "      box-shadow: 0px 1px 2px rgba(60, 64, 67, 0.3), 0px 1px 3px 1px rgba(60, 64, 67, 0.15);\n",
              "      fill: #174EA6;\n",
              "    }\n",
              "\n",
              "    [theme=dark] .colab-df-convert {\n",
              "      background-color: #3B4455;\n",
              "      fill: #D2E3FC;\n",
              "    }\n",
              "\n",
              "    [theme=dark] .colab-df-convert:hover {\n",
              "      background-color: #434B5C;\n",
              "      box-shadow: 0px 1px 3px 1px rgba(0, 0, 0, 0.15);\n",
              "      filter: drop-shadow(0px 1px 2px rgba(0, 0, 0, 0.3));\n",
              "      fill: #FFFFFF;\n",
              "    }\n",
              "  </style>\n",
              "\n",
              "      <script>\n",
              "        const buttonEl =\n",
              "          document.querySelector('#df-3630e04f-eb3d-4741-90dc-e7c607226644 button.colab-df-convert');\n",
              "        buttonEl.style.display =\n",
              "          google.colab.kernel.accessAllowed ? 'block' : 'none';\n",
              "\n",
              "        async function convertToInteractive(key) {\n",
              "          const element = document.querySelector('#df-3630e04f-eb3d-4741-90dc-e7c607226644');\n",
              "          const dataTable =\n",
              "            await google.colab.kernel.invokeFunction('convertToInteractive',\n",
              "                                                     [key], {});\n",
              "          if (!dataTable) return;\n",
              "\n",
              "          const docLinkHtml = 'Like what you see? Visit the ' +\n",
              "            '<a target=\"_blank\" href=https://colab.research.google.com/notebooks/data_table.ipynb>data table notebook</a>'\n",
              "            + ' to learn more about interactive tables.';\n",
              "          element.innerHTML = '';\n",
              "          dataTable['output_type'] = 'display_data';\n",
              "          await google.colab.output.renderOutput(dataTable, element);\n",
              "          const docLink = document.createElement('div');\n",
              "          docLink.innerHTML = docLinkHtml;\n",
              "          element.appendChild(docLink);\n",
              "        }\n",
              "      </script>\n",
              "    </div>\n",
              "  </div>\n",
              "  "
            ]
          },
          "metadata": {},
          "execution_count": 8
        }
      ]
    },
    {
      "cell_type": "code",
      "source": [
        "df_meta_API.info()"
      ],
      "metadata": {
        "colab": {
          "base_uri": "https://localhost:8080/"
        },
        "id": "8ClYFEJkyuzj",
        "outputId": "e5879936-7233-441e-ef0a-91aa9b0f2686"
      },
      "execution_count": null,
      "outputs": [
        {
          "output_type": "stream",
          "name": "stdout",
          "text": [
            "<class 'pandas.core.frame.DataFrame'>\n",
            "RangeIndex: 1326 entries, 0 to 1325\n",
            "Data columns (total 6 columns):\n",
            " #   Column     Non-Null Count  Dtype \n",
            "---  ------     --------------  ----- \n",
            " 0   name       1326 non-null   object\n",
            " 1   rating     1326 non-null   object\n",
            " 2   latitude   1326 non-null   object\n",
            " 3   longitude  1326 non-null   object\n",
            " 4   place_id   1326 non-null   object\n",
            " 5   state      1326 non-null   object\n",
            "dtypes: object(6)\n",
            "memory usage: 62.3+ KB\n"
          ]
        }
      ]
    },
    {
      "cell_type": "code",
      "source": [
        "# Verificando si existe coincidencia entre los negocios adicionales y los ya existentes\n",
        "# Conclusión: todos los negocios son nuevos\n",
        "df_meta_API[df_meta_API['place_id'].isin(df_meta2['gmap_id'])].info()"
      ],
      "metadata": {
        "colab": {
          "base_uri": "https://localhost:8080/"
        },
        "id": "KgDKuwW1yfwC",
        "outputId": "7ebbee22-2f0f-460b-b3be-184d95b58853"
      },
      "execution_count": null,
      "outputs": [
        {
          "output_type": "stream",
          "name": "stdout",
          "text": [
            "<class 'pandas.core.frame.DataFrame'>\n",
            "Int64Index: 0 entries\n",
            "Data columns (total 6 columns):\n",
            " #   Column     Non-Null Count  Dtype \n",
            "---  ------     --------------  ----- \n",
            " 0   name       0 non-null      object\n",
            " 1   rating     0 non-null      object\n",
            " 2   latitude   0 non-null      object\n",
            " 3   longitude  0 non-null      object\n",
            " 4   place_id   0 non-null      object\n",
            " 5   state      0 non-null      object\n",
            "dtypes: object(6)\n",
            "memory usage: 0.0+ bytes\n"
          ]
        }
      ]
    },
    {
      "cell_type": "code",
      "source": [
        "df_meta_API.state.value_counts()"
      ],
      "metadata": {
        "colab": {
          "base_uri": "https://localhost:8080/"
        },
        "id": "04NVwP5l1Ib6",
        "outputId": "16edd28b-14d2-4169-ab69-e6ccdee3f7d3"
      },
      "execution_count": null,
      "outputs": [
        {
          "output_type": "execute_result",
          "data": {
            "text/plain": [
              "TX    278\n",
              "NY    269\n",
              "PA    266\n",
              "FL    258\n",
              "CA    255\n",
              "Name: state, dtype: int64"
            ]
          },
          "metadata": {},
          "execution_count": 60
        }
      ]
    },
    {
      "cell_type": "code",
      "source": [
        "# Categorizar restaurantes\n",
        "\n",
        "df_meta_API['rest_category'] = df_meta_API['name'].apply(categorize)\n",
        "df_meta_API.rest_category.value_counts()"
      ],
      "metadata": {
        "colab": {
          "base_uri": "https://localhost:8080/"
        },
        "id": "YqFvSA5F2z5m",
        "outputId": "0ea62a85-a8b3-4ed0-9ded-c9f391d72d28"
      },
      "execution_count": null,
      "outputs": [
        {
          "output_type": "execute_result",
          "data": {
            "text/plain": [
              "Sin Dato            873\n",
              "Bar                 105\n",
              "Pizza & Sandwich     99\n",
              "Tradicional          74\n",
              "Internacional        63\n",
              "Desayuno             54\n",
              "Mexicana             37\n",
              "Epecial              21\n",
              "Name: rest_category, dtype: int64"
            ]
          },
          "metadata": {},
          "execution_count": 64
        }
      ]
    },
    {
      "cell_type": "code",
      "source": [
        "df_meta_API[df_meta_API['rest_category'] == 'Sin Dato'].iloc[500:520]"
      ],
      "metadata": {
        "colab": {
          "base_uri": "https://localhost:8080/",
          "height": 677
        },
        "id": "BxCOgJZr3OMv",
        "outputId": "bb3589e5-6e63-4459-8220-6b92cdcbdce6"
      },
      "execution_count": null,
      "outputs": [
        {
          "output_type": "execute_result",
          "data": {
            "text/plain": [
              "                                name rating           latitude  \\\n",
              "765                        Starbucks    4.0  40.83542500000001   \n",
              "766                        Starbucks    4.1         40.5866036   \n",
              "767                        Starbucks    4.1         42.6463389   \n",
              "768                        Starbucks    4.2         40.7394418   \n",
              "769                        Starbucks    4.3  41.13441099999999   \n",
              "770                     Panera Bread    3.9          40.578223   \n",
              "771                     Panera Bread    3.9         41.3197928   \n",
              "776                  Texas Roadhouse    4.4          43.055556   \n",
              "782            Einstein Bros. Bagels    2.9  39.86047440000001   \n",
              "783            Moe's Southwest Grill    2.9         39.8605367   \n",
              "785                           Sheetz    3.0  40.65589389999999   \n",
              "786                              KFC    3.3  39.87100179999999   \n",
              "788                     Coen Markets    3.4         40.2029698   \n",
              "789              Philly Tap & Tavern    3.6  39.85119869999999   \n",
              "791  The Jetport Restaurant & Lounge    3.6         40.6575136   \n",
              "793            Moe's Southwest Grill    3.7         40.6566459   \n",
              "794     Indigo Restaurant and Lounge    3.7  40.62587200000001   \n",
              "795      Presque Isle Downs & Casino    3.8  42.06850590000001   \n",
              "798                     White Castle    3.8  40.62384609999999   \n",
              "799               SUBWAY Restaurants    3.9  41.02005090000001   \n",
              "\n",
              "              longitude                     place_id state rest_category  \n",
              "765         -73.8613878  ChIJn3PuW770wokRue-aOe6Cor0    NY      Sin Dato  \n",
              "766  -74.16765010000002  ChIJ3TEo9H5MwokRXzJ1dhknM54    NY      Sin Dato  \n",
              "767         -73.6971914  ChIJXbbZeFII3okRDH7KcpGz900    NY      Sin Dato  \n",
              "768         -73.7854773  ChIJ2RQH-bBhwokRTxgg6q8oot0    NY      Sin Dato  \n",
              "769          -73.793157  ChIJc-lvXuK-wokRfxMWiw7SgAc    NY      Sin Dato  \n",
              "770          -74.164086  ChIJjdsvDYdLwokRfk6GhNTIugs    NY      Sin Dato  \n",
              "771         -74.1488153  ChIJ7c7jxTzXwokR8I_TL8dG47A    NY      Sin Dato  \n",
              "776           -76.07739  ChIJkbj8U9iM2YkRPGRqiH5dHp4    NY      Sin Dato  \n",
              "782          -75.359206  ChIJlyJGZOHnxokRVtOG83G3D3w    PA      Sin Dato  \n",
              "783         -75.3589128  ChIJcYQHYO7nxokR2MPe8F3gAL0    PA      Sin Dato  \n",
              "785         -75.4174639  ChIJhZMrTUE_xIkRnLBYFvcbIj8    PA      Sin Dato  \n",
              "786  -75.38469309999999  ChIJ5-vC9X7oxokRDGDoQKr5oHo    PA      Sin Dato  \n",
              "788         -79.4976136  ChIJy2wI8vPWNIgRQocUSEyauU4    PA      Sin Dato  \n",
              "789         -75.3483421  ChIJk-yhv_DnxokRKfxcDUM3lZE    PA      Sin Dato  \n",
              "791  -75.42695259999999  ChIJIf_3RUk_xIkR1L0cRFhQfnM    PA      Sin Dato  \n",
              "793         -75.4181509  ChIJb9FLqEY_xIkRsQFVfW9tEUc    PA      Sin Dato  \n",
              "794          -75.487444  ChIJtcr3-KM5xIkRCquC2vj-_Qs    PA      Sin Dato  \n",
              "795  -80.03093910000001  ChIJ5X8MKRKBMogRkBd-Af82CFE    PA      Sin Dato  \n",
              "798         -75.4824665  ChIJW4zGlKA5xIkRcl3o9Uqhivk    PA      Sin Dato  \n",
              "799  -76.85455069999999  ChIJvekPTmkNz4kR9LifcG_kFgc    PA      Sin Dato  "
            ],
            "text/html": [
              "\n",
              "  <div id=\"df-37b96d9c-9f54-4e2e-907e-875e209ea3e6\">\n",
              "    <div class=\"colab-df-container\">\n",
              "      <div>\n",
              "<style scoped>\n",
              "    .dataframe tbody tr th:only-of-type {\n",
              "        vertical-align: middle;\n",
              "    }\n",
              "\n",
              "    .dataframe tbody tr th {\n",
              "        vertical-align: top;\n",
              "    }\n",
              "\n",
              "    .dataframe thead th {\n",
              "        text-align: right;\n",
              "    }\n",
              "</style>\n",
              "<table border=\"1\" class=\"dataframe\">\n",
              "  <thead>\n",
              "    <tr style=\"text-align: right;\">\n",
              "      <th></th>\n",
              "      <th>name</th>\n",
              "      <th>rating</th>\n",
              "      <th>latitude</th>\n",
              "      <th>longitude</th>\n",
              "      <th>place_id</th>\n",
              "      <th>state</th>\n",
              "      <th>rest_category</th>\n",
              "    </tr>\n",
              "  </thead>\n",
              "  <tbody>\n",
              "    <tr>\n",
              "      <th>765</th>\n",
              "      <td>Starbucks</td>\n",
              "      <td>4.0</td>\n",
              "      <td>40.83542500000001</td>\n",
              "      <td>-73.8613878</td>\n",
              "      <td>ChIJn3PuW770wokRue-aOe6Cor0</td>\n",
              "      <td>NY</td>\n",
              "      <td>Sin Dato</td>\n",
              "    </tr>\n",
              "    <tr>\n",
              "      <th>766</th>\n",
              "      <td>Starbucks</td>\n",
              "      <td>4.1</td>\n",
              "      <td>40.5866036</td>\n",
              "      <td>-74.16765010000002</td>\n",
              "      <td>ChIJ3TEo9H5MwokRXzJ1dhknM54</td>\n",
              "      <td>NY</td>\n",
              "      <td>Sin Dato</td>\n",
              "    </tr>\n",
              "    <tr>\n",
              "      <th>767</th>\n",
              "      <td>Starbucks</td>\n",
              "      <td>4.1</td>\n",
              "      <td>42.6463389</td>\n",
              "      <td>-73.6971914</td>\n",
              "      <td>ChIJXbbZeFII3okRDH7KcpGz900</td>\n",
              "      <td>NY</td>\n",
              "      <td>Sin Dato</td>\n",
              "    </tr>\n",
              "    <tr>\n",
              "      <th>768</th>\n",
              "      <td>Starbucks</td>\n",
              "      <td>4.2</td>\n",
              "      <td>40.7394418</td>\n",
              "      <td>-73.7854773</td>\n",
              "      <td>ChIJ2RQH-bBhwokRTxgg6q8oot0</td>\n",
              "      <td>NY</td>\n",
              "      <td>Sin Dato</td>\n",
              "    </tr>\n",
              "    <tr>\n",
              "      <th>769</th>\n",
              "      <td>Starbucks</td>\n",
              "      <td>4.3</td>\n",
              "      <td>41.13441099999999</td>\n",
              "      <td>-73.793157</td>\n",
              "      <td>ChIJc-lvXuK-wokRfxMWiw7SgAc</td>\n",
              "      <td>NY</td>\n",
              "      <td>Sin Dato</td>\n",
              "    </tr>\n",
              "    <tr>\n",
              "      <th>770</th>\n",
              "      <td>Panera Bread</td>\n",
              "      <td>3.9</td>\n",
              "      <td>40.578223</td>\n",
              "      <td>-74.164086</td>\n",
              "      <td>ChIJjdsvDYdLwokRfk6GhNTIugs</td>\n",
              "      <td>NY</td>\n",
              "      <td>Sin Dato</td>\n",
              "    </tr>\n",
              "    <tr>\n",
              "      <th>771</th>\n",
              "      <td>Panera Bread</td>\n",
              "      <td>3.9</td>\n",
              "      <td>41.3197928</td>\n",
              "      <td>-74.1488153</td>\n",
              "      <td>ChIJ7c7jxTzXwokR8I_TL8dG47A</td>\n",
              "      <td>NY</td>\n",
              "      <td>Sin Dato</td>\n",
              "    </tr>\n",
              "    <tr>\n",
              "      <th>776</th>\n",
              "      <td>Texas Roadhouse</td>\n",
              "      <td>4.4</td>\n",
              "      <td>43.055556</td>\n",
              "      <td>-76.07739</td>\n",
              "      <td>ChIJkbj8U9iM2YkRPGRqiH5dHp4</td>\n",
              "      <td>NY</td>\n",
              "      <td>Sin Dato</td>\n",
              "    </tr>\n",
              "    <tr>\n",
              "      <th>782</th>\n",
              "      <td>Einstein Bros. Bagels</td>\n",
              "      <td>2.9</td>\n",
              "      <td>39.86047440000001</td>\n",
              "      <td>-75.359206</td>\n",
              "      <td>ChIJlyJGZOHnxokRVtOG83G3D3w</td>\n",
              "      <td>PA</td>\n",
              "      <td>Sin Dato</td>\n",
              "    </tr>\n",
              "    <tr>\n",
              "      <th>783</th>\n",
              "      <td>Moe's Southwest Grill</td>\n",
              "      <td>2.9</td>\n",
              "      <td>39.8605367</td>\n",
              "      <td>-75.3589128</td>\n",
              "      <td>ChIJcYQHYO7nxokR2MPe8F3gAL0</td>\n",
              "      <td>PA</td>\n",
              "      <td>Sin Dato</td>\n",
              "    </tr>\n",
              "    <tr>\n",
              "      <th>785</th>\n",
              "      <td>Sheetz</td>\n",
              "      <td>3.0</td>\n",
              "      <td>40.65589389999999</td>\n",
              "      <td>-75.4174639</td>\n",
              "      <td>ChIJhZMrTUE_xIkRnLBYFvcbIj8</td>\n",
              "      <td>PA</td>\n",
              "      <td>Sin Dato</td>\n",
              "    </tr>\n",
              "    <tr>\n",
              "      <th>786</th>\n",
              "      <td>KFC</td>\n",
              "      <td>3.3</td>\n",
              "      <td>39.87100179999999</td>\n",
              "      <td>-75.38469309999999</td>\n",
              "      <td>ChIJ5-vC9X7oxokRDGDoQKr5oHo</td>\n",
              "      <td>PA</td>\n",
              "      <td>Sin Dato</td>\n",
              "    </tr>\n",
              "    <tr>\n",
              "      <th>788</th>\n",
              "      <td>Coen Markets</td>\n",
              "      <td>3.4</td>\n",
              "      <td>40.2029698</td>\n",
              "      <td>-79.4976136</td>\n",
              "      <td>ChIJy2wI8vPWNIgRQocUSEyauU4</td>\n",
              "      <td>PA</td>\n",
              "      <td>Sin Dato</td>\n",
              "    </tr>\n",
              "    <tr>\n",
              "      <th>789</th>\n",
              "      <td>Philly Tap &amp; Tavern</td>\n",
              "      <td>3.6</td>\n",
              "      <td>39.85119869999999</td>\n",
              "      <td>-75.3483421</td>\n",
              "      <td>ChIJk-yhv_DnxokRKfxcDUM3lZE</td>\n",
              "      <td>PA</td>\n",
              "      <td>Sin Dato</td>\n",
              "    </tr>\n",
              "    <tr>\n",
              "      <th>791</th>\n",
              "      <td>The Jetport Restaurant &amp; Lounge</td>\n",
              "      <td>3.6</td>\n",
              "      <td>40.6575136</td>\n",
              "      <td>-75.42695259999999</td>\n",
              "      <td>ChIJIf_3RUk_xIkR1L0cRFhQfnM</td>\n",
              "      <td>PA</td>\n",
              "      <td>Sin Dato</td>\n",
              "    </tr>\n",
              "    <tr>\n",
              "      <th>793</th>\n",
              "      <td>Moe's Southwest Grill</td>\n",
              "      <td>3.7</td>\n",
              "      <td>40.6566459</td>\n",
              "      <td>-75.4181509</td>\n",
              "      <td>ChIJb9FLqEY_xIkRsQFVfW9tEUc</td>\n",
              "      <td>PA</td>\n",
              "      <td>Sin Dato</td>\n",
              "    </tr>\n",
              "    <tr>\n",
              "      <th>794</th>\n",
              "      <td>Indigo Restaurant and Lounge</td>\n",
              "      <td>3.7</td>\n",
              "      <td>40.62587200000001</td>\n",
              "      <td>-75.487444</td>\n",
              "      <td>ChIJtcr3-KM5xIkRCquC2vj-_Qs</td>\n",
              "      <td>PA</td>\n",
              "      <td>Sin Dato</td>\n",
              "    </tr>\n",
              "    <tr>\n",
              "      <th>795</th>\n",
              "      <td>Presque Isle Downs &amp; Casino</td>\n",
              "      <td>3.8</td>\n",
              "      <td>42.06850590000001</td>\n",
              "      <td>-80.03093910000001</td>\n",
              "      <td>ChIJ5X8MKRKBMogRkBd-Af82CFE</td>\n",
              "      <td>PA</td>\n",
              "      <td>Sin Dato</td>\n",
              "    </tr>\n",
              "    <tr>\n",
              "      <th>798</th>\n",
              "      <td>White Castle</td>\n",
              "      <td>3.8</td>\n",
              "      <td>40.62384609999999</td>\n",
              "      <td>-75.4824665</td>\n",
              "      <td>ChIJW4zGlKA5xIkRcl3o9Uqhivk</td>\n",
              "      <td>PA</td>\n",
              "      <td>Sin Dato</td>\n",
              "    </tr>\n",
              "    <tr>\n",
              "      <th>799</th>\n",
              "      <td>SUBWAY Restaurants</td>\n",
              "      <td>3.9</td>\n",
              "      <td>41.02005090000001</td>\n",
              "      <td>-76.85455069999999</td>\n",
              "      <td>ChIJvekPTmkNz4kR9LifcG_kFgc</td>\n",
              "      <td>PA</td>\n",
              "      <td>Sin Dato</td>\n",
              "    </tr>\n",
              "  </tbody>\n",
              "</table>\n",
              "</div>\n",
              "      <button class=\"colab-df-convert\" onclick=\"convertToInteractive('df-37b96d9c-9f54-4e2e-907e-875e209ea3e6')\"\n",
              "              title=\"Convert this dataframe to an interactive table.\"\n",
              "              style=\"display:none;\">\n",
              "        \n",
              "  <svg xmlns=\"http://www.w3.org/2000/svg\" height=\"24px\"viewBox=\"0 0 24 24\"\n",
              "       width=\"24px\">\n",
              "    <path d=\"M0 0h24v24H0V0z\" fill=\"none\"/>\n",
              "    <path d=\"M18.56 5.44l.94 2.06.94-2.06 2.06-.94-2.06-.94-.94-2.06-.94 2.06-2.06.94zm-11 1L8.5 8.5l.94-2.06 2.06-.94-2.06-.94L8.5 2.5l-.94 2.06-2.06.94zm10 10l.94 2.06.94-2.06 2.06-.94-2.06-.94-.94-2.06-.94 2.06-2.06.94z\"/><path d=\"M17.41 7.96l-1.37-1.37c-.4-.4-.92-.59-1.43-.59-.52 0-1.04.2-1.43.59L10.3 9.45l-7.72 7.72c-.78.78-.78 2.05 0 2.83L4 21.41c.39.39.9.59 1.41.59.51 0 1.02-.2 1.41-.59l7.78-7.78 2.81-2.81c.8-.78.8-2.07 0-2.86zM5.41 20L4 18.59l7.72-7.72 1.47 1.35L5.41 20z\"/>\n",
              "  </svg>\n",
              "      </button>\n",
              "      \n",
              "  <style>\n",
              "    .colab-df-container {\n",
              "      display:flex;\n",
              "      flex-wrap:wrap;\n",
              "      gap: 12px;\n",
              "    }\n",
              "\n",
              "    .colab-df-convert {\n",
              "      background-color: #E8F0FE;\n",
              "      border: none;\n",
              "      border-radius: 50%;\n",
              "      cursor: pointer;\n",
              "      display: none;\n",
              "      fill: #1967D2;\n",
              "      height: 32px;\n",
              "      padding: 0 0 0 0;\n",
              "      width: 32px;\n",
              "    }\n",
              "\n",
              "    .colab-df-convert:hover {\n",
              "      background-color: #E2EBFA;\n",
              "      box-shadow: 0px 1px 2px rgba(60, 64, 67, 0.3), 0px 1px 3px 1px rgba(60, 64, 67, 0.15);\n",
              "      fill: #174EA6;\n",
              "    }\n",
              "\n",
              "    [theme=dark] .colab-df-convert {\n",
              "      background-color: #3B4455;\n",
              "      fill: #D2E3FC;\n",
              "    }\n",
              "\n",
              "    [theme=dark] .colab-df-convert:hover {\n",
              "      background-color: #434B5C;\n",
              "      box-shadow: 0px 1px 3px 1px rgba(0, 0, 0, 0.15);\n",
              "      filter: drop-shadow(0px 1px 2px rgba(0, 0, 0, 0.3));\n",
              "      fill: #FFFFFF;\n",
              "    }\n",
              "  </style>\n",
              "\n",
              "      <script>\n",
              "        const buttonEl =\n",
              "          document.querySelector('#df-37b96d9c-9f54-4e2e-907e-875e209ea3e6 button.colab-df-convert');\n",
              "        buttonEl.style.display =\n",
              "          google.colab.kernel.accessAllowed ? 'block' : 'none';\n",
              "\n",
              "        async function convertToInteractive(key) {\n",
              "          const element = document.querySelector('#df-37b96d9c-9f54-4e2e-907e-875e209ea3e6');\n",
              "          const dataTable =\n",
              "            await google.colab.kernel.invokeFunction('convertToInteractive',\n",
              "                                                     [key], {});\n",
              "          if (!dataTable) return;\n",
              "\n",
              "          const docLinkHtml = 'Like what you see? Visit the ' +\n",
              "            '<a target=\"_blank\" href=https://colab.research.google.com/notebooks/data_table.ipynb>data table notebook</a>'\n",
              "            + ' to learn more about interactive tables.';\n",
              "          element.innerHTML = '';\n",
              "          dataTable['output_type'] = 'display_data';\n",
              "          await google.colab.output.renderOutput(dataTable, element);\n",
              "          const docLink = document.createElement('div');\n",
              "          docLink.innerHTML = docLinkHtml;\n",
              "          element.appendChild(docLink);\n",
              "        }\n",
              "      </script>\n",
              "    </div>\n",
              "  </div>\n",
              "  "
            ]
          },
          "metadata": {},
          "execution_count": 67
        }
      ]
    },
    {
      "cell_type": "code",
      "source": [
        "df_meta_API[df_meta_API['rest_category'] == 'Sin Dato'].name.value_counts()[0:20]"
      ],
      "metadata": {
        "colab": {
          "base_uri": "https://localhost:8080/"
        },
        "id": "xAdEUWJM4l7d",
        "outputId": "bdb1ebed-14ab-4e6d-ef68-246c003313e7"
      },
      "execution_count": null,
      "outputs": [
        {
          "output_type": "execute_result",
          "data": {
            "text/plain": [
              "Subway                       150\n",
              "Starbucks                     28\n",
              "McDonald's                    16\n",
              "Circle K                      13\n",
              "Dunkin'                       11\n",
              "Wawa                          10\n",
              "Panera Bread                   8\n",
              "Wendy's                        8\n",
              "Texas Roadhouse                7\n",
              "Popeyes Louisiana Kitchen      7\n",
              "Shell                          6\n",
              "Chick-fil-A                    6\n",
              "Panda Express                  5\n",
              "Moe's Southwest Grill          5\n",
              "Wingstop                       4\n",
              "Denny's                        4\n",
              "Beef 'O' Brady's               3\n",
              "Red Lobster                    3\n",
              "Joe's Crab Shack               3\n",
              "Jack in the Box                3\n",
              "Name: name, dtype: int64"
            ]
          },
          "metadata": {},
          "execution_count": 71
        }
      ]
    },
    {
      "cell_type": "code",
      "source": [
        "573/1326"
      ],
      "metadata": {
        "colab": {
          "base_uri": "https://localhost:8080/"
        },
        "id": "EMDMnGIh5lEt",
        "outputId": "c5d79ebd-5caa-4666-c120-8fe47c191eec"
      },
      "execution_count": null,
      "outputs": [
        {
          "output_type": "execute_result",
          "data": {
            "text/plain": [
              "0.4321266968325792"
            ]
          },
          "metadata": {},
          "execution_count": 73
        }
      ]
    },
    {
      "cell_type": "markdown",
      "source": [
        "## Reviews"
      ],
      "metadata": {
        "id": "pKCUKA8LzKwg"
      }
    },
    {
      "cell_type": "code",
      "source": [
        "df_reviews_API.head()"
      ],
      "metadata": {
        "colab": {
          "base_uri": "https://localhost:8080/",
          "height": 206
        },
        "id": "j0SruPBhzQsP",
        "outputId": "de6597c8-8b12-42f0-8ed1-f0bafc3ebd8f"
      },
      "execution_count": null,
      "outputs": [
        {
          "output_type": "execute_result",
          "data": {
            "text/plain": [
              "                      place_id  \\\n",
              "0  ChIJ0UCi3amNlIARv4LaG8tx8Nw   \n",
              "1  ChIJ-6I06mBmlIARsXkHNiP2JjU   \n",
              "2  ChIJ-6I06mBmlIARsXkHNiP2JjU   \n",
              "3  ChIJeQ1Xz6FglIARt8qylXnXreo   \n",
              "4  ChIJX4tJJk-t6YARg9pw7vrdsR8   \n",
              "\n",
              "                                          author_url rating  \\\n",
              "0  https://www.google.com/maps/contrib/1079795917...      1   \n",
              "1  https://www.google.com/maps/contrib/1033430646...      1   \n",
              "2  https://www.google.com/maps/contrib/1003307838...      1   \n",
              "3  https://www.google.com/maps/contrib/1087787963...      1   \n",
              "4  https://www.google.com/maps/contrib/1003009940...      1   \n",
              "\n",
              "                                                text        time  feeling  \n",
              "0  Went in to order employee was on the phone tak...  2023-04-22  Neutral  \n",
              "1  Close before time. Subway closing time is 9.00...  2023-04-10  Neutral  \n",
              "2  I go overthere with a subway coupen and they d...  2023-04-06  Neutral  \n",
              "3  Cashier didn’t wash hands l. Just put on glove...  2023-02-08  Neutral  \n",
              "4  The staff needs to learn to communicate with t...  2018-10-08  Neutral  "
            ],
            "text/html": [
              "\n",
              "  <div id=\"df-f9b0376a-07a5-4018-b71a-8af3b22203bb\">\n",
              "    <div class=\"colab-df-container\">\n",
              "      <div>\n",
              "<style scoped>\n",
              "    .dataframe tbody tr th:only-of-type {\n",
              "        vertical-align: middle;\n",
              "    }\n",
              "\n",
              "    .dataframe tbody tr th {\n",
              "        vertical-align: top;\n",
              "    }\n",
              "\n",
              "    .dataframe thead th {\n",
              "        text-align: right;\n",
              "    }\n",
              "</style>\n",
              "<table border=\"1\" class=\"dataframe\">\n",
              "  <thead>\n",
              "    <tr style=\"text-align: right;\">\n",
              "      <th></th>\n",
              "      <th>place_id</th>\n",
              "      <th>author_url</th>\n",
              "      <th>rating</th>\n",
              "      <th>text</th>\n",
              "      <th>time</th>\n",
              "      <th>feeling</th>\n",
              "    </tr>\n",
              "  </thead>\n",
              "  <tbody>\n",
              "    <tr>\n",
              "      <th>0</th>\n",
              "      <td>ChIJ0UCi3amNlIARv4LaG8tx8Nw</td>\n",
              "      <td>https://www.google.com/maps/contrib/1079795917...</td>\n",
              "      <td>1</td>\n",
              "      <td>Went in to order employee was on the phone tak...</td>\n",
              "      <td>2023-04-22</td>\n",
              "      <td>Neutral</td>\n",
              "    </tr>\n",
              "    <tr>\n",
              "      <th>1</th>\n",
              "      <td>ChIJ-6I06mBmlIARsXkHNiP2JjU</td>\n",
              "      <td>https://www.google.com/maps/contrib/1033430646...</td>\n",
              "      <td>1</td>\n",
              "      <td>Close before time. Subway closing time is 9.00...</td>\n",
              "      <td>2023-04-10</td>\n",
              "      <td>Neutral</td>\n",
              "    </tr>\n",
              "    <tr>\n",
              "      <th>2</th>\n",
              "      <td>ChIJ-6I06mBmlIARsXkHNiP2JjU</td>\n",
              "      <td>https://www.google.com/maps/contrib/1003307838...</td>\n",
              "      <td>1</td>\n",
              "      <td>I go overthere with a subway coupen and they d...</td>\n",
              "      <td>2023-04-06</td>\n",
              "      <td>Neutral</td>\n",
              "    </tr>\n",
              "    <tr>\n",
              "      <th>3</th>\n",
              "      <td>ChIJeQ1Xz6FglIARt8qylXnXreo</td>\n",
              "      <td>https://www.google.com/maps/contrib/1087787963...</td>\n",
              "      <td>1</td>\n",
              "      <td>Cashier didn’t wash hands l. Just put on glove...</td>\n",
              "      <td>2023-02-08</td>\n",
              "      <td>Neutral</td>\n",
              "    </tr>\n",
              "    <tr>\n",
              "      <th>4</th>\n",
              "      <td>ChIJX4tJJk-t6YARg9pw7vrdsR8</td>\n",
              "      <td>https://www.google.com/maps/contrib/1003009940...</td>\n",
              "      <td>1</td>\n",
              "      <td>The staff needs to learn to communicate with t...</td>\n",
              "      <td>2018-10-08</td>\n",
              "      <td>Neutral</td>\n",
              "    </tr>\n",
              "  </tbody>\n",
              "</table>\n",
              "</div>\n",
              "      <button class=\"colab-df-convert\" onclick=\"convertToInteractive('df-f9b0376a-07a5-4018-b71a-8af3b22203bb')\"\n",
              "              title=\"Convert this dataframe to an interactive table.\"\n",
              "              style=\"display:none;\">\n",
              "        \n",
              "  <svg xmlns=\"http://www.w3.org/2000/svg\" height=\"24px\"viewBox=\"0 0 24 24\"\n",
              "       width=\"24px\">\n",
              "    <path d=\"M0 0h24v24H0V0z\" fill=\"none\"/>\n",
              "    <path d=\"M18.56 5.44l.94 2.06.94-2.06 2.06-.94-2.06-.94-.94-2.06-.94 2.06-2.06.94zm-11 1L8.5 8.5l.94-2.06 2.06-.94-2.06-.94L8.5 2.5l-.94 2.06-2.06.94zm10 10l.94 2.06.94-2.06 2.06-.94-2.06-.94-.94-2.06-.94 2.06-2.06.94z\"/><path d=\"M17.41 7.96l-1.37-1.37c-.4-.4-.92-.59-1.43-.59-.52 0-1.04.2-1.43.59L10.3 9.45l-7.72 7.72c-.78.78-.78 2.05 0 2.83L4 21.41c.39.39.9.59 1.41.59.51 0 1.02-.2 1.41-.59l7.78-7.78 2.81-2.81c.8-.78.8-2.07 0-2.86zM5.41 20L4 18.59l7.72-7.72 1.47 1.35L5.41 20z\"/>\n",
              "  </svg>\n",
              "      </button>\n",
              "      \n",
              "  <style>\n",
              "    .colab-df-container {\n",
              "      display:flex;\n",
              "      flex-wrap:wrap;\n",
              "      gap: 12px;\n",
              "    }\n",
              "\n",
              "    .colab-df-convert {\n",
              "      background-color: #E8F0FE;\n",
              "      border: none;\n",
              "      border-radius: 50%;\n",
              "      cursor: pointer;\n",
              "      display: none;\n",
              "      fill: #1967D2;\n",
              "      height: 32px;\n",
              "      padding: 0 0 0 0;\n",
              "      width: 32px;\n",
              "    }\n",
              "\n",
              "    .colab-df-convert:hover {\n",
              "      background-color: #E2EBFA;\n",
              "      box-shadow: 0px 1px 2px rgba(60, 64, 67, 0.3), 0px 1px 3px 1px rgba(60, 64, 67, 0.15);\n",
              "      fill: #174EA6;\n",
              "    }\n",
              "\n",
              "    [theme=dark] .colab-df-convert {\n",
              "      background-color: #3B4455;\n",
              "      fill: #D2E3FC;\n",
              "    }\n",
              "\n",
              "    [theme=dark] .colab-df-convert:hover {\n",
              "      background-color: #434B5C;\n",
              "      box-shadow: 0px 1px 3px 1px rgba(0, 0, 0, 0.15);\n",
              "      filter: drop-shadow(0px 1px 2px rgba(0, 0, 0, 0.3));\n",
              "      fill: #FFFFFF;\n",
              "    }\n",
              "  </style>\n",
              "\n",
              "      <script>\n",
              "        const buttonEl =\n",
              "          document.querySelector('#df-f9b0376a-07a5-4018-b71a-8af3b22203bb button.colab-df-convert');\n",
              "        buttonEl.style.display =\n",
              "          google.colab.kernel.accessAllowed ? 'block' : 'none';\n",
              "\n",
              "        async function convertToInteractive(key) {\n",
              "          const element = document.querySelector('#df-f9b0376a-07a5-4018-b71a-8af3b22203bb');\n",
              "          const dataTable =\n",
              "            await google.colab.kernel.invokeFunction('convertToInteractive',\n",
              "                                                     [key], {});\n",
              "          if (!dataTable) return;\n",
              "\n",
              "          const docLinkHtml = 'Like what you see? Visit the ' +\n",
              "            '<a target=\"_blank\" href=https://colab.research.google.com/notebooks/data_table.ipynb>data table notebook</a>'\n",
              "            + ' to learn more about interactive tables.';\n",
              "          element.innerHTML = '';\n",
              "          dataTable['output_type'] = 'display_data';\n",
              "          await google.colab.output.renderOutput(dataTable, element);\n",
              "          const docLink = document.createElement('div');\n",
              "          docLink.innerHTML = docLinkHtml;\n",
              "          element.appendChild(docLink);\n",
              "        }\n",
              "      </script>\n",
              "    </div>\n",
              "  </div>\n",
              "  "
            ]
          },
          "metadata": {},
          "execution_count": 56
        }
      ]
    },
    {
      "cell_type": "code",
      "source": [
        "df_reviews_API.info()"
      ],
      "metadata": {
        "colab": {
          "base_uri": "https://localhost:8080/"
        },
        "id": "xpmMtVDtzYge",
        "outputId": "bff71117-2247-4001-d518-a61848072dc8"
      },
      "execution_count": null,
      "outputs": [
        {
          "output_type": "stream",
          "name": "stdout",
          "text": [
            "<class 'pandas.core.frame.DataFrame'>\n",
            "RangeIndex: 6597 entries, 0 to 6596\n",
            "Data columns (total 6 columns):\n",
            " #   Column      Non-Null Count  Dtype \n",
            "---  ------      --------------  ----- \n",
            " 0   place_id    6597 non-null   object\n",
            " 1   author_url  6597 non-null   object\n",
            " 2   rating      6597 non-null   object\n",
            " 3   text        6597 non-null   object\n",
            " 4   time        6597 non-null   object\n",
            " 5   feeling     6597 non-null   object\n",
            "dtypes: object(6)\n",
            "memory usage: 309.4+ KB\n"
          ]
        }
      ]
    },
    {
      "cell_type": "code",
      "source": [
        "# Verificando si todos los negocios extraídos tienen alguna review asociada\n",
        "# Consluión: se verifica\n",
        "df_reviews_API[df_reviews_API['place_id'].isin(df_meta_API['place_id'])].info()"
      ],
      "metadata": {
        "colab": {
          "base_uri": "https://localhost:8080/"
        },
        "id": "qiqnBhiNzc1b",
        "outputId": "cd796db6-f083-424e-99cd-12a4979c728a"
      },
      "execution_count": null,
      "outputs": [
        {
          "output_type": "stream",
          "name": "stdout",
          "text": [
            "<class 'pandas.core.frame.DataFrame'>\n",
            "Int64Index: 6597 entries, 0 to 6596\n",
            "Data columns (total 6 columns):\n",
            " #   Column      Non-Null Count  Dtype \n",
            "---  ------      --------------  ----- \n",
            " 0   place_id    6597 non-null   object\n",
            " 1   author_url  6597 non-null   object\n",
            " 2   rating      6597 non-null   object\n",
            " 3   text        6597 non-null   object\n",
            " 4   time        6597 non-null   object\n",
            " 5   feeling     6597 non-null   object\n",
            "dtypes: object(6)\n",
            "memory usage: 360.8+ KB\n"
          ]
        }
      ]
    },
    {
      "cell_type": "code",
      "source": [
        "# Verificando si todos los meta extraídos tienen un negocio asociado\n",
        "# Consluión: se verifica\n",
        "df_meta_API[df_meta_API['place_id'].isin(df_reviews_API['place_id'].unique())].info()"
      ],
      "metadata": {
        "colab": {
          "base_uri": "https://localhost:8080/"
        },
        "id": "hjxDWDTn0OJS",
        "outputId": "b6f3026b-4ca1-4eb1-f84d-025e2256e812"
      },
      "execution_count": null,
      "outputs": [
        {
          "output_type": "stream",
          "name": "stdout",
          "text": [
            "<class 'pandas.core.frame.DataFrame'>\n",
            "Int64Index: 1326 entries, 0 to 1325\n",
            "Data columns (total 6 columns):\n",
            " #   Column     Non-Null Count  Dtype \n",
            "---  ------     --------------  ----- \n",
            " 0   name       1326 non-null   object\n",
            " 1   rating     1326 non-null   object\n",
            " 2   latitude   1326 non-null   object\n",
            " 3   longitude  1326 non-null   object\n",
            " 4   place_id   1326 non-null   object\n",
            " 5   state      1326 non-null   object\n",
            "dtypes: object(6)\n",
            "memory usage: 72.5+ KB\n"
          ]
        }
      ]
    },
    {
      "cell_type": "code",
      "source": [
        "df_reviews_API['date'] = pd.to_datetime(df_reviews_API['time'], format='%Y-%m-%d')\n",
        "df_reviews_API.date.describe(datetime_is_numeric=True)"
      ],
      "metadata": {
        "colab": {
          "base_uri": "https://localhost:8080/"
        },
        "id": "IqoNU4881XGq",
        "outputId": "df4c67f1-74ca-4072-9ee5-7c508c40f63a"
      },
      "execution_count": null,
      "outputs": [
        {
          "output_type": "execute_result",
          "data": {
            "text/plain": [
              "count                             6597\n",
              "mean     2022-07-28 10:31:29.222373632\n",
              "min                2011-12-07 00:00:00\n",
              "25%                2022-05-27 00:00:00\n",
              "50%                2022-12-08 00:00:00\n",
              "75%                2023-03-29 00:00:00\n",
              "max                2023-06-08 00:00:00\n",
              "Name: date, dtype: object"
            ]
          },
          "metadata": {},
          "execution_count": 62
        }
      ]
    },
    {
      "cell_type": "code",
      "source": [
        "df_reviews_API.date.quantile(0.05)"
      ],
      "metadata": {
        "colab": {
          "base_uri": "https://localhost:8080/"
        },
        "id": "hsy7u84w6QJg",
        "outputId": "524ca80f-2f60-438d-ec37-39e45de6eaeb"
      },
      "execution_count": null,
      "outputs": [
        {
          "output_type": "execute_result",
          "data": {
            "text/plain": [
              "Timestamp('2019-12-27 19:12:00')"
            ]
          },
          "metadata": {},
          "execution_count": 75
        }
      ]
    },
    {
      "cell_type": "markdown",
      "source": [
        "# Yelp"
      ],
      "metadata": {
        "id": "7Z5Z9oPNs3p5"
      }
    },
    {
      "cell_type": "markdown",
      "source": [
        "## Business"
      ],
      "metadata": {
        "id": "LbMRmwOgQGia"
      }
    },
    {
      "cell_type": "code",
      "source": [
        "df_business.head()"
      ],
      "metadata": {
        "colab": {
          "base_uri": "https://localhost:8080/",
          "height": 337
        },
        "outputId": "128df696-2ac8-43fa-e69d-02b6fb693faf",
        "id": "bsXdW2ypQt-v"
      },
      "execution_count": null,
      "outputs": [
        {
          "output_type": "execute_result",
          "data": {
            "text/plain": [
              "              business_id                       local_name state    latitude  \\\n",
              "0  BJ0Z74sTz9sxRr1R533Inw          Best Rate Home Services    FL  27.9549045   \n",
              "1  dm9UbH8XPAP6735lHRYILA  Ruby's Roof Jamaican Restaurant    PA  40.0382907   \n",
              "2  aVRVBncwdK3GrqLKLFPKAg                Paradise Pizzeria    PA  40.0091223   \n",
              "3  IMn6n4kjpvp0ur_KT6C3pw                   Dollar General    FL  27.9365971   \n",
              "4  X3Qa-dXb2DFdZZ2UnAfSVg                          Dunkin'    PA   40.087335   \n",
              "\n",
              "     longitude stars num_of_reviews  \\\n",
              "0  -82.3334943   1.0              5   \n",
              "1  -75.1303845   1.0              5   \n",
              "2  -75.1004709   1.0              5   \n",
              "3   -82.290957   1.0              5   \n",
              "4   -75.039989   1.0              5   \n",
              "\n",
              "                                          attributes  \\\n",
              "0  {\"BusinessAcceptsCreditCards\": \"True\", \"ByAppo...   \n",
              "1  {\"RestaurantsDelivery\": \"True\", \"RestaurantsTa...   \n",
              "2  {\"RestaurantsDelivery\": \"True\", \"RestaurantsTa...   \n",
              "3  {\"RestaurantsPriceRange2\": \"1\", \"BusinessParki...   \n",
              "4  {\"RestaurantsPriceRange2\": \"1\", \"BikeParking\":...   \n",
              "\n",
              "                                         subcategory  \\\n",
              "0  restaurants, local services, movers, home clea...   \n",
              "1                             restaurants, caribbean   \n",
              "2                                 restaurants, pizza   \n",
              "3  shopping, discount store, food, grocery, fashi...   \n",
              "4            coffee & tea, donuts, food, restaurants   \n",
              "\n",
              "                                               hours platform      category  \n",
              "0  {\"Monday\": \"8:0-18:0\", \"Tuesday\": \"8:0-18:0\", ...     Yelp  food service  \n",
              "1  {\"Monday\": \"8:0-22:0\", \"Tuesday\": \"8:0-22:0\", ...     Yelp  food service  \n",
              "2  {\"Monday\": \"11:0-23:0\", \"Tuesday\": \"11:0-23:0\"...     Yelp  food service  \n",
              "3                                               None     Yelp  food service  \n",
              "4  {\"Monday\": \"5:0-18:0\", \"Tuesday\": \"5:0-18:0\", ...     Yelp  food service  "
            ],
            "text/html": [
              "\n",
              "  <div id=\"df-ea83f56d-8eac-4c1e-9363-0e05922017c5\">\n",
              "    <div class=\"colab-df-container\">\n",
              "      <div>\n",
              "<style scoped>\n",
              "    .dataframe tbody tr th:only-of-type {\n",
              "        vertical-align: middle;\n",
              "    }\n",
              "\n",
              "    .dataframe tbody tr th {\n",
              "        vertical-align: top;\n",
              "    }\n",
              "\n",
              "    .dataframe thead th {\n",
              "        text-align: right;\n",
              "    }\n",
              "</style>\n",
              "<table border=\"1\" class=\"dataframe\">\n",
              "  <thead>\n",
              "    <tr style=\"text-align: right;\">\n",
              "      <th></th>\n",
              "      <th>business_id</th>\n",
              "      <th>local_name</th>\n",
              "      <th>state</th>\n",
              "      <th>latitude</th>\n",
              "      <th>longitude</th>\n",
              "      <th>stars</th>\n",
              "      <th>num_of_reviews</th>\n",
              "      <th>attributes</th>\n",
              "      <th>subcategory</th>\n",
              "      <th>hours</th>\n",
              "      <th>platform</th>\n",
              "      <th>category</th>\n",
              "    </tr>\n",
              "  </thead>\n",
              "  <tbody>\n",
              "    <tr>\n",
              "      <th>0</th>\n",
              "      <td>BJ0Z74sTz9sxRr1R533Inw</td>\n",
              "      <td>Best Rate Home Services</td>\n",
              "      <td>FL</td>\n",
              "      <td>27.9549045</td>\n",
              "      <td>-82.3334943</td>\n",
              "      <td>1.0</td>\n",
              "      <td>5</td>\n",
              "      <td>{\"BusinessAcceptsCreditCards\": \"True\", \"ByAppo...</td>\n",
              "      <td>restaurants, local services, movers, home clea...</td>\n",
              "      <td>{\"Monday\": \"8:0-18:0\", \"Tuesday\": \"8:0-18:0\", ...</td>\n",
              "      <td>Yelp</td>\n",
              "      <td>food service</td>\n",
              "    </tr>\n",
              "    <tr>\n",
              "      <th>1</th>\n",
              "      <td>dm9UbH8XPAP6735lHRYILA</td>\n",
              "      <td>Ruby's Roof Jamaican Restaurant</td>\n",
              "      <td>PA</td>\n",
              "      <td>40.0382907</td>\n",
              "      <td>-75.1303845</td>\n",
              "      <td>1.0</td>\n",
              "      <td>5</td>\n",
              "      <td>{\"RestaurantsDelivery\": \"True\", \"RestaurantsTa...</td>\n",
              "      <td>restaurants, caribbean</td>\n",
              "      <td>{\"Monday\": \"8:0-22:0\", \"Tuesday\": \"8:0-22:0\", ...</td>\n",
              "      <td>Yelp</td>\n",
              "      <td>food service</td>\n",
              "    </tr>\n",
              "    <tr>\n",
              "      <th>2</th>\n",
              "      <td>aVRVBncwdK3GrqLKLFPKAg</td>\n",
              "      <td>Paradise Pizzeria</td>\n",
              "      <td>PA</td>\n",
              "      <td>40.0091223</td>\n",
              "      <td>-75.1004709</td>\n",
              "      <td>1.0</td>\n",
              "      <td>5</td>\n",
              "      <td>{\"RestaurantsDelivery\": \"True\", \"RestaurantsTa...</td>\n",
              "      <td>restaurants, pizza</td>\n",
              "      <td>{\"Monday\": \"11:0-23:0\", \"Tuesday\": \"11:0-23:0\"...</td>\n",
              "      <td>Yelp</td>\n",
              "      <td>food service</td>\n",
              "    </tr>\n",
              "    <tr>\n",
              "      <th>3</th>\n",
              "      <td>IMn6n4kjpvp0ur_KT6C3pw</td>\n",
              "      <td>Dollar General</td>\n",
              "      <td>FL</td>\n",
              "      <td>27.9365971</td>\n",
              "      <td>-82.290957</td>\n",
              "      <td>1.0</td>\n",
              "      <td>5</td>\n",
              "      <td>{\"RestaurantsPriceRange2\": \"1\", \"BusinessParki...</td>\n",
              "      <td>shopping, discount store, food, grocery, fashi...</td>\n",
              "      <td>None</td>\n",
              "      <td>Yelp</td>\n",
              "      <td>food service</td>\n",
              "    </tr>\n",
              "    <tr>\n",
              "      <th>4</th>\n",
              "      <td>X3Qa-dXb2DFdZZ2UnAfSVg</td>\n",
              "      <td>Dunkin'</td>\n",
              "      <td>PA</td>\n",
              "      <td>40.087335</td>\n",
              "      <td>-75.039989</td>\n",
              "      <td>1.0</td>\n",
              "      <td>5</td>\n",
              "      <td>{\"RestaurantsPriceRange2\": \"1\", \"BikeParking\":...</td>\n",
              "      <td>coffee &amp; tea, donuts, food, restaurants</td>\n",
              "      <td>{\"Monday\": \"5:0-18:0\", \"Tuesday\": \"5:0-18:0\", ...</td>\n",
              "      <td>Yelp</td>\n",
              "      <td>food service</td>\n",
              "    </tr>\n",
              "  </tbody>\n",
              "</table>\n",
              "</div>\n",
              "      <button class=\"colab-df-convert\" onclick=\"convertToInteractive('df-ea83f56d-8eac-4c1e-9363-0e05922017c5')\"\n",
              "              title=\"Convert this dataframe to an interactive table.\"\n",
              "              style=\"display:none;\">\n",
              "        \n",
              "  <svg xmlns=\"http://www.w3.org/2000/svg\" height=\"24px\"viewBox=\"0 0 24 24\"\n",
              "       width=\"24px\">\n",
              "    <path d=\"M0 0h24v24H0V0z\" fill=\"none\"/>\n",
              "    <path d=\"M18.56 5.44l.94 2.06.94-2.06 2.06-.94-2.06-.94-.94-2.06-.94 2.06-2.06.94zm-11 1L8.5 8.5l.94-2.06 2.06-.94-2.06-.94L8.5 2.5l-.94 2.06-2.06.94zm10 10l.94 2.06.94-2.06 2.06-.94-2.06-.94-.94-2.06-.94 2.06-2.06.94z\"/><path d=\"M17.41 7.96l-1.37-1.37c-.4-.4-.92-.59-1.43-.59-.52 0-1.04.2-1.43.59L10.3 9.45l-7.72 7.72c-.78.78-.78 2.05 0 2.83L4 21.41c.39.39.9.59 1.41.59.51 0 1.02-.2 1.41-.59l7.78-7.78 2.81-2.81c.8-.78.8-2.07 0-2.86zM5.41 20L4 18.59l7.72-7.72 1.47 1.35L5.41 20z\"/>\n",
              "  </svg>\n",
              "      </button>\n",
              "      \n",
              "  <style>\n",
              "    .colab-df-container {\n",
              "      display:flex;\n",
              "      flex-wrap:wrap;\n",
              "      gap: 12px;\n",
              "    }\n",
              "\n",
              "    .colab-df-convert {\n",
              "      background-color: #E8F0FE;\n",
              "      border: none;\n",
              "      border-radius: 50%;\n",
              "      cursor: pointer;\n",
              "      display: none;\n",
              "      fill: #1967D2;\n",
              "      height: 32px;\n",
              "      padding: 0 0 0 0;\n",
              "      width: 32px;\n",
              "    }\n",
              "\n",
              "    .colab-df-convert:hover {\n",
              "      background-color: #E2EBFA;\n",
              "      box-shadow: 0px 1px 2px rgba(60, 64, 67, 0.3), 0px 1px 3px 1px rgba(60, 64, 67, 0.15);\n",
              "      fill: #174EA6;\n",
              "    }\n",
              "\n",
              "    [theme=dark] .colab-df-convert {\n",
              "      background-color: #3B4455;\n",
              "      fill: #D2E3FC;\n",
              "    }\n",
              "\n",
              "    [theme=dark] .colab-df-convert:hover {\n",
              "      background-color: #434B5C;\n",
              "      box-shadow: 0px 1px 3px 1px rgba(0, 0, 0, 0.15);\n",
              "      filter: drop-shadow(0px 1px 2px rgba(0, 0, 0, 0.3));\n",
              "      fill: #FFFFFF;\n",
              "    }\n",
              "  </style>\n",
              "\n",
              "      <script>\n",
              "        const buttonEl =\n",
              "          document.querySelector('#df-ea83f56d-8eac-4c1e-9363-0e05922017c5 button.colab-df-convert');\n",
              "        buttonEl.style.display =\n",
              "          google.colab.kernel.accessAllowed ? 'block' : 'none';\n",
              "\n",
              "        async function convertToInteractive(key) {\n",
              "          const element = document.querySelector('#df-ea83f56d-8eac-4c1e-9363-0e05922017c5');\n",
              "          const dataTable =\n",
              "            await google.colab.kernel.invokeFunction('convertToInteractive',\n",
              "                                                     [key], {});\n",
              "          if (!dataTable) return;\n",
              "\n",
              "          const docLinkHtml = 'Like what you see? Visit the ' +\n",
              "            '<a target=\"_blank\" href=https://colab.research.google.com/notebooks/data_table.ipynb>data table notebook</a>'\n",
              "            + ' to learn more about interactive tables.';\n",
              "          element.innerHTML = '';\n",
              "          dataTable['output_type'] = 'display_data';\n",
              "          await google.colab.output.renderOutput(dataTable, element);\n",
              "          const docLink = document.createElement('div');\n",
              "          docLink.innerHTML = docLinkHtml;\n",
              "          element.appendChild(docLink);\n",
              "        }\n",
              "      </script>\n",
              "    </div>\n",
              "  </div>\n",
              "  "
            ]
          },
          "metadata": {},
          "execution_count": 7
        }
      ]
    },
    {
      "cell_type": "code",
      "source": [
        "df_business.info()"
      ],
      "metadata": {
        "colab": {
          "base_uri": "https://localhost:8080/"
        },
        "outputId": "4d6d888a-d194-45c1-8782-57ded3023e82",
        "id": "ItwUFGWBQt-x"
      },
      "execution_count": null,
      "outputs": [
        {
          "output_type": "stream",
          "name": "stdout",
          "text": [
            "<class 'pandas.core.frame.DataFrame'>\n",
            "RangeIndex: 30253 entries, 0 to 30252\n",
            "Data columns (total 12 columns):\n",
            " #   Column          Non-Null Count  Dtype \n",
            "---  ------          --------------  ----- \n",
            " 0   business_id     30253 non-null  object\n",
            " 1   local_name      30253 non-null  object\n",
            " 2   state           30253 non-null  object\n",
            " 3   latitude        30253 non-null  object\n",
            " 4   longitude       30253 non-null  object\n",
            " 5   stars           30253 non-null  object\n",
            " 6   num_of_reviews  30253 non-null  object\n",
            " 7   attributes      30253 non-null  object\n",
            " 8   subcategory     30253 non-null  object\n",
            " 9   hours           30253 non-null  object\n",
            " 10  platform        30253 non-null  object\n",
            " 11  category        30253 non-null  object\n",
            "dtypes: object(12)\n",
            "memory usage: 2.8+ MB\n"
          ]
        }
      ]
    },
    {
      "cell_type": "code",
      "source": [
        "# Eliminar registros de más\n",
        "idx = df_business[df_business['subcategory'].str.contains('food store|supplier|public|publish|convenience|gas |atm|bank|manufacturer|organization|food producer|food market|grocery')].index\n",
        "df_business = df_business.drop(idx).reset_index(drop = True)"
      ],
      "metadata": {
        "id": "T86Wq_dMQt-y"
      },
      "execution_count": null,
      "outputs": []
    },
    {
      "cell_type": "code",
      "source": [
        "# Eliminar registro de otro estado\n",
        "df_business.drop(index = df_business[df_business.local_name == 'Adrians Bakery'].index, inplace = True)"
      ],
      "metadata": {
        "id": "pSMxVscZl3Ik"
      },
      "execution_count": null,
      "outputs": []
    },
    {
      "cell_type": "code",
      "source": [
        "#Transformar al tipo de dato correspondiente\n",
        "df_business['hours'] = df_business['hours'].apply(lambda x: ast.literal_eval(x))\n",
        "df_business['attributes'] = df_business['attributes'].apply(lambda x: ast.literal_eval(x))\n",
        "df_business.info()"
      ],
      "metadata": {
        "colab": {
          "base_uri": "https://localhost:8080/"
        },
        "id": "km9pz4DRQt-z",
        "outputId": "4639226f-ccdf-4bfc-f0a6-038c9fd4e832"
      },
      "execution_count": null,
      "outputs": [
        {
          "output_type": "stream",
          "name": "stdout",
          "text": [
            "<class 'pandas.core.frame.DataFrame'>\n",
            "Int64Index: 27311 entries, 0 to 27311\n",
            "Data columns (total 12 columns):\n",
            " #   Column          Non-Null Count  Dtype \n",
            "---  ------          --------------  ----- \n",
            " 0   business_id     27311 non-null  object\n",
            " 1   local_name      27311 non-null  object\n",
            " 2   state           27311 non-null  object\n",
            " 3   latitude        27311 non-null  object\n",
            " 4   longitude       27311 non-null  object\n",
            " 5   stars           27311 non-null  object\n",
            " 6   num_of_reviews  27311 non-null  object\n",
            " 7   attributes      26962 non-null  object\n",
            " 8   subcategory     27311 non-null  object\n",
            " 9   hours           23367 non-null  object\n",
            " 10  platform        27311 non-null  object\n",
            " 11  category        27311 non-null  object\n",
            "dtypes: object(12)\n",
            "memory usage: 2.7+ MB\n"
          ]
        }
      ]
    },
    {
      "cell_type": "markdown",
      "source": [
        "### Categorías de restaurantes"
      ],
      "metadata": {
        "id": "4FwJomY3aReq"
      }
    },
    {
      "cell_type": "code",
      "source": [
        "# Definir función para categorizar\n",
        "def categorize (row):\n",
        "    row = row.lower()\n",
        "    if 'fast food' in row:\n",
        "        return 'Fast food'\n",
        "    elif any(word in row for word in ['burger', 'chicken', 'barbecue', 'barbeque', 'steak','bistro','buffet']):\n",
        "        return 'Tradicional'\n",
        "    elif any(word in row for word in ['pizza', 'sandwich', 'hot dog']):\n",
        "        return 'Pizza & Sandwich'\n",
        "    elif any(word in row for word in ['bar', 'beer', 'pub','club','nightlife','brew']):\n",
        "        return 'Bar'\n",
        "    elif any(word in row for word in ['mexican', 'taco']):\n",
        "        return 'Mexicana'\n",
        "    elif any(word in row for word in ['deli', 'seafood', 'wine', 'cocktail','vegan','vegeta']):\n",
        "        return 'Epecial'\n",
        "    elif any(word in row for word in ['chinese', 'italian', 'asian', 'japan', 'sushi', 'thai', 'indian', 'korean','latin','ramen','africa'\\\n",
        "                                       'mediterranean','vietnamese','jamaica','greek','eastern','caribbean','cuba','peru','salvador','cajun','french','german'\\\n",
        "                                        'polish','brazil','filipin']):\n",
        "        return 'Internacional'\n",
        "    elif any(word in row for word in ['coffee','cafe', 'ice cream', 'dessert', 'yogurt', 'baker', 'pastry', 'breakfast', 'cupcake', 'tea', 'smoothie','juice']):\n",
        "        return 'Desayuno'\n",
        "    else:\n",
        "        return 'Sin Dato'\n",
        "\n",
        "df_business['rest_category'] = df_business['subcategory'].apply(categorize)\n",
        "\n",
        "# Asignando categoría a los 'food truck' restantes\n",
        "idx_truck = list(df_business[(df_business['rest_category'] == 'Sin Dato') & (df_business['subcategory'].str.contains('food truck'))].index)\n",
        "df_business.loc[idx_truck,'rest_category'] = 'Tradicional'"
      ],
      "metadata": {
        "id": "f_yV8BMCaZtx"
      },
      "execution_count": null,
      "outputs": []
    },
    {
      "cell_type": "code",
      "source": [
        "df_business.rest_category.value_counts()"
      ],
      "metadata": {
        "colab": {
          "base_uri": "https://localhost:8080/"
        },
        "id": "VOSAq_RZcJfZ",
        "outputId": "29b65d6d-4f6f-4723-fb81-4c5b885a048b"
      },
      "execution_count": null,
      "outputs": [
        {
          "output_type": "execute_result",
          "data": {
            "text/plain": [
              "Bar                 6207\n",
              "Pizza & Sandwich    4396\n",
              "Desayuno            3655\n",
              "Tradicional         3587\n",
              "Internacional       3228\n",
              "Fast food           2056\n",
              "Sin Dato            1809\n",
              "Epecial             1389\n",
              "Mexicana             984\n",
              "Name: rest_category, dtype: int64"
            ]
          },
          "metadata": {},
          "execution_count": 13
        }
      ]
    },
    {
      "cell_type": "markdown",
      "source": [
        "### Eliminar registros usando subcategorías y categorías"
      ],
      "metadata": {
        "id": "bFYfLALUeDnZ"
      }
    },
    {
      "cell_type": "code",
      "source": [
        "# Eliminar registros restantes que no tienen categoría y no contienen la palabra restaurante\n",
        "idx2 = list(df_business[(df_business['rest_category'] == 'Sin Dato') & (~df_business['subcategory'].str.contains('restaurant'))].index)\n",
        "df_business = df_business.drop(idx2).reset_index(drop = True)"
      ],
      "metadata": {
        "id": "gmJwHCIzeDnb"
      },
      "execution_count": null,
      "outputs": []
    },
    {
      "cell_type": "code",
      "source": [
        "df_business.rest_category.value_counts()"
      ],
      "metadata": {
        "colab": {
          "base_uri": "https://localhost:8080/"
        },
        "id": "pIBL8HJgnW10",
        "outputId": "df55ef52-034e-44c1-a4a6-182e061ff14f"
      },
      "execution_count": null,
      "outputs": [
        {
          "output_type": "execute_result",
          "data": {
            "text/plain": [
              "Bar                 6207\n",
              "Pizza & Sandwich    4396\n",
              "Desayuno            3655\n",
              "Tradicional         3587\n",
              "Internacional       3228\n",
              "Fast food           2056\n",
              "Epecial             1389\n",
              "Sin Dato            1184\n",
              "Mexicana             984\n",
              "Name: rest_category, dtype: int64"
            ]
          },
          "metadata": {},
          "execution_count": 15
        }
      ]
    },
    {
      "cell_type": "markdown",
      "source": [
        "### Días abierto"
      ],
      "metadata": {
        "id": "qrt7qNW6UZCj"
      }
    },
    {
      "cell_type": "code",
      "source": [
        "# Crear una columna con lista de días abierto\n",
        "df_business['day_open'] = df_business.hours.apply(lambda x: list(x.keys()) if isinstance(x, dict) else None)"
      ],
      "metadata": {
        "id": "pWtfi0vTs6e9"
      },
      "execution_count": null,
      "outputs": []
    },
    {
      "cell_type": "code",
      "source": [
        "#Días abiertos discreto\n",
        "\n",
        "def open (row):\n",
        "    mon_sat = ['Monday', 'Tuesday', 'Wednesday', 'Thursday', 'Friday','Saturday']\n",
        "    tue_sun = ['Saturday', 'Sunday', 'Thursday', 'Friday']\n",
        "    wed_sat = ['Saturday', 'Thursday', 'Friday', 'Wednesday']\n",
        "    week = ['Monday', 'Tuesday', 'Wednesday', 'Thursday', 'Friday']\n",
        "    if isinstance(row,list):\n",
        "        if len(row) == 7:\n",
        "            return 'Todos los días'\n",
        "        elif all(weekday in row for weekday in mon_sat):\n",
        "            return 'Domingo cerrado'\n",
        "        elif all(weekday in row for weekday in tue_sun):\n",
        "            return 'Jue-Dom'\n",
        "        elif all(weekday in row for weekday in wed_sat):\n",
        "            return 'Mie-Sab'\n",
        "        elif all(weekday in row for weekday in week):\n",
        "            return 'Semana'\n",
        "        else:\n",
        "            return 'Otro'\n",
        "\n",
        "df_business['abierto'] = df_business.day_open.apply(open)"
      ],
      "metadata": {
        "id": "fKRVNovzU9-n"
      },
      "execution_count": null,
      "outputs": []
    },
    {
      "cell_type": "code",
      "source": [
        "df_business.abierto.value_counts()"
      ],
      "metadata": {
        "colab": {
          "base_uri": "https://localhost:8080/"
        },
        "id": "BGhzQ6wSVTkD",
        "outputId": "666a2bc0-501e-4adc-da65-80536fa66f2f"
      },
      "execution_count": null,
      "outputs": [
        {
          "output_type": "execute_result",
          "data": {
            "text/plain": [
              "Todos los días     15795\n",
              "Jue-Dom             3073\n",
              "Domingo cerrado     2105\n",
              "Mie-Sab              794\n",
              "Otro                 567\n",
              "Semana               549\n",
              "Name: abierto, dtype: int64"
            ]
          },
          "metadata": {},
          "execution_count": 18
        }
      ]
    },
    {
      "cell_type": "markdown",
      "source": [
        "### Servicio"
      ],
      "metadata": {
        "id": "FeKs0JZtVidv"
      }
    },
    {
      "cell_type": "code",
      "source": [
        "# Defino las claves a chequear en el diccionario de cada fila de la columna 'attributes'\n",
        "keys_to_check = ['RestaurantsTakeOut', 'RestaurantsTableService', 'RestaurantsCounterService', 'DriveThru', 'RestaurantsDelivery']\n",
        "\n",
        "# Crear una columna nueva con la lista de las llaves conteniendo valores True\n",
        "df_business['service_raw'] = df_business['attributes'].apply(lambda x: [\"'\"+key+\"'\" for key, value in x.items() if key in keys_to_check and value] if isinstance(x, dict) else None)"
      ],
      "metadata": {
        "id": "dmXEVrESVkuz"
      },
      "execution_count": null,
      "outputs": []
    },
    {
      "cell_type": "code",
      "source": [
        "# Crear un nuevo df con las columnas 'business_id' y 'service' estando expandida los valores lista en la segunda\n",
        "service_yelp = df_business[['business_id', 'service_raw']].explode('service_raw').reset_index(drop=True)\n",
        "service_yelp.head()"
      ],
      "metadata": {
        "colab": {
          "base_uri": "https://localhost:8080/",
          "height": 206
        },
        "id": "L6Coh10GWMW5",
        "outputId": "40b6313b-a114-4e7d-ebdf-c0b13c8511cd"
      },
      "execution_count": null,
      "outputs": [
        {
          "output_type": "execute_result",
          "data": {
            "text/plain": [
              "              business_id                service_raw\n",
              "0  BJ0Z74sTz9sxRr1R533Inw       'RestaurantsTakeOut'\n",
              "1  BJ0Z74sTz9sxRr1R533Inw  'RestaurantsTableService'\n",
              "2  dm9UbH8XPAP6735lHRYILA      'RestaurantsDelivery'\n",
              "3  dm9UbH8XPAP6735lHRYILA       'RestaurantsTakeOut'\n",
              "4  aVRVBncwdK3GrqLKLFPKAg      'RestaurantsDelivery'"
            ],
            "text/html": [
              "\n",
              "  <div id=\"df-9fe826d5-d429-469c-bd03-7f5579f7b1f9\">\n",
              "    <div class=\"colab-df-container\">\n",
              "      <div>\n",
              "<style scoped>\n",
              "    .dataframe tbody tr th:only-of-type {\n",
              "        vertical-align: middle;\n",
              "    }\n",
              "\n",
              "    .dataframe tbody tr th {\n",
              "        vertical-align: top;\n",
              "    }\n",
              "\n",
              "    .dataframe thead th {\n",
              "        text-align: right;\n",
              "    }\n",
              "</style>\n",
              "<table border=\"1\" class=\"dataframe\">\n",
              "  <thead>\n",
              "    <tr style=\"text-align: right;\">\n",
              "      <th></th>\n",
              "      <th>business_id</th>\n",
              "      <th>service_raw</th>\n",
              "    </tr>\n",
              "  </thead>\n",
              "  <tbody>\n",
              "    <tr>\n",
              "      <th>0</th>\n",
              "      <td>BJ0Z74sTz9sxRr1R533Inw</td>\n",
              "      <td>'RestaurantsTakeOut'</td>\n",
              "    </tr>\n",
              "    <tr>\n",
              "      <th>1</th>\n",
              "      <td>BJ0Z74sTz9sxRr1R533Inw</td>\n",
              "      <td>'RestaurantsTableService'</td>\n",
              "    </tr>\n",
              "    <tr>\n",
              "      <th>2</th>\n",
              "      <td>dm9UbH8XPAP6735lHRYILA</td>\n",
              "      <td>'RestaurantsDelivery'</td>\n",
              "    </tr>\n",
              "    <tr>\n",
              "      <th>3</th>\n",
              "      <td>dm9UbH8XPAP6735lHRYILA</td>\n",
              "      <td>'RestaurantsTakeOut'</td>\n",
              "    </tr>\n",
              "    <tr>\n",
              "      <th>4</th>\n",
              "      <td>aVRVBncwdK3GrqLKLFPKAg</td>\n",
              "      <td>'RestaurantsDelivery'</td>\n",
              "    </tr>\n",
              "  </tbody>\n",
              "</table>\n",
              "</div>\n",
              "      <button class=\"colab-df-convert\" onclick=\"convertToInteractive('df-9fe826d5-d429-469c-bd03-7f5579f7b1f9')\"\n",
              "              title=\"Convert this dataframe to an interactive table.\"\n",
              "              style=\"display:none;\">\n",
              "        \n",
              "  <svg xmlns=\"http://www.w3.org/2000/svg\" height=\"24px\"viewBox=\"0 0 24 24\"\n",
              "       width=\"24px\">\n",
              "    <path d=\"M0 0h24v24H0V0z\" fill=\"none\"/>\n",
              "    <path d=\"M18.56 5.44l.94 2.06.94-2.06 2.06-.94-2.06-.94-.94-2.06-.94 2.06-2.06.94zm-11 1L8.5 8.5l.94-2.06 2.06-.94-2.06-.94L8.5 2.5l-.94 2.06-2.06.94zm10 10l.94 2.06.94-2.06 2.06-.94-2.06-.94-.94-2.06-.94 2.06-2.06.94z\"/><path d=\"M17.41 7.96l-1.37-1.37c-.4-.4-.92-.59-1.43-.59-.52 0-1.04.2-1.43.59L10.3 9.45l-7.72 7.72c-.78.78-.78 2.05 0 2.83L4 21.41c.39.39.9.59 1.41.59.51 0 1.02-.2 1.41-.59l7.78-7.78 2.81-2.81c.8-.78.8-2.07 0-2.86zM5.41 20L4 18.59l7.72-7.72 1.47 1.35L5.41 20z\"/>\n",
              "  </svg>\n",
              "      </button>\n",
              "      \n",
              "  <style>\n",
              "    .colab-df-container {\n",
              "      display:flex;\n",
              "      flex-wrap:wrap;\n",
              "      gap: 12px;\n",
              "    }\n",
              "\n",
              "    .colab-df-convert {\n",
              "      background-color: #E8F0FE;\n",
              "      border: none;\n",
              "      border-radius: 50%;\n",
              "      cursor: pointer;\n",
              "      display: none;\n",
              "      fill: #1967D2;\n",
              "      height: 32px;\n",
              "      padding: 0 0 0 0;\n",
              "      width: 32px;\n",
              "    }\n",
              "\n",
              "    .colab-df-convert:hover {\n",
              "      background-color: #E2EBFA;\n",
              "      box-shadow: 0px 1px 2px rgba(60, 64, 67, 0.3), 0px 1px 3px 1px rgba(60, 64, 67, 0.15);\n",
              "      fill: #174EA6;\n",
              "    }\n",
              "\n",
              "    [theme=dark] .colab-df-convert {\n",
              "      background-color: #3B4455;\n",
              "      fill: #D2E3FC;\n",
              "    }\n",
              "\n",
              "    [theme=dark] .colab-df-convert:hover {\n",
              "      background-color: #434B5C;\n",
              "      box-shadow: 0px 1px 3px 1px rgba(0, 0, 0, 0.15);\n",
              "      filter: drop-shadow(0px 1px 2px rgba(0, 0, 0, 0.3));\n",
              "      fill: #FFFFFF;\n",
              "    }\n",
              "  </style>\n",
              "\n",
              "      <script>\n",
              "        const buttonEl =\n",
              "          document.querySelector('#df-9fe826d5-d429-469c-bd03-7f5579f7b1f9 button.colab-df-convert');\n",
              "        buttonEl.style.display =\n",
              "          google.colab.kernel.accessAllowed ? 'block' : 'none';\n",
              "\n",
              "        async function convertToInteractive(key) {\n",
              "          const element = document.querySelector('#df-9fe826d5-d429-469c-bd03-7f5579f7b1f9');\n",
              "          const dataTable =\n",
              "            await google.colab.kernel.invokeFunction('convertToInteractive',\n",
              "                                                     [key], {});\n",
              "          if (!dataTable) return;\n",
              "\n",
              "          const docLinkHtml = 'Like what you see? Visit the ' +\n",
              "            '<a target=\"_blank\" href=https://colab.research.google.com/notebooks/data_table.ipynb>data table notebook</a>'\n",
              "            + ' to learn more about interactive tables.';\n",
              "          element.innerHTML = '';\n",
              "          dataTable['output_type'] = 'display_data';\n",
              "          await google.colab.output.renderOutput(dataTable, element);\n",
              "          const docLink = document.createElement('div');\n",
              "          docLink.innerHTML = docLinkHtml;\n",
              "          element.appendChild(docLink);\n",
              "        }\n",
              "      </script>\n",
              "    </div>\n",
              "  </div>\n",
              "  "
            ]
          },
          "metadata": {},
          "execution_count": 20
        }
      ]
    },
    {
      "cell_type": "code",
      "source": [
        "# Reemplazar por los valores definidos\n",
        "service_yelp['service'] = service_yelp.service_raw.replace({\"'RestaurantsTakeOut'\": 'Takeout', \"'DriveThru'\":'Takeout',\"'RestaurantsDelivery'\":'Delivery',\n",
        "                              \"'RestaurantsTableService'\": 'Dine-in', \"'RestaurantsCounterService'\":'Dine-in'})\n",
        "service_yelp.service.fillna('Sin Dato', inplace= True)\n",
        "service_yelp.head()"
      ],
      "metadata": {
        "colab": {
          "base_uri": "https://localhost:8080/",
          "height": 206
        },
        "id": "hF4LhTaCW5U6",
        "outputId": "fe37d972-6ef1-48e0-8c8e-e8f257515efa"
      },
      "execution_count": null,
      "outputs": [
        {
          "output_type": "execute_result",
          "data": {
            "text/plain": [
              "              business_id                service_raw   service\n",
              "0  BJ0Z74sTz9sxRr1R533Inw       'RestaurantsTakeOut'   Takeout\n",
              "1  BJ0Z74sTz9sxRr1R533Inw  'RestaurantsTableService'   Dine-in\n",
              "2  dm9UbH8XPAP6735lHRYILA      'RestaurantsDelivery'  Delivery\n",
              "3  dm9UbH8XPAP6735lHRYILA       'RestaurantsTakeOut'   Takeout\n",
              "4  aVRVBncwdK3GrqLKLFPKAg      'RestaurantsDelivery'  Delivery"
            ],
            "text/html": [
              "\n",
              "  <div id=\"df-c1a4d5a9-dac2-40e9-b792-36c8444900e1\">\n",
              "    <div class=\"colab-df-container\">\n",
              "      <div>\n",
              "<style scoped>\n",
              "    .dataframe tbody tr th:only-of-type {\n",
              "        vertical-align: middle;\n",
              "    }\n",
              "\n",
              "    .dataframe tbody tr th {\n",
              "        vertical-align: top;\n",
              "    }\n",
              "\n",
              "    .dataframe thead th {\n",
              "        text-align: right;\n",
              "    }\n",
              "</style>\n",
              "<table border=\"1\" class=\"dataframe\">\n",
              "  <thead>\n",
              "    <tr style=\"text-align: right;\">\n",
              "      <th></th>\n",
              "      <th>business_id</th>\n",
              "      <th>service_raw</th>\n",
              "      <th>service</th>\n",
              "    </tr>\n",
              "  </thead>\n",
              "  <tbody>\n",
              "    <tr>\n",
              "      <th>0</th>\n",
              "      <td>BJ0Z74sTz9sxRr1R533Inw</td>\n",
              "      <td>'RestaurantsTakeOut'</td>\n",
              "      <td>Takeout</td>\n",
              "    </tr>\n",
              "    <tr>\n",
              "      <th>1</th>\n",
              "      <td>BJ0Z74sTz9sxRr1R533Inw</td>\n",
              "      <td>'RestaurantsTableService'</td>\n",
              "      <td>Dine-in</td>\n",
              "    </tr>\n",
              "    <tr>\n",
              "      <th>2</th>\n",
              "      <td>dm9UbH8XPAP6735lHRYILA</td>\n",
              "      <td>'RestaurantsDelivery'</td>\n",
              "      <td>Delivery</td>\n",
              "    </tr>\n",
              "    <tr>\n",
              "      <th>3</th>\n",
              "      <td>dm9UbH8XPAP6735lHRYILA</td>\n",
              "      <td>'RestaurantsTakeOut'</td>\n",
              "      <td>Takeout</td>\n",
              "    </tr>\n",
              "    <tr>\n",
              "      <th>4</th>\n",
              "      <td>aVRVBncwdK3GrqLKLFPKAg</td>\n",
              "      <td>'RestaurantsDelivery'</td>\n",
              "      <td>Delivery</td>\n",
              "    </tr>\n",
              "  </tbody>\n",
              "</table>\n",
              "</div>\n",
              "      <button class=\"colab-df-convert\" onclick=\"convertToInteractive('df-c1a4d5a9-dac2-40e9-b792-36c8444900e1')\"\n",
              "              title=\"Convert this dataframe to an interactive table.\"\n",
              "              style=\"display:none;\">\n",
              "        \n",
              "  <svg xmlns=\"http://www.w3.org/2000/svg\" height=\"24px\"viewBox=\"0 0 24 24\"\n",
              "       width=\"24px\">\n",
              "    <path d=\"M0 0h24v24H0V0z\" fill=\"none\"/>\n",
              "    <path d=\"M18.56 5.44l.94 2.06.94-2.06 2.06-.94-2.06-.94-.94-2.06-.94 2.06-2.06.94zm-11 1L8.5 8.5l.94-2.06 2.06-.94-2.06-.94L8.5 2.5l-.94 2.06-2.06.94zm10 10l.94 2.06.94-2.06 2.06-.94-2.06-.94-.94-2.06-.94 2.06-2.06.94z\"/><path d=\"M17.41 7.96l-1.37-1.37c-.4-.4-.92-.59-1.43-.59-.52 0-1.04.2-1.43.59L10.3 9.45l-7.72 7.72c-.78.78-.78 2.05 0 2.83L4 21.41c.39.39.9.59 1.41.59.51 0 1.02-.2 1.41-.59l7.78-7.78 2.81-2.81c.8-.78.8-2.07 0-2.86zM5.41 20L4 18.59l7.72-7.72 1.47 1.35L5.41 20z\"/>\n",
              "  </svg>\n",
              "      </button>\n",
              "      \n",
              "  <style>\n",
              "    .colab-df-container {\n",
              "      display:flex;\n",
              "      flex-wrap:wrap;\n",
              "      gap: 12px;\n",
              "    }\n",
              "\n",
              "    .colab-df-convert {\n",
              "      background-color: #E8F0FE;\n",
              "      border: none;\n",
              "      border-radius: 50%;\n",
              "      cursor: pointer;\n",
              "      display: none;\n",
              "      fill: #1967D2;\n",
              "      height: 32px;\n",
              "      padding: 0 0 0 0;\n",
              "      width: 32px;\n",
              "    }\n",
              "\n",
              "    .colab-df-convert:hover {\n",
              "      background-color: #E2EBFA;\n",
              "      box-shadow: 0px 1px 2px rgba(60, 64, 67, 0.3), 0px 1px 3px 1px rgba(60, 64, 67, 0.15);\n",
              "      fill: #174EA6;\n",
              "    }\n",
              "\n",
              "    [theme=dark] .colab-df-convert {\n",
              "      background-color: #3B4455;\n",
              "      fill: #D2E3FC;\n",
              "    }\n",
              "\n",
              "    [theme=dark] .colab-df-convert:hover {\n",
              "      background-color: #434B5C;\n",
              "      box-shadow: 0px 1px 3px 1px rgba(0, 0, 0, 0.15);\n",
              "      filter: drop-shadow(0px 1px 2px rgba(0, 0, 0, 0.3));\n",
              "      fill: #FFFFFF;\n",
              "    }\n",
              "  </style>\n",
              "\n",
              "      <script>\n",
              "        const buttonEl =\n",
              "          document.querySelector('#df-c1a4d5a9-dac2-40e9-b792-36c8444900e1 button.colab-df-convert');\n",
              "        buttonEl.style.display =\n",
              "          google.colab.kernel.accessAllowed ? 'block' : 'none';\n",
              "\n",
              "        async function convertToInteractive(key) {\n",
              "          const element = document.querySelector('#df-c1a4d5a9-dac2-40e9-b792-36c8444900e1');\n",
              "          const dataTable =\n",
              "            await google.colab.kernel.invokeFunction('convertToInteractive',\n",
              "                                                     [key], {});\n",
              "          if (!dataTable) return;\n",
              "\n",
              "          const docLinkHtml = 'Like what you see? Visit the ' +\n",
              "            '<a target=\"_blank\" href=https://colab.research.google.com/notebooks/data_table.ipynb>data table notebook</a>'\n",
              "            + ' to learn more about interactive tables.';\n",
              "          element.innerHTML = '';\n",
              "          dataTable['output_type'] = 'display_data';\n",
              "          await google.colab.output.renderOutput(dataTable, element);\n",
              "          const docLink = document.createElement('div');\n",
              "          docLink.innerHTML = docLinkHtml;\n",
              "          element.appendChild(docLink);\n",
              "        }\n",
              "      </script>\n",
              "    </div>\n",
              "  </div>\n",
              "  "
            ]
          },
          "metadata": {},
          "execution_count": 21
        }
      ]
    },
    {
      "cell_type": "code",
      "source": [
        "# Transformar dataframe a valores únicos asociado a cada 'business_id'\n",
        "service_yelp_unq = service_yelp.groupby('business_id')['service'].agg(lambda x: list(set(x))).reset_index()\n",
        "service_yelp_unq.head()"
      ],
      "metadata": {
        "colab": {
          "base_uri": "https://localhost:8080/",
          "height": 206
        },
        "id": "5o_ArHnLXPo7",
        "outputId": "003ae62c-1301-49dd-b7fc-f2971d42d6c4"
      },
      "execution_count": null,
      "outputs": [
        {
          "output_type": "execute_result",
          "data": {
            "text/plain": [
              "              business_id                       service\n",
              "0  ---kPU91CF4Lq2-WlRu9Lw  [Dine-in, Takeout, Delivery]\n",
              "1  --ARBQr1WMsTWiwOKOj-FQ                    [Sin Dato]\n",
              "2  --ZVrH2X2QXBFdCilbirsw  [Dine-in, Takeout, Delivery]\n",
              "3  --epgcb7xHGuJ-4PUeSLAw                     [Takeout]\n",
              "4  --onnLZrsCazmcy2P_7fcw           [Takeout, Delivery]"
            ],
            "text/html": [
              "\n",
              "  <div id=\"df-b2239b96-9232-4d2e-9980-f18c5d7a22ae\">\n",
              "    <div class=\"colab-df-container\">\n",
              "      <div>\n",
              "<style scoped>\n",
              "    .dataframe tbody tr th:only-of-type {\n",
              "        vertical-align: middle;\n",
              "    }\n",
              "\n",
              "    .dataframe tbody tr th {\n",
              "        vertical-align: top;\n",
              "    }\n",
              "\n",
              "    .dataframe thead th {\n",
              "        text-align: right;\n",
              "    }\n",
              "</style>\n",
              "<table border=\"1\" class=\"dataframe\">\n",
              "  <thead>\n",
              "    <tr style=\"text-align: right;\">\n",
              "      <th></th>\n",
              "      <th>business_id</th>\n",
              "      <th>service</th>\n",
              "    </tr>\n",
              "  </thead>\n",
              "  <tbody>\n",
              "    <tr>\n",
              "      <th>0</th>\n",
              "      <td>---kPU91CF4Lq2-WlRu9Lw</td>\n",
              "      <td>[Dine-in, Takeout, Delivery]</td>\n",
              "    </tr>\n",
              "    <tr>\n",
              "      <th>1</th>\n",
              "      <td>--ARBQr1WMsTWiwOKOj-FQ</td>\n",
              "      <td>[Sin Dato]</td>\n",
              "    </tr>\n",
              "    <tr>\n",
              "      <th>2</th>\n",
              "      <td>--ZVrH2X2QXBFdCilbirsw</td>\n",
              "      <td>[Dine-in, Takeout, Delivery]</td>\n",
              "    </tr>\n",
              "    <tr>\n",
              "      <th>3</th>\n",
              "      <td>--epgcb7xHGuJ-4PUeSLAw</td>\n",
              "      <td>[Takeout]</td>\n",
              "    </tr>\n",
              "    <tr>\n",
              "      <th>4</th>\n",
              "      <td>--onnLZrsCazmcy2P_7fcw</td>\n",
              "      <td>[Takeout, Delivery]</td>\n",
              "    </tr>\n",
              "  </tbody>\n",
              "</table>\n",
              "</div>\n",
              "      <button class=\"colab-df-convert\" onclick=\"convertToInteractive('df-b2239b96-9232-4d2e-9980-f18c5d7a22ae')\"\n",
              "              title=\"Convert this dataframe to an interactive table.\"\n",
              "              style=\"display:none;\">\n",
              "        \n",
              "  <svg xmlns=\"http://www.w3.org/2000/svg\" height=\"24px\"viewBox=\"0 0 24 24\"\n",
              "       width=\"24px\">\n",
              "    <path d=\"M0 0h24v24H0V0z\" fill=\"none\"/>\n",
              "    <path d=\"M18.56 5.44l.94 2.06.94-2.06 2.06-.94-2.06-.94-.94-2.06-.94 2.06-2.06.94zm-11 1L8.5 8.5l.94-2.06 2.06-.94-2.06-.94L8.5 2.5l-.94 2.06-2.06.94zm10 10l.94 2.06.94-2.06 2.06-.94-2.06-.94-.94-2.06-.94 2.06-2.06.94z\"/><path d=\"M17.41 7.96l-1.37-1.37c-.4-.4-.92-.59-1.43-.59-.52 0-1.04.2-1.43.59L10.3 9.45l-7.72 7.72c-.78.78-.78 2.05 0 2.83L4 21.41c.39.39.9.59 1.41.59.51 0 1.02-.2 1.41-.59l7.78-7.78 2.81-2.81c.8-.78.8-2.07 0-2.86zM5.41 20L4 18.59l7.72-7.72 1.47 1.35L5.41 20z\"/>\n",
              "  </svg>\n",
              "      </button>\n",
              "      \n",
              "  <style>\n",
              "    .colab-df-container {\n",
              "      display:flex;\n",
              "      flex-wrap:wrap;\n",
              "      gap: 12px;\n",
              "    }\n",
              "\n",
              "    .colab-df-convert {\n",
              "      background-color: #E8F0FE;\n",
              "      border: none;\n",
              "      border-radius: 50%;\n",
              "      cursor: pointer;\n",
              "      display: none;\n",
              "      fill: #1967D2;\n",
              "      height: 32px;\n",
              "      padding: 0 0 0 0;\n",
              "      width: 32px;\n",
              "    }\n",
              "\n",
              "    .colab-df-convert:hover {\n",
              "      background-color: #E2EBFA;\n",
              "      box-shadow: 0px 1px 2px rgba(60, 64, 67, 0.3), 0px 1px 3px 1px rgba(60, 64, 67, 0.15);\n",
              "      fill: #174EA6;\n",
              "    }\n",
              "\n",
              "    [theme=dark] .colab-df-convert {\n",
              "      background-color: #3B4455;\n",
              "      fill: #D2E3FC;\n",
              "    }\n",
              "\n",
              "    [theme=dark] .colab-df-convert:hover {\n",
              "      background-color: #434B5C;\n",
              "      box-shadow: 0px 1px 3px 1px rgba(0, 0, 0, 0.15);\n",
              "      filter: drop-shadow(0px 1px 2px rgba(0, 0, 0, 0.3));\n",
              "      fill: #FFFFFF;\n",
              "    }\n",
              "  </style>\n",
              "\n",
              "      <script>\n",
              "        const buttonEl =\n",
              "          document.querySelector('#df-b2239b96-9232-4d2e-9980-f18c5d7a22ae button.colab-df-convert');\n",
              "        buttonEl.style.display =\n",
              "          google.colab.kernel.accessAllowed ? 'block' : 'none';\n",
              "\n",
              "        async function convertToInteractive(key) {\n",
              "          const element = document.querySelector('#df-b2239b96-9232-4d2e-9980-f18c5d7a22ae');\n",
              "          const dataTable =\n",
              "            await google.colab.kernel.invokeFunction('convertToInteractive',\n",
              "                                                     [key], {});\n",
              "          if (!dataTable) return;\n",
              "\n",
              "          const docLinkHtml = 'Like what you see? Visit the ' +\n",
              "            '<a target=\"_blank\" href=https://colab.research.google.com/notebooks/data_table.ipynb>data table notebook</a>'\n",
              "            + ' to learn more about interactive tables.';\n",
              "          element.innerHTML = '';\n",
              "          dataTable['output_type'] = 'display_data';\n",
              "          await google.colab.output.renderOutput(dataTable, element);\n",
              "          const docLink = document.createElement('div');\n",
              "          docLink.innerHTML = docLinkHtml;\n",
              "          element.appendChild(docLink);\n",
              "        }\n",
              "      </script>\n",
              "    </div>\n",
              "  </div>\n",
              "  "
            ]
          },
          "metadata": {},
          "execution_count": 22
        }
      ]
    },
    {
      "cell_type": "code",
      "source": [
        "# Convertir lista a string\n",
        "service_yelp_unq['service'] = service_yelp_unq.service.apply(lambda x: ', '.join(map(str, x)))\n",
        "# Renombrar valores para homogenizar\n",
        "service_yelp_unq.service.replace({'Takeout, Delivery, Dine-in':'Dine-in, Takeout, Delivery',\n",
        "                                    'Dine-in, Delivery, Takeout':'Dine-in, Takeout, Delivery',\n",
        "                                    'Delivery, Dine-in, Takeout': 'Dine-in, Takeout, Delivery',\n",
        "                                    'Takeout, Dine-in': 'Dine-in, Takeout',\n",
        "                                    'Delivery, Dine-in': 'Dine-in, Delivery'}, inplace = True)\n",
        "service_yelp_unq.info()"
      ],
      "metadata": {
        "colab": {
          "base_uri": "https://localhost:8080/"
        },
        "id": "kD026s-EXqpA",
        "outputId": "bb0ed766-d257-45a3-8e0b-f5e167b734ee"
      },
      "execution_count": null,
      "outputs": [
        {
          "output_type": "stream",
          "name": "stdout",
          "text": [
            "<class 'pandas.core.frame.DataFrame'>\n",
            "RangeIndex: 26686 entries, 0 to 26685\n",
            "Data columns (total 2 columns):\n",
            " #   Column       Non-Null Count  Dtype \n",
            "---  ------       --------------  ----- \n",
            " 0   business_id  26686 non-null  object\n",
            " 1   service      26686 non-null  object\n",
            "dtypes: object(2)\n",
            "memory usage: 417.1+ KB\n"
          ]
        }
      ]
    },
    {
      "cell_type": "code",
      "source": [
        "# Perform left join based on 'gmap_id'\n",
        "df_business = pd.merge(df_business, service_yelp_unq, on='business_id', how='left')\n",
        "df_business.info()"
      ],
      "metadata": {
        "colab": {
          "base_uri": "https://localhost:8080/"
        },
        "id": "He-dYjnyYfP_",
        "outputId": "8cd54f82-4f4b-4645-d70b-2cfbbd5a7b76"
      },
      "execution_count": null,
      "outputs": [
        {
          "output_type": "stream",
          "name": "stdout",
          "text": [
            "<class 'pandas.core.frame.DataFrame'>\n",
            "Int64Index: 26686 entries, 0 to 26685\n",
            "Data columns (total 17 columns):\n",
            " #   Column          Non-Null Count  Dtype \n",
            "---  ------          --------------  ----- \n",
            " 0   business_id     26686 non-null  object\n",
            " 1   local_name      26686 non-null  object\n",
            " 2   state           26686 non-null  object\n",
            " 3   latitude        26686 non-null  object\n",
            " 4   longitude       26686 non-null  object\n",
            " 5   stars           26686 non-null  object\n",
            " 6   num_of_reviews  26686 non-null  object\n",
            " 7   attributes      26363 non-null  object\n",
            " 8   subcategory     26686 non-null  object\n",
            " 9   hours           22883 non-null  object\n",
            " 10  platform        26686 non-null  object\n",
            " 11  category        26686 non-null  object\n",
            " 12  rest_category   26686 non-null  object\n",
            " 13  day_open        22883 non-null  object\n",
            " 14  abierto         22883 non-null  object\n",
            " 15  service_raw     26363 non-null  object\n",
            " 16  service         26686 non-null  object\n",
            "dtypes: object(17)\n",
            "memory usage: 3.7+ MB\n"
          ]
        }
      ]
    },
    {
      "cell_type": "code",
      "source": [
        "df_business.service.value_counts()"
      ],
      "metadata": {
        "colab": {
          "base_uri": "https://localhost:8080/"
        },
        "id": "a8myMLJJZeCF",
        "outputId": "088a7e10-b26a-4f46-97c6-99a72b8dd8c7"
      },
      "execution_count": null,
      "outputs": [
        {
          "output_type": "execute_result",
          "data": {
            "text/plain": [
              "Takeout, Delivery             12781\n",
              "Dine-in, Takeout, Delivery     8355\n",
              "Sin Dato                       3528\n",
              "Takeout                        1497\n",
              "Delivery                        351\n",
              "Dine-in, Takeout                 84\n",
              "Dine-in                          48\n",
              "Dine-in, Delivery                42\n",
              "Name: service, dtype: int64"
            ]
          },
          "metadata": {},
          "execution_count": 25
        }
      ]
    },
    {
      "cell_type": "markdown",
      "source": [
        "### Precio"
      ],
      "metadata": {
        "id": "eXWcpbhgrR0Y"
      }
    },
    {
      "cell_type": "code",
      "source": [
        "# Definir una función para extraer los valores de precio del diccionario de 'attributes'\n",
        "def extract_price(attributes):\n",
        "    if isinstance(attributes, dict) and 'RestaurantsPriceRange2' in attributes:\n",
        "        return attributes['RestaurantsPriceRange2']\n",
        "    else:\n",
        "        return None\n",
        "\n",
        "# Aplicar la función para crear una columna precio con los valores\n",
        "df_business['price'] = df_business['attributes'].apply(lambda x: extract_price(x))"
      ],
      "metadata": {
        "id": "LgViLsj8rT3O"
      },
      "execution_count": null,
      "outputs": []
    },
    {
      "cell_type": "code",
      "source": [
        "# Reemplazar los valores extrídos por los valores deseados\n",
        "df_business.price.replace({'1':'S','2':'SS','3':'SSS','4':'SSSS'}, inplace= True)\n",
        "df_business.price.value_counts()"
      ],
      "metadata": {
        "colab": {
          "base_uri": "https://localhost:8080/"
        },
        "id": "BElCQPN_ryE2",
        "outputId": "551ec1b5-7b74-40c3-e19a-d284a4885a51"
      },
      "execution_count": null,
      "outputs": [
        {
          "output_type": "execute_result",
          "data": {
            "text/plain": [
              "SS      11601\n",
              "S        9594\n",
              "SSS       914\n",
              "SSSS      112\n",
              "None        5\n",
              "Name: price, dtype: int64"
            ]
          },
          "metadata": {},
          "execution_count": 27
        }
      ]
    },
    {
      "cell_type": "markdown",
      "source": [
        "## Reviews"
      ],
      "metadata": {
        "id": "xwMO78-6yHn-"
      }
    },
    {
      "cell_type": "code",
      "source": [
        "yelp_reviews.head()"
      ],
      "metadata": {
        "id": "Bio4Ife2yM-2",
        "colab": {
          "base_uri": "https://localhost:8080/",
          "height": 206
        },
        "outputId": "ce91ea56-42e6-467d-86f9-58fe54ec42d5"
      },
      "execution_count": null,
      "outputs": [
        {
          "output_type": "execute_result",
          "data": {
            "text/plain": [
              "                review_id                 user_id             business_id  \\\n",
              "0  -r_i_uKIGjR8vNFuuFddsQ  Qt_SZ14ZRZjwO_iL5y0wFg  p9Dd6AjOawHGGzcUntYr-A   \n",
              "1  EaN_wDLaya8tyDM3ljSUlQ  1ERjJXmX5XNlTBCXNJ_IIA  275u148dTf0tCENn-l_9Ag   \n",
              "2  q9la3cNw4Fn5DIHsAwa5mQ  gxVZ_PSFlACr2C_HNxA9JQ  Mbr7CSl0bvDo5kFvZMPv_g   \n",
              "3  -Vs95jfioYVBThzy5e9yhA  Dn9WngLhC-utqIS07IlP2A  Hr6aM0s-woIJaW6DJSbvNQ   \n",
              "4  IpfmRb1gYlc33QIKWtyDqQ  eGyScPwJZSzag5vXAsBuvw  bhb3pGBQZETqKPSnsEgaSg   \n",
              "\n",
              "  rating                                            opinion        date  \\\n",
              "0    4.0  A reliable gem. The pho here is complex and de...  2018-05-28   \n",
              "1    4.0  In my opinion the better chinese food in the a...  2018-06-20   \n",
              "2    4.0  Food was delicious.  I had the special of sear...  2018-09-23   \n",
              "3    4.0  they're not totally at a 4 yet but definitely ...  2018-11-09   \n",
              "4    4.0  Clean and nice atmosphere. The ladies do a gre...  2018-12-12   \n",
              "\n",
              "    feeling  \n",
              "0  Positive  \n",
              "1  Positive  \n",
              "2  Positive  \n",
              "3  Positive  \n",
              "4  Positive  "
            ],
            "text/html": [
              "\n",
              "  <div id=\"df-2ae675ca-db79-43df-963e-6ee8fae2fdd4\">\n",
              "    <div class=\"colab-df-container\">\n",
              "      <div>\n",
              "<style scoped>\n",
              "    .dataframe tbody tr th:only-of-type {\n",
              "        vertical-align: middle;\n",
              "    }\n",
              "\n",
              "    .dataframe tbody tr th {\n",
              "        vertical-align: top;\n",
              "    }\n",
              "\n",
              "    .dataframe thead th {\n",
              "        text-align: right;\n",
              "    }\n",
              "</style>\n",
              "<table border=\"1\" class=\"dataframe\">\n",
              "  <thead>\n",
              "    <tr style=\"text-align: right;\">\n",
              "      <th></th>\n",
              "      <th>review_id</th>\n",
              "      <th>user_id</th>\n",
              "      <th>business_id</th>\n",
              "      <th>rating</th>\n",
              "      <th>opinion</th>\n",
              "      <th>date</th>\n",
              "      <th>feeling</th>\n",
              "    </tr>\n",
              "  </thead>\n",
              "  <tbody>\n",
              "    <tr>\n",
              "      <th>0</th>\n",
              "      <td>-r_i_uKIGjR8vNFuuFddsQ</td>\n",
              "      <td>Qt_SZ14ZRZjwO_iL5y0wFg</td>\n",
              "      <td>p9Dd6AjOawHGGzcUntYr-A</td>\n",
              "      <td>4.0</td>\n",
              "      <td>A reliable gem. The pho here is complex and de...</td>\n",
              "      <td>2018-05-28</td>\n",
              "      <td>Positive</td>\n",
              "    </tr>\n",
              "    <tr>\n",
              "      <th>1</th>\n",
              "      <td>EaN_wDLaya8tyDM3ljSUlQ</td>\n",
              "      <td>1ERjJXmX5XNlTBCXNJ_IIA</td>\n",
              "      <td>275u148dTf0tCENn-l_9Ag</td>\n",
              "      <td>4.0</td>\n",
              "      <td>In my opinion the better chinese food in the a...</td>\n",
              "      <td>2018-06-20</td>\n",
              "      <td>Positive</td>\n",
              "    </tr>\n",
              "    <tr>\n",
              "      <th>2</th>\n",
              "      <td>q9la3cNw4Fn5DIHsAwa5mQ</td>\n",
              "      <td>gxVZ_PSFlACr2C_HNxA9JQ</td>\n",
              "      <td>Mbr7CSl0bvDo5kFvZMPv_g</td>\n",
              "      <td>4.0</td>\n",
              "      <td>Food was delicious.  I had the special of sear...</td>\n",
              "      <td>2018-09-23</td>\n",
              "      <td>Positive</td>\n",
              "    </tr>\n",
              "    <tr>\n",
              "      <th>3</th>\n",
              "      <td>-Vs95jfioYVBThzy5e9yhA</td>\n",
              "      <td>Dn9WngLhC-utqIS07IlP2A</td>\n",
              "      <td>Hr6aM0s-woIJaW6DJSbvNQ</td>\n",
              "      <td>4.0</td>\n",
              "      <td>they're not totally at a 4 yet but definitely ...</td>\n",
              "      <td>2018-11-09</td>\n",
              "      <td>Positive</td>\n",
              "    </tr>\n",
              "    <tr>\n",
              "      <th>4</th>\n",
              "      <td>IpfmRb1gYlc33QIKWtyDqQ</td>\n",
              "      <td>eGyScPwJZSzag5vXAsBuvw</td>\n",
              "      <td>bhb3pGBQZETqKPSnsEgaSg</td>\n",
              "      <td>4.0</td>\n",
              "      <td>Clean and nice atmosphere. The ladies do a gre...</td>\n",
              "      <td>2018-12-12</td>\n",
              "      <td>Positive</td>\n",
              "    </tr>\n",
              "  </tbody>\n",
              "</table>\n",
              "</div>\n",
              "      <button class=\"colab-df-convert\" onclick=\"convertToInteractive('df-2ae675ca-db79-43df-963e-6ee8fae2fdd4')\"\n",
              "              title=\"Convert this dataframe to an interactive table.\"\n",
              "              style=\"display:none;\">\n",
              "        \n",
              "  <svg xmlns=\"http://www.w3.org/2000/svg\" height=\"24px\"viewBox=\"0 0 24 24\"\n",
              "       width=\"24px\">\n",
              "    <path d=\"M0 0h24v24H0V0z\" fill=\"none\"/>\n",
              "    <path d=\"M18.56 5.44l.94 2.06.94-2.06 2.06-.94-2.06-.94-.94-2.06-.94 2.06-2.06.94zm-11 1L8.5 8.5l.94-2.06 2.06-.94-2.06-.94L8.5 2.5l-.94 2.06-2.06.94zm10 10l.94 2.06.94-2.06 2.06-.94-2.06-.94-.94-2.06-.94 2.06-2.06.94z\"/><path d=\"M17.41 7.96l-1.37-1.37c-.4-.4-.92-.59-1.43-.59-.52 0-1.04.2-1.43.59L10.3 9.45l-7.72 7.72c-.78.78-.78 2.05 0 2.83L4 21.41c.39.39.9.59 1.41.59.51 0 1.02-.2 1.41-.59l7.78-7.78 2.81-2.81c.8-.78.8-2.07 0-2.86zM5.41 20L4 18.59l7.72-7.72 1.47 1.35L5.41 20z\"/>\n",
              "  </svg>\n",
              "      </button>\n",
              "      \n",
              "  <style>\n",
              "    .colab-df-container {\n",
              "      display:flex;\n",
              "      flex-wrap:wrap;\n",
              "      gap: 12px;\n",
              "    }\n",
              "\n",
              "    .colab-df-convert {\n",
              "      background-color: #E8F0FE;\n",
              "      border: none;\n",
              "      border-radius: 50%;\n",
              "      cursor: pointer;\n",
              "      display: none;\n",
              "      fill: #1967D2;\n",
              "      height: 32px;\n",
              "      padding: 0 0 0 0;\n",
              "      width: 32px;\n",
              "    }\n",
              "\n",
              "    .colab-df-convert:hover {\n",
              "      background-color: #E2EBFA;\n",
              "      box-shadow: 0px 1px 2px rgba(60, 64, 67, 0.3), 0px 1px 3px 1px rgba(60, 64, 67, 0.15);\n",
              "      fill: #174EA6;\n",
              "    }\n",
              "\n",
              "    [theme=dark] .colab-df-convert {\n",
              "      background-color: #3B4455;\n",
              "      fill: #D2E3FC;\n",
              "    }\n",
              "\n",
              "    [theme=dark] .colab-df-convert:hover {\n",
              "      background-color: #434B5C;\n",
              "      box-shadow: 0px 1px 3px 1px rgba(0, 0, 0, 0.15);\n",
              "      filter: drop-shadow(0px 1px 2px rgba(0, 0, 0, 0.3));\n",
              "      fill: #FFFFFF;\n",
              "    }\n",
              "  </style>\n",
              "\n",
              "      <script>\n",
              "        const buttonEl =\n",
              "          document.querySelector('#df-2ae675ca-db79-43df-963e-6ee8fae2fdd4 button.colab-df-convert');\n",
              "        buttonEl.style.display =\n",
              "          google.colab.kernel.accessAllowed ? 'block' : 'none';\n",
              "\n",
              "        async function convertToInteractive(key) {\n",
              "          const element = document.querySelector('#df-2ae675ca-db79-43df-963e-6ee8fae2fdd4');\n",
              "          const dataTable =\n",
              "            await google.colab.kernel.invokeFunction('convertToInteractive',\n",
              "                                                     [key], {});\n",
              "          if (!dataTable) return;\n",
              "\n",
              "          const docLinkHtml = 'Like what you see? Visit the ' +\n",
              "            '<a target=\"_blank\" href=https://colab.research.google.com/notebooks/data_table.ipynb>data table notebook</a>'\n",
              "            + ' to learn more about interactive tables.';\n",
              "          element.innerHTML = '';\n",
              "          dataTable['output_type'] = 'display_data';\n",
              "          await google.colab.output.renderOutput(dataTable, element);\n",
              "          const docLink = document.createElement('div');\n",
              "          docLink.innerHTML = docLinkHtml;\n",
              "          element.appendChild(docLink);\n",
              "        }\n",
              "      </script>\n",
              "    </div>\n",
              "  </div>\n",
              "  "
            ]
          },
          "metadata": {},
          "execution_count": 28
        }
      ]
    },
    {
      "cell_type": "code",
      "source": [
        "yelp_reviews.info()"
      ],
      "metadata": {
        "colab": {
          "base_uri": "https://localhost:8080/"
        },
        "id": "7xTmT0a4yv9Y",
        "outputId": "d0eea7ba-ebf5-4f8a-fc35-06b5f9abf88f"
      },
      "execution_count": null,
      "outputs": [
        {
          "output_type": "stream",
          "name": "stdout",
          "text": [
            "<class 'pandas.core.frame.DataFrame'>\n",
            "RangeIndex: 4596987 entries, 0 to 4596986\n",
            "Data columns (total 7 columns):\n",
            " #   Column       Dtype \n",
            "---  ------       ----- \n",
            " 0   review_id    object\n",
            " 1   user_id      object\n",
            " 2   business_id  object\n",
            " 3   rating       object\n",
            " 4   opinion      object\n",
            " 5   date         object\n",
            " 6   feeling      object\n",
            "dtypes: object(7)\n",
            "memory usage: 245.5+ MB\n"
          ]
        }
      ]
    },
    {
      "cell_type": "code",
      "source": [
        "# Filtrar los registros que no corresponden a restaurantes\n",
        "yelp_reviews = yelp_reviews[yelp_reviews['business_id'].isin(df_business['business_id'])].reset_index(drop = True)\n",
        "yelp_reviews.info()"
      ],
      "metadata": {
        "colab": {
          "base_uri": "https://localhost:8080/"
        },
        "id": "QuqHHuIizNyp",
        "outputId": "3bc788d1-dce1-4de8-90f5-0d8ee702e4e6"
      },
      "execution_count": null,
      "outputs": [
        {
          "output_type": "stream",
          "name": "stdout",
          "text": [
            "<class 'pandas.core.frame.DataFrame'>\n",
            "RangeIndex: 1420212 entries, 0 to 1420211\n",
            "Data columns (total 7 columns):\n",
            " #   Column       Non-Null Count    Dtype \n",
            "---  ------       --------------    ----- \n",
            " 0   review_id    1420212 non-null  object\n",
            " 1   user_id      1420212 non-null  object\n",
            " 2   business_id  1420212 non-null  object\n",
            " 3   rating       1420212 non-null  object\n",
            " 4   opinion      1420212 non-null  object\n",
            " 5   date         1420212 non-null  object\n",
            " 6   feeling      1420212 non-null  object\n",
            "dtypes: object(7)\n",
            "memory usage: 75.8+ MB\n"
          ]
        }
      ]
    },
    {
      "cell_type": "code",
      "source": [
        "# Crear columna con 1 y 0 indicando si el commentario es mayor a 200 caracteres\n",
        "yelp_reviews['opinion_length'] = yelp_reviews['opinion'].apply(lambda x: 1 if len(x.replace(\" \", \"\")) > 200 else 0)"
      ],
      "metadata": {
        "id": "JNpD_DNnyzGt"
      },
      "execution_count": null,
      "outputs": []
    },
    {
      "cell_type": "code",
      "source": [
        "#Corte 30, 1: 1420087\n",
        "#Corte 45, 1: 1419135\n",
        "#Corte 80, 1: 1382165\n",
        "# Corte 150, 1: 1123512\n",
        "# Corte 200, 1: 955825\n",
        "yelp_reviews.opinion_length.value_counts()"
      ],
      "metadata": {
        "colab": {
          "base_uri": "https://localhost:8080/"
        },
        "id": "plGrQ4Gz0Dlg",
        "outputId": "ed828e82-61d5-4bfa-f49f-94648ccedd6b"
      },
      "execution_count": null,
      "outputs": [
        {
          "output_type": "execute_result",
          "data": {
            "text/plain": [
              "1    955805\n",
              "0    464407\n",
              "Name: opinion_length, dtype: int64"
            ]
          },
          "metadata": {},
          "execution_count": 32
        }
      ]
    },
    {
      "cell_type": "code",
      "source": [
        "yelp_reviews.drop([\"user_id\",'review_id'], axis=1, inplace=True)"
      ],
      "metadata": {
        "id": "smZDm4F9AUDt"
      },
      "execution_count": null,
      "outputs": []
    },
    {
      "cell_type": "code",
      "source": [
        "#yelp_reviews.to_csv('reviews_yelp_opinion.csv',index = False)"
      ],
      "metadata": {
        "id": "G8OQkzpHAUD0"
      },
      "execution_count": null,
      "outputs": []
    },
    {
      "cell_type": "markdown",
      "source": [
        "## Business Extra"
      ],
      "metadata": {
        "id": "HakyvsG14mQ7"
      }
    },
    {
      "cell_type": "code",
      "source": [
        "yelp_reviews['date'] = pd.to_datetime(yelp_reviews['date'])"
      ],
      "metadata": {
        "id": "vwvCnip246Nh"
      },
      "execution_count": null,
      "outputs": []
    },
    {
      "cell_type": "code",
      "source": [
        "# Obtener una lista de los ids de restaurantes que recibieron al menos un comentario en 2019 y 2021 respectivamente\n",
        "comment_2019y = list(yelp_reviews[yelp_reviews.date.dt.year == 2019]['business_id'].unique())\n",
        "comment_2021y = list(yelp_reviews[yelp_reviews.date.dt.year == 2021]['business_id'].unique())\n",
        "\n",
        "# Crear un nuevo dataframe con valores únicos de 'business_id'\n",
        "comments_yelp = pd.DataFrame(yelp_reviews['business_id'].unique(), columns=['business_id'])\n",
        "# Agregar al dataframe dos columnas indicando si el restaurante tuvo o no comentarios en los respectivos años\n",
        "comments_yelp['comment_2019'] = comments_yelp['business_id'].apply(lambda x: int(x in comment_2019y))\n",
        "comments_yelp['comment_2021'] = comments_yelp['business_id'].apply(lambda x: int(x in comment_2021y))"
      ],
      "metadata": {
        "id": "hysdH8tD46N6"
      },
      "execution_count": null,
      "outputs": []
    },
    {
      "cell_type": "code",
      "source": [
        "# Perform left join based on 'business_id'\n",
        "df_business2 = pd.merge(df_business, comments_yelp, on='business_id', how='left')\n",
        "df_business2.info()"
      ],
      "metadata": {
        "colab": {
          "base_uri": "https://localhost:8080/"
        },
        "outputId": "d2f90ab7-ca49-4307-ab54-a228fc7fca99",
        "id": "Sl2nzWCG46N7"
      },
      "execution_count": null,
      "outputs": [
        {
          "output_type": "stream",
          "name": "stdout",
          "text": [
            "<class 'pandas.core.frame.DataFrame'>\n",
            "Int64Index: 26686 entries, 0 to 26685\n",
            "Data columns (total 20 columns):\n",
            " #   Column          Non-Null Count  Dtype  \n",
            "---  ------          --------------  -----  \n",
            " 0   business_id     26686 non-null  object \n",
            " 1   local_name      26686 non-null  object \n",
            " 2   state           26686 non-null  object \n",
            " 3   latitude        26686 non-null  object \n",
            " 4   longitude       26686 non-null  object \n",
            " 5   stars           26686 non-null  object \n",
            " 6   num_of_reviews  26686 non-null  object \n",
            " 7   attributes      26363 non-null  object \n",
            " 8   subcategory     26686 non-null  object \n",
            " 9   hours           22883 non-null  object \n",
            " 10  platform        26686 non-null  object \n",
            " 11  category        26686 non-null  object \n",
            " 12  rest_category   26686 non-null  object \n",
            " 13  day_open        22883 non-null  object \n",
            " 14  abierto         22883 non-null  object \n",
            " 15  service_raw     26363 non-null  object \n",
            " 16  service         26686 non-null  object \n",
            " 17  price           22226 non-null  object \n",
            " 18  comment_2019    23382 non-null  float64\n",
            " 19  comment_2021    23382 non-null  float64\n",
            "dtypes: float64(2), object(18)\n",
            "memory usage: 4.3+ MB\n"
          ]
        }
      ]
    },
    {
      "cell_type": "code",
      "source": [
        "# Group by 'subcategories' and calculate the sum of 'comment_2019' and 'comment_2021'\n",
        "grouped_yelp = df_business2.groupby('rest_category')['comment_2019', 'comment_2021'].sum()\n",
        "grouped_yelp['percentage'] = round(grouped_yelp.comment_2021/grouped_yelp.comment_2019*100,2)\n",
        "grouped_yelp"
      ],
      "metadata": {
        "colab": {
          "base_uri": "https://localhost:8080/",
          "height": 398
        },
        "outputId": "7601a859-f5f4-4de2-b5a6-71ef271cf131",
        "id": "kot9tTzA46N8"
      },
      "execution_count": null,
      "outputs": [
        {
          "output_type": "stream",
          "name": "stderr",
          "text": [
            "<ipython-input-38-bc8a5f6549bc>:2: FutureWarning: Indexing with multiple keys (implicitly converted to a tuple of keys) will be deprecated, use a list instead.\n",
            "  grouped_yelp = df_business2.groupby('rest_category')['comment_2019', 'comment_2021'].sum()\n"
          ]
        },
        {
          "output_type": "execute_result",
          "data": {
            "text/plain": [
              "                  comment_2019  comment_2021  percentage\n",
              "rest_category                                           \n",
              "Bar                     4125.0        3588.0       86.98\n",
              "Desayuno                2354.0        2120.0       90.06\n",
              "Epecial                  832.0         813.0       97.72\n",
              "Fast food               1641.0        1504.0       91.65\n",
              "Internacional           1911.0        1726.0       90.32\n",
              "Mexicana                 597.0         595.0       99.66\n",
              "Pizza & Sandwich        2980.0        2685.0       90.10\n",
              "Sin Dato                 542.0         457.0       84.32\n",
              "Tradicional             2351.0        2197.0       93.45"
            ],
            "text/html": [
              "\n",
              "  <div id=\"df-f90a403b-0999-4323-8bd4-b3b7d4661f0d\">\n",
              "    <div class=\"colab-df-container\">\n",
              "      <div>\n",
              "<style scoped>\n",
              "    .dataframe tbody tr th:only-of-type {\n",
              "        vertical-align: middle;\n",
              "    }\n",
              "\n",
              "    .dataframe tbody tr th {\n",
              "        vertical-align: top;\n",
              "    }\n",
              "\n",
              "    .dataframe thead th {\n",
              "        text-align: right;\n",
              "    }\n",
              "</style>\n",
              "<table border=\"1\" class=\"dataframe\">\n",
              "  <thead>\n",
              "    <tr style=\"text-align: right;\">\n",
              "      <th></th>\n",
              "      <th>comment_2019</th>\n",
              "      <th>comment_2021</th>\n",
              "      <th>percentage</th>\n",
              "    </tr>\n",
              "    <tr>\n",
              "      <th>rest_category</th>\n",
              "      <th></th>\n",
              "      <th></th>\n",
              "      <th></th>\n",
              "    </tr>\n",
              "  </thead>\n",
              "  <tbody>\n",
              "    <tr>\n",
              "      <th>Bar</th>\n",
              "      <td>4125.0</td>\n",
              "      <td>3588.0</td>\n",
              "      <td>86.98</td>\n",
              "    </tr>\n",
              "    <tr>\n",
              "      <th>Desayuno</th>\n",
              "      <td>2354.0</td>\n",
              "      <td>2120.0</td>\n",
              "      <td>90.06</td>\n",
              "    </tr>\n",
              "    <tr>\n",
              "      <th>Epecial</th>\n",
              "      <td>832.0</td>\n",
              "      <td>813.0</td>\n",
              "      <td>97.72</td>\n",
              "    </tr>\n",
              "    <tr>\n",
              "      <th>Fast food</th>\n",
              "      <td>1641.0</td>\n",
              "      <td>1504.0</td>\n",
              "      <td>91.65</td>\n",
              "    </tr>\n",
              "    <tr>\n",
              "      <th>Internacional</th>\n",
              "      <td>1911.0</td>\n",
              "      <td>1726.0</td>\n",
              "      <td>90.32</td>\n",
              "    </tr>\n",
              "    <tr>\n",
              "      <th>Mexicana</th>\n",
              "      <td>597.0</td>\n",
              "      <td>595.0</td>\n",
              "      <td>99.66</td>\n",
              "    </tr>\n",
              "    <tr>\n",
              "      <th>Pizza &amp; Sandwich</th>\n",
              "      <td>2980.0</td>\n",
              "      <td>2685.0</td>\n",
              "      <td>90.10</td>\n",
              "    </tr>\n",
              "    <tr>\n",
              "      <th>Sin Dato</th>\n",
              "      <td>542.0</td>\n",
              "      <td>457.0</td>\n",
              "      <td>84.32</td>\n",
              "    </tr>\n",
              "    <tr>\n",
              "      <th>Tradicional</th>\n",
              "      <td>2351.0</td>\n",
              "      <td>2197.0</td>\n",
              "      <td>93.45</td>\n",
              "    </tr>\n",
              "  </tbody>\n",
              "</table>\n",
              "</div>\n",
              "      <button class=\"colab-df-convert\" onclick=\"convertToInteractive('df-f90a403b-0999-4323-8bd4-b3b7d4661f0d')\"\n",
              "              title=\"Convert this dataframe to an interactive table.\"\n",
              "              style=\"display:none;\">\n",
              "        \n",
              "  <svg xmlns=\"http://www.w3.org/2000/svg\" height=\"24px\"viewBox=\"0 0 24 24\"\n",
              "       width=\"24px\">\n",
              "    <path d=\"M0 0h24v24H0V0z\" fill=\"none\"/>\n",
              "    <path d=\"M18.56 5.44l.94 2.06.94-2.06 2.06-.94-2.06-.94-.94-2.06-.94 2.06-2.06.94zm-11 1L8.5 8.5l.94-2.06 2.06-.94-2.06-.94L8.5 2.5l-.94 2.06-2.06.94zm10 10l.94 2.06.94-2.06 2.06-.94-2.06-.94-.94-2.06-.94 2.06-2.06.94z\"/><path d=\"M17.41 7.96l-1.37-1.37c-.4-.4-.92-.59-1.43-.59-.52 0-1.04.2-1.43.59L10.3 9.45l-7.72 7.72c-.78.78-.78 2.05 0 2.83L4 21.41c.39.39.9.59 1.41.59.51 0 1.02-.2 1.41-.59l7.78-7.78 2.81-2.81c.8-.78.8-2.07 0-2.86zM5.41 20L4 18.59l7.72-7.72 1.47 1.35L5.41 20z\"/>\n",
              "  </svg>\n",
              "      </button>\n",
              "      \n",
              "  <style>\n",
              "    .colab-df-container {\n",
              "      display:flex;\n",
              "      flex-wrap:wrap;\n",
              "      gap: 12px;\n",
              "    }\n",
              "\n",
              "    .colab-df-convert {\n",
              "      background-color: #E8F0FE;\n",
              "      border: none;\n",
              "      border-radius: 50%;\n",
              "      cursor: pointer;\n",
              "      display: none;\n",
              "      fill: #1967D2;\n",
              "      height: 32px;\n",
              "      padding: 0 0 0 0;\n",
              "      width: 32px;\n",
              "    }\n",
              "\n",
              "    .colab-df-convert:hover {\n",
              "      background-color: #E2EBFA;\n",
              "      box-shadow: 0px 1px 2px rgba(60, 64, 67, 0.3), 0px 1px 3px 1px rgba(60, 64, 67, 0.15);\n",
              "      fill: #174EA6;\n",
              "    }\n",
              "\n",
              "    [theme=dark] .colab-df-convert {\n",
              "      background-color: #3B4455;\n",
              "      fill: #D2E3FC;\n",
              "    }\n",
              "\n",
              "    [theme=dark] .colab-df-convert:hover {\n",
              "      background-color: #434B5C;\n",
              "      box-shadow: 0px 1px 3px 1px rgba(0, 0, 0, 0.15);\n",
              "      filter: drop-shadow(0px 1px 2px rgba(0, 0, 0, 0.3));\n",
              "      fill: #FFFFFF;\n",
              "    }\n",
              "  </style>\n",
              "\n",
              "      <script>\n",
              "        const buttonEl =\n",
              "          document.querySelector('#df-f90a403b-0999-4323-8bd4-b3b7d4661f0d button.colab-df-convert');\n",
              "        buttonEl.style.display =\n",
              "          google.colab.kernel.accessAllowed ? 'block' : 'none';\n",
              "\n",
              "        async function convertToInteractive(key) {\n",
              "          const element = document.querySelector('#df-f90a403b-0999-4323-8bd4-b3b7d4661f0d');\n",
              "          const dataTable =\n",
              "            await google.colab.kernel.invokeFunction('convertToInteractive',\n",
              "                                                     [key], {});\n",
              "          if (!dataTable) return;\n",
              "\n",
              "          const docLinkHtml = 'Like what you see? Visit the ' +\n",
              "            '<a target=\"_blank\" href=https://colab.research.google.com/notebooks/data_table.ipynb>data table notebook</a>'\n",
              "            + ' to learn more about interactive tables.';\n",
              "          element.innerHTML = '';\n",
              "          dataTable['output_type'] = 'display_data';\n",
              "          await google.colab.output.renderOutput(dataTable, element);\n",
              "          const docLink = document.createElement('div');\n",
              "          docLink.innerHTML = docLinkHtml;\n",
              "          element.appendChild(docLink);\n",
              "        }\n",
              "      </script>\n",
              "    </div>\n",
              "  </div>\n",
              "  "
            ]
          },
          "metadata": {},
          "execution_count": 38
        }
      ]
    },
    {
      "cell_type": "markdown",
      "source": [
        "### Exportar Business"
      ],
      "metadata": {
        "id": "1Vrz_LBEhmxi"
      }
    },
    {
      "cell_type": "code",
      "source": [
        "df_business.info()"
      ],
      "metadata": {
        "colab": {
          "base_uri": "https://localhost:8080/"
        },
        "id": "xh__mOU2h5aM",
        "outputId": "b5ead844-450f-47da-c50f-eeeb13f3c983"
      },
      "execution_count": null,
      "outputs": [
        {
          "output_type": "stream",
          "name": "stdout",
          "text": [
            "<class 'pandas.core.frame.DataFrame'>\n",
            "Int64Index: 26686 entries, 0 to 26685\n",
            "Data columns (total 18 columns):\n",
            " #   Column          Non-Null Count  Dtype \n",
            "---  ------          --------------  ----- \n",
            " 0   business_id     26686 non-null  object\n",
            " 1   local_name      26686 non-null  object\n",
            " 2   state           26686 non-null  object\n",
            " 3   latitude        26686 non-null  object\n",
            " 4   longitude       26686 non-null  object\n",
            " 5   stars           26686 non-null  object\n",
            " 6   num_of_reviews  26686 non-null  object\n",
            " 7   attributes      26363 non-null  object\n",
            " 8   subcategory     26686 non-null  object\n",
            " 9   hours           22883 non-null  object\n",
            " 10  platform        26686 non-null  object\n",
            " 11  category        26686 non-null  object\n",
            " 12  rest_category   26686 non-null  object\n",
            " 13  day_open        22883 non-null  object\n",
            " 14  abierto         22883 non-null  object\n",
            " 15  service_raw     26363 non-null  object\n",
            " 16  service         26686 non-null  object\n",
            " 17  price           22226 non-null  object\n",
            "dtypes: object(18)\n",
            "memory usage: 3.9+ MB\n"
          ]
        }
      ]
    },
    {
      "cell_type": "code",
      "source": [
        "# Eliminar columnas\n",
        "df_business.drop(columns = ['attributes','subcategory','platform','category','hours','day_open','service_raw'], inplace=True)"
      ],
      "metadata": {
        "id": "5oKMnag-iBtD"
      },
      "execution_count": null,
      "outputs": []
    },
    {
      "cell_type": "code",
      "source": [
        "# Exportar archivo\n",
        "#df_business.to_csv('business_yelp.csv',index = False)"
      ],
      "metadata": {
        "id": "r6mm52WnhqBs"
      },
      "execution_count": null,
      "outputs": []
    },
    {
      "cell_type": "markdown",
      "source": [
        "## Checkin"
      ],
      "metadata": {
        "id": "BRjDYcBV4Xj9"
      }
    },
    {
      "cell_type": "code",
      "source": [
        "df_checkin.head()"
      ],
      "metadata": {
        "colab": {
          "base_uri": "https://localhost:8080/",
          "height": 206
        },
        "id": "CaDnyV-W6NuD",
        "outputId": "c8c5889d-4994-4f93-a47f-5e6e6420dd0a"
      },
      "execution_count": null,
      "outputs": [
        {
          "output_type": "execute_result",
          "data": {
            "text/plain": [
              "              business_id                                               date\n",
              "0  ---kPU91CF4Lq2-WlRu9Lw  2020-03-13 21:10:56, 2020-06-02 22:18:06, 2020...\n",
              "1  --0iUa4sNDFiZFrAdIWhZQ  2010-09-13 21:43:09, 2011-05-04 23:08:15, 2011...\n",
              "2  --30_8IhuyMHbSOcNWd6DQ           2013-06-14 23:29:17, 2014-08-13 23:20:22\n",
              "3  --7PUidqRWpRSpXebiyxTg  2011-02-15 17:12:00, 2011-07-28 02:46:10, 2012...\n",
              "4  --7jw19RH9JKXgFohspgQw  2014-04-21 20:42:11, 2014-04-28 21:04:46, 2014..."
            ],
            "text/html": [
              "\n",
              "  <div id=\"df-4c6fa4a3-bfc1-44a5-8d0f-54e82b428285\">\n",
              "    <div class=\"colab-df-container\">\n",
              "      <div>\n",
              "<style scoped>\n",
              "    .dataframe tbody tr th:only-of-type {\n",
              "        vertical-align: middle;\n",
              "    }\n",
              "\n",
              "    .dataframe tbody tr th {\n",
              "        vertical-align: top;\n",
              "    }\n",
              "\n",
              "    .dataframe thead th {\n",
              "        text-align: right;\n",
              "    }\n",
              "</style>\n",
              "<table border=\"1\" class=\"dataframe\">\n",
              "  <thead>\n",
              "    <tr style=\"text-align: right;\">\n",
              "      <th></th>\n",
              "      <th>business_id</th>\n",
              "      <th>date</th>\n",
              "    </tr>\n",
              "  </thead>\n",
              "  <tbody>\n",
              "    <tr>\n",
              "      <th>0</th>\n",
              "      <td>---kPU91CF4Lq2-WlRu9Lw</td>\n",
              "      <td>2020-03-13 21:10:56, 2020-06-02 22:18:06, 2020...</td>\n",
              "    </tr>\n",
              "    <tr>\n",
              "      <th>1</th>\n",
              "      <td>--0iUa4sNDFiZFrAdIWhZQ</td>\n",
              "      <td>2010-09-13 21:43:09, 2011-05-04 23:08:15, 2011...</td>\n",
              "    </tr>\n",
              "    <tr>\n",
              "      <th>2</th>\n",
              "      <td>--30_8IhuyMHbSOcNWd6DQ</td>\n",
              "      <td>2013-06-14 23:29:17, 2014-08-13 23:20:22</td>\n",
              "    </tr>\n",
              "    <tr>\n",
              "      <th>3</th>\n",
              "      <td>--7PUidqRWpRSpXebiyxTg</td>\n",
              "      <td>2011-02-15 17:12:00, 2011-07-28 02:46:10, 2012...</td>\n",
              "    </tr>\n",
              "    <tr>\n",
              "      <th>4</th>\n",
              "      <td>--7jw19RH9JKXgFohspgQw</td>\n",
              "      <td>2014-04-21 20:42:11, 2014-04-28 21:04:46, 2014...</td>\n",
              "    </tr>\n",
              "  </tbody>\n",
              "</table>\n",
              "</div>\n",
              "      <button class=\"colab-df-convert\" onclick=\"convertToInteractive('df-4c6fa4a3-bfc1-44a5-8d0f-54e82b428285')\"\n",
              "              title=\"Convert this dataframe to an interactive table.\"\n",
              "              style=\"display:none;\">\n",
              "        \n",
              "  <svg xmlns=\"http://www.w3.org/2000/svg\" height=\"24px\"viewBox=\"0 0 24 24\"\n",
              "       width=\"24px\">\n",
              "    <path d=\"M0 0h24v24H0V0z\" fill=\"none\"/>\n",
              "    <path d=\"M18.56 5.44l.94 2.06.94-2.06 2.06-.94-2.06-.94-.94-2.06-.94 2.06-2.06.94zm-11 1L8.5 8.5l.94-2.06 2.06-.94-2.06-.94L8.5 2.5l-.94 2.06-2.06.94zm10 10l.94 2.06.94-2.06 2.06-.94-2.06-.94-.94-2.06-.94 2.06-2.06.94z\"/><path d=\"M17.41 7.96l-1.37-1.37c-.4-.4-.92-.59-1.43-.59-.52 0-1.04.2-1.43.59L10.3 9.45l-7.72 7.72c-.78.78-.78 2.05 0 2.83L4 21.41c.39.39.9.59 1.41.59.51 0 1.02-.2 1.41-.59l7.78-7.78 2.81-2.81c.8-.78.8-2.07 0-2.86zM5.41 20L4 18.59l7.72-7.72 1.47 1.35L5.41 20z\"/>\n",
              "  </svg>\n",
              "      </button>\n",
              "      \n",
              "  <style>\n",
              "    .colab-df-container {\n",
              "      display:flex;\n",
              "      flex-wrap:wrap;\n",
              "      gap: 12px;\n",
              "    }\n",
              "\n",
              "    .colab-df-convert {\n",
              "      background-color: #E8F0FE;\n",
              "      border: none;\n",
              "      border-radius: 50%;\n",
              "      cursor: pointer;\n",
              "      display: none;\n",
              "      fill: #1967D2;\n",
              "      height: 32px;\n",
              "      padding: 0 0 0 0;\n",
              "      width: 32px;\n",
              "    }\n",
              "\n",
              "    .colab-df-convert:hover {\n",
              "      background-color: #E2EBFA;\n",
              "      box-shadow: 0px 1px 2px rgba(60, 64, 67, 0.3), 0px 1px 3px 1px rgba(60, 64, 67, 0.15);\n",
              "      fill: #174EA6;\n",
              "    }\n",
              "\n",
              "    [theme=dark] .colab-df-convert {\n",
              "      background-color: #3B4455;\n",
              "      fill: #D2E3FC;\n",
              "    }\n",
              "\n",
              "    [theme=dark] .colab-df-convert:hover {\n",
              "      background-color: #434B5C;\n",
              "      box-shadow: 0px 1px 3px 1px rgba(0, 0, 0, 0.15);\n",
              "      filter: drop-shadow(0px 1px 2px rgba(0, 0, 0, 0.3));\n",
              "      fill: #FFFFFF;\n",
              "    }\n",
              "  </style>\n",
              "\n",
              "      <script>\n",
              "        const buttonEl =\n",
              "          document.querySelector('#df-4c6fa4a3-bfc1-44a5-8d0f-54e82b428285 button.colab-df-convert');\n",
              "        buttonEl.style.display =\n",
              "          google.colab.kernel.accessAllowed ? 'block' : 'none';\n",
              "\n",
              "        async function convertToInteractive(key) {\n",
              "          const element = document.querySelector('#df-4c6fa4a3-bfc1-44a5-8d0f-54e82b428285');\n",
              "          const dataTable =\n",
              "            await google.colab.kernel.invokeFunction('convertToInteractive',\n",
              "                                                     [key], {});\n",
              "          if (!dataTable) return;\n",
              "\n",
              "          const docLinkHtml = 'Like what you see? Visit the ' +\n",
              "            '<a target=\"_blank\" href=https://colab.research.google.com/notebooks/data_table.ipynb>data table notebook</a>'\n",
              "            + ' to learn more about interactive tables.';\n",
              "          element.innerHTML = '';\n",
              "          dataTable['output_type'] = 'display_data';\n",
              "          await google.colab.output.renderOutput(dataTable, element);\n",
              "          const docLink = document.createElement('div');\n",
              "          docLink.innerHTML = docLinkHtml;\n",
              "          element.appendChild(docLink);\n",
              "        }\n",
              "      </script>\n",
              "    </div>\n",
              "  </div>\n",
              "  "
            ]
          },
          "metadata": {},
          "execution_count": 41
        }
      ]
    },
    {
      "cell_type": "code",
      "source": [
        "df_checkin.info()"
      ],
      "metadata": {
        "colab": {
          "base_uri": "https://localhost:8080/"
        },
        "id": "zFIL6fgV6S8r",
        "outputId": "7ecb6cd9-2586-4343-a1a2-f56ff52a094c"
      },
      "execution_count": null,
      "outputs": [
        {
          "output_type": "stream",
          "name": "stdout",
          "text": [
            "<class 'pandas.core.frame.DataFrame'>\n",
            "RangeIndex: 131930 entries, 0 to 131929\n",
            "Data columns (total 2 columns):\n",
            " #   Column       Non-Null Count   Dtype \n",
            "---  ------       --------------   ----- \n",
            " 0   business_id  131930 non-null  object\n",
            " 1   date         131930 non-null  object\n",
            "dtypes: object(2)\n",
            "memory usage: 2.0+ MB\n"
          ]
        }
      ]
    },
    {
      "cell_type": "code",
      "source": [
        "# Filtrar los registros que no corresponden a restaurantes\n",
        "df_checkin = df_checkin[df_checkin['business_id'].isin(df_business['business_id'])].reset_index(drop = True)\n",
        "df_checkin.info()"
      ],
      "metadata": {
        "colab": {
          "base_uri": "https://localhost:8080/"
        },
        "id": "0lMm2ZsXolOO",
        "outputId": "d8e606bb-0e1c-4329-b766-bbdf59aa9f9e"
      },
      "execution_count": null,
      "outputs": [
        {
          "output_type": "stream",
          "name": "stdout",
          "text": [
            "<class 'pandas.core.frame.DataFrame'>\n",
            "RangeIndex: 26026 entries, 0 to 26025\n",
            "Data columns (total 2 columns):\n",
            " #   Column       Non-Null Count  Dtype \n",
            "---  ------       --------------  ----- \n",
            " 0   business_id  26026 non-null  object\n",
            " 1   date         26026 non-null  object\n",
            "dtypes: object(2)\n",
            "memory usage: 406.8+ KB\n"
          ]
        }
      ]
    },
    {
      "cell_type": "code",
      "source": [
        "# Dividir los valores separados por coma en la columna 'date'\n",
        "df_checkin['date'] = df_checkin['date'].str.split(', ')\n",
        "\n",
        "# Expandir los valores de la lista en la columna 'date' en filas separadas\n",
        "df_checkin = df_checkin.explode('date')\n",
        "\n",
        "# Convertir en formato de tiempo\n",
        "df_checkin['date'] = pd.to_datetime(df_checkin['date'])\n",
        "\n",
        "# Transformar fecha al formato 'YYYY-MM-DD'\n",
        "df_checkin['date'] = df_checkin['date'].dt.strftime('%Y-%m-%d')\n",
        "\n",
        "df_checkin.head()"
      ],
      "metadata": {
        "colab": {
          "base_uri": "https://localhost:8080/",
          "height": 206
        },
        "id": "_bTAilBh6VFx",
        "outputId": "0c5ba877-dc3d-4e57-efcc-b46bb9656c5f"
      },
      "execution_count": null,
      "outputs": [
        {
          "output_type": "execute_result",
          "data": {
            "text/plain": [
              "              business_id                date\n",
              "0  ---kPU91CF4Lq2-WlRu9Lw 2020-03-13 21:10:56\n",
              "0  ---kPU91CF4Lq2-WlRu9Lw 2020-06-02 22:18:06\n",
              "0  ---kPU91CF4Lq2-WlRu9Lw 2020-07-24 22:42:27\n",
              "0  ---kPU91CF4Lq2-WlRu9Lw 2020-10-24 21:36:13\n",
              "0  ---kPU91CF4Lq2-WlRu9Lw 2020-12-09 21:23:33"
            ],
            "text/html": [
              "\n",
              "  <div id=\"df-0f0f646d-48b2-460b-974d-af1d33980a4f\">\n",
              "    <div class=\"colab-df-container\">\n",
              "      <div>\n",
              "<style scoped>\n",
              "    .dataframe tbody tr th:only-of-type {\n",
              "        vertical-align: middle;\n",
              "    }\n",
              "\n",
              "    .dataframe tbody tr th {\n",
              "        vertical-align: top;\n",
              "    }\n",
              "\n",
              "    .dataframe thead th {\n",
              "        text-align: right;\n",
              "    }\n",
              "</style>\n",
              "<table border=\"1\" class=\"dataframe\">\n",
              "  <thead>\n",
              "    <tr style=\"text-align: right;\">\n",
              "      <th></th>\n",
              "      <th>business_id</th>\n",
              "      <th>date</th>\n",
              "    </tr>\n",
              "  </thead>\n",
              "  <tbody>\n",
              "    <tr>\n",
              "      <th>0</th>\n",
              "      <td>---kPU91CF4Lq2-WlRu9Lw</td>\n",
              "      <td>2020-03-13 21:10:56</td>\n",
              "    </tr>\n",
              "    <tr>\n",
              "      <th>0</th>\n",
              "      <td>---kPU91CF4Lq2-WlRu9Lw</td>\n",
              "      <td>2020-06-02 22:18:06</td>\n",
              "    </tr>\n",
              "    <tr>\n",
              "      <th>0</th>\n",
              "      <td>---kPU91CF4Lq2-WlRu9Lw</td>\n",
              "      <td>2020-07-24 22:42:27</td>\n",
              "    </tr>\n",
              "    <tr>\n",
              "      <th>0</th>\n",
              "      <td>---kPU91CF4Lq2-WlRu9Lw</td>\n",
              "      <td>2020-10-24 21:36:13</td>\n",
              "    </tr>\n",
              "    <tr>\n",
              "      <th>0</th>\n",
              "      <td>---kPU91CF4Lq2-WlRu9Lw</td>\n",
              "      <td>2020-12-09 21:23:33</td>\n",
              "    </tr>\n",
              "  </tbody>\n",
              "</table>\n",
              "</div>\n",
              "      <button class=\"colab-df-convert\" onclick=\"convertToInteractive('df-0f0f646d-48b2-460b-974d-af1d33980a4f')\"\n",
              "              title=\"Convert this dataframe to an interactive table.\"\n",
              "              style=\"display:none;\">\n",
              "        \n",
              "  <svg xmlns=\"http://www.w3.org/2000/svg\" height=\"24px\"viewBox=\"0 0 24 24\"\n",
              "       width=\"24px\">\n",
              "    <path d=\"M0 0h24v24H0V0z\" fill=\"none\"/>\n",
              "    <path d=\"M18.56 5.44l.94 2.06.94-2.06 2.06-.94-2.06-.94-.94-2.06-.94 2.06-2.06.94zm-11 1L8.5 8.5l.94-2.06 2.06-.94-2.06-.94L8.5 2.5l-.94 2.06-2.06.94zm10 10l.94 2.06.94-2.06 2.06-.94-2.06-.94-.94-2.06-.94 2.06-2.06.94z\"/><path d=\"M17.41 7.96l-1.37-1.37c-.4-.4-.92-.59-1.43-.59-.52 0-1.04.2-1.43.59L10.3 9.45l-7.72 7.72c-.78.78-.78 2.05 0 2.83L4 21.41c.39.39.9.59 1.41.59.51 0 1.02-.2 1.41-.59l7.78-7.78 2.81-2.81c.8-.78.8-2.07 0-2.86zM5.41 20L4 18.59l7.72-7.72 1.47 1.35L5.41 20z\"/>\n",
              "  </svg>\n",
              "      </button>\n",
              "      \n",
              "  <style>\n",
              "    .colab-df-container {\n",
              "      display:flex;\n",
              "      flex-wrap:wrap;\n",
              "      gap: 12px;\n",
              "    }\n",
              "\n",
              "    .colab-df-convert {\n",
              "      background-color: #E8F0FE;\n",
              "      border: none;\n",
              "      border-radius: 50%;\n",
              "      cursor: pointer;\n",
              "      display: none;\n",
              "      fill: #1967D2;\n",
              "      height: 32px;\n",
              "      padding: 0 0 0 0;\n",
              "      width: 32px;\n",
              "    }\n",
              "\n",
              "    .colab-df-convert:hover {\n",
              "      background-color: #E2EBFA;\n",
              "      box-shadow: 0px 1px 2px rgba(60, 64, 67, 0.3), 0px 1px 3px 1px rgba(60, 64, 67, 0.15);\n",
              "      fill: #174EA6;\n",
              "    }\n",
              "\n",
              "    [theme=dark] .colab-df-convert {\n",
              "      background-color: #3B4455;\n",
              "      fill: #D2E3FC;\n",
              "    }\n",
              "\n",
              "    [theme=dark] .colab-df-convert:hover {\n",
              "      background-color: #434B5C;\n",
              "      box-shadow: 0px 1px 3px 1px rgba(0, 0, 0, 0.15);\n",
              "      filter: drop-shadow(0px 1px 2px rgba(0, 0, 0, 0.3));\n",
              "      fill: #FFFFFF;\n",
              "    }\n",
              "  </style>\n",
              "\n",
              "      <script>\n",
              "        const buttonEl =\n",
              "          document.querySelector('#df-0f0f646d-48b2-460b-974d-af1d33980a4f button.colab-df-convert');\n",
              "        buttonEl.style.display =\n",
              "          google.colab.kernel.accessAllowed ? 'block' : 'none';\n",
              "\n",
              "        async function convertToInteractive(key) {\n",
              "          const element = document.querySelector('#df-0f0f646d-48b2-460b-974d-af1d33980a4f');\n",
              "          const dataTable =\n",
              "            await google.colab.kernel.invokeFunction('convertToInteractive',\n",
              "                                                     [key], {});\n",
              "          if (!dataTable) return;\n",
              "\n",
              "          const docLinkHtml = 'Like what you see? Visit the ' +\n",
              "            '<a target=\"_blank\" href=https://colab.research.google.com/notebooks/data_table.ipynb>data table notebook</a>'\n",
              "            + ' to learn more about interactive tables.';\n",
              "          element.innerHTML = '';\n",
              "          dataTable['output_type'] = 'display_data';\n",
              "          await google.colab.output.renderOutput(dataTable, element);\n",
              "          const docLink = document.createElement('div');\n",
              "          docLink.innerHTML = docLinkHtml;\n",
              "          element.appendChild(docLink);\n",
              "        }\n",
              "      </script>\n",
              "    </div>\n",
              "  </div>\n",
              "  "
            ]
          },
          "metadata": {},
          "execution_count": 43
        }
      ]
    },
    {
      "cell_type": "code",
      "source": [
        "# Exportar archivo\n",
        "#df_checkin.to_csv('checkin_yelp.csv',index = False)"
      ],
      "metadata": {
        "id": "3yQ9geMhiics"
      },
      "execution_count": null,
      "outputs": []
    },
    {
      "cell_type": "markdown",
      "source": [
        "# Exportar a BigQuery"
      ],
      "metadata": {
        "id": "EgLkzFTwbXle"
      }
    },
    {
      "cell_type": "markdown",
      "source": [
        "## Crear dataset"
      ],
      "metadata": {
        "id": "bqARQHnfbdB0"
      }
    },
    {
      "cell_type": "code",
      "source": [
        "'''\n",
        "# Especificar el ID del dataset\n",
        "dataset_id = \"GoogleMaps\"\n",
        "\n",
        "# Crear un objeto de referencia del dataset\n",
        "dataset_ref = client.dataset(dataset_id)\n",
        "\n",
        "# Crear el dataset\n",
        "dataset = bigquery.Dataset(dataset_ref)\n",
        "dataset = client.create_dataset(dataset)\n",
        "\n",
        "print(f\"Dataset '{dataset.dataset_id}' created.\")"
      ],
      "metadata": {
        "id": "g8O87aOgba5W",
        "colab": {
          "base_uri": "https://localhost:8080/"
        },
        "outputId": "2ec21f9e-45e5-44be-f452-d1dd112ac819"
      },
      "execution_count": null,
      "outputs": [
        {
          "output_type": "stream",
          "name": "stdout",
          "text": [
            "Dataset 'GoogleMaps' created.\n"
          ]
        }
      ]
    },
    {
      "cell_type": "code",
      "source": [
        "'''\n",
        "# Especificar el ID del dataset\n",
        "dataset_id2 = \"Yelp2\"\n",
        "\n",
        "# Crear un objeto de referencia del dataset\n",
        "dataset_ref2 = client.dataset(dataset_id2)\n",
        "\n",
        "# Crear el dataset\n",
        "dataset2 = bigquery.Dataset(dataset_ref2)\n",
        "dataset2 = client.create_dataset(dataset2)\n"
      ],
      "metadata": {
        "id": "GNrem3rBcDQ2"
      },
      "execution_count": null,
      "outputs": []
    },
    {
      "cell_type": "code",
      "source": [
        "print(f\"Dataset '{dataset2.dataset_id}' created.\")"
      ],
      "metadata": {
        "colab": {
          "base_uri": "https://localhost:8080/"
        },
        "id": "C7ujOAAwYFFG",
        "outputId": "2a97b996-be0b-4020-cb00-194ebda00dc7"
      },
      "execution_count": null,
      "outputs": [
        {
          "output_type": "stream",
          "name": "stdout",
          "text": [
            "Dataset 'Yelp2' created.\n"
          ]
        }
      ]
    },
    {
      "cell_type": "markdown",
      "source": [
        "## Crear tablas"
      ],
      "metadata": {
        "id": "ob275YJEc-0m"
      }
    },
    {
      "cell_type": "markdown",
      "source": [
        "### GoogleMaps"
      ],
      "metadata": {
        "id": "CL6Teh6ieFIY"
      }
    },
    {
      "cell_type": "code",
      "source": [
        "'''\n",
        "# Crear un objeto de referencia de la tabla\n",
        "tableRef1 = client.dataset(\"GoogleMaps\").table(\"metadata\")\n",
        "\n",
        "# Definir trabajo\n",
        "bigqueryJob1 = client.load_table_from_dataframe(df_meta2, tableRef1)\n",
        "\n",
        "# Ejecutar trabajo\n",
        "bigqueryJob1.result()"
      ],
      "metadata": {
        "id": "baeuLv-wdBVc",
        "colab": {
          "base_uri": "https://localhost:8080/"
        },
        "outputId": "5b055a41-9d83-44d6-9d8d-81738c45918e"
      },
      "execution_count": null,
      "outputs": [
        {
          "output_type": "execute_result",
          "data": {
            "text/plain": [
              "LoadJob<project=pg-yelp-gmaps-389415, location=US, id=4c691f49-f74c-452b-b524-59d080d74c6d>"
            ]
          },
          "metadata": {},
          "execution_count": 93
        }
      ]
    },
    {
      "cell_type": "code",
      "source": [
        "'''\n",
        "# Crear un objeto de referencia de la tabla\n",
        "tableRef2 = client.dataset(\"GoogleMaps\").table(\"reviews\")\n",
        "\n",
        "# Definir trabajo\n",
        "bigqueryJob2 = client.load_table_from_dataframe(df_reviewg, tableRef2)\n",
        "\n",
        "# Ejecutar trabajo\n",
        "bigqueryJob2.result()"
      ],
      "metadata": {
        "id": "iS92_Pw7eTkt",
        "colab": {
          "base_uri": "https://localhost:8080/"
        },
        "outputId": "6dd2b590-6274-475c-9060-2478b44c5dc3"
      },
      "execution_count": null,
      "outputs": [
        {
          "output_type": "execute_result",
          "data": {
            "text/plain": [
              "LoadJob<project=pg-yelp-gmaps-389415, location=US, id=c3ccd301-e155-4061-abeb-ce86e9194d08>"
            ]
          },
          "metadata": {},
          "execution_count": 94
        }
      ]
    },
    {
      "cell_type": "markdown",
      "source": [
        "### Yelp"
      ],
      "metadata": {
        "id": "cQi82eHde104"
      }
    },
    {
      "cell_type": "code",
      "source": [
        "'''\n",
        "# Crear un objeto de referencia de la tabla\n",
        "tableRef3 = client.dataset(\"Yelp2\").table(\"business\")\n",
        "\n",
        "# Definir trabajo\n",
        "bigqueryJob3 = client.load_table_from_dataframe(df_business, tableRef3)\n",
        "\n",
        "# Ejecutar trabajo\n",
        "bigqueryJob3.result()"
      ],
      "metadata": {
        "id": "NgWPYKny9-9h",
        "colab": {
          "base_uri": "https://localhost:8080/"
        },
        "outputId": "cbd0b03f-bc29-458f-95b0-0882509bba27"
      },
      "execution_count": null,
      "outputs": [
        {
          "output_type": "execute_result",
          "data": {
            "text/plain": [
              "LoadJob<project=pg-yelp-gmaps-389415, location=US, id=82fb28df-73e4-492f-aa29-39ada2f7604f>"
            ]
          },
          "metadata": {},
          "execution_count": 95
        }
      ]
    },
    {
      "cell_type": "code",
      "source": [
        "'''\n",
        "# Crear un objeto de referencia de la tabla\n",
        "tableRef4 = client.dataset(\"Yelp2\").table(\"reviews\")\n",
        "\n",
        "# Definir trabajo\n",
        "bigqueryJob4 = client.load_table_from_dataframe(yelp_reviews, tableRef4)\n",
        "\n",
        "# Ejecutar trabajo\n",
        "bigqueryJob4.result()"
      ],
      "metadata": {
        "id": "2zrXnGVO-Zmm",
        "colab": {
          "base_uri": "https://localhost:8080/"
        },
        "outputId": "1c4179ec-0af5-44e3-a88b-c63224c98fc3"
      },
      "execution_count": null,
      "outputs": [
        {
          "output_type": "execute_result",
          "data": {
            "text/plain": [
              "LoadJob<project=pg-yelp-gmaps-389415, location=US, id=90876ca4-3bec-478b-b555-b119093f5043>"
            ]
          },
          "metadata": {},
          "execution_count": 96
        }
      ]
    },
    {
      "cell_type": "code",
      "source": [
        "'''\n",
        "# Crear un objeto de referencia de la tabla\n",
        "tableRef5 = client.dataset(\"Yelp2\").table(\"checkin\")\n",
        "\n",
        "# Definir trabajo\n",
        "bigqueryJob5 = client.load_table_from_dataframe(df_checkin, tableRef5)\n",
        "\n",
        "# Ejecutar trabajo\n",
        "bigqueryJob5.result()"
      ],
      "metadata": {
        "id": "49koyZaY-qAV",
        "colab": {
          "base_uri": "https://localhost:8080/"
        },
        "outputId": "22c629ea-4b3d-48aa-d2b7-18ed202292a2"
      },
      "execution_count": null,
      "outputs": [
        {
          "output_type": "execute_result",
          "data": {
            "text/plain": [
              "LoadJob<project=pg-yelp-gmaps-389415, location=US, id=7c224cbb-4a9a-47d9-bd9a-0a9061315d24>"
            ]
          },
          "metadata": {},
          "execution_count": 97
        }
      ]
    }
  ]
}