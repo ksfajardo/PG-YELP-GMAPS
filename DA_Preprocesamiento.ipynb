{
  "nbformat": 4,
  "nbformat_minor": 0,
  "metadata": {
    "colab": {
      "provenance": [],
      "include_colab_link": true
    },
    "kernelspec": {
      "name": "python3",
      "display_name": "Python 3"
    },
    "language_info": {
      "name": "python"
    }
  },
  "cells": [
    {
      "cell_type": "markdown",
      "metadata": {
        "id": "view-in-github",
        "colab_type": "text"
      },
      "source": [
        "<a href=\"https://colab.research.google.com/github/ksfajardo/PG-YELP-GMAPS/blob/DA/DA_Preprocesamiento.ipynb\" target=\"_parent\"><img src=\"https://colab.research.google.com/assets/colab-badge.svg\" alt=\"Open In Colab\"/></a>"
      ]
    },
    {
      "cell_type": "markdown",
      "source": [
        "# Acceso a Big Query"
      ],
      "metadata": {
        "id": "EEHMQGciDD_r"
      }
    },
    {
      "cell_type": "code",
      "execution_count": null,
      "metadata": {
        "id": "3hXl4DXfpttt"
      },
      "outputs": [],
      "source": [
        "# Verificación de cuenta\n",
        "from google.colab import auth\n",
        "auth.authenticate_user()"
      ]
    },
    {
      "cell_type": "code",
      "source": [
        "#Acceder al proyecto de BigQuery\n",
        "\n",
        "from google.cloud import bigquery\n",
        "client = bigquery.Client(project='pg-yelp-gmaps-389415')"
      ],
      "metadata": {
        "id": "fSfYaSqtqibl"
      },
      "execution_count": null,
      "outputs": []
    },
    {
      "cell_type": "markdown",
      "source": [
        "# Importar librerías"
      ],
      "metadata": {
        "id": "TJoCY96lb44r"
      }
    },
    {
      "cell_type": "code",
      "source": [
        "import pandas as pd\n",
        "import ast"
      ],
      "metadata": {
        "id": "WhvfCVjq7AlX"
      },
      "execution_count": null,
      "outputs": []
    },
    {
      "cell_type": "markdown",
      "source": [
        "# Importación de datos desde BigQuery\n",
        "## ⚠⚠⚠"
      ],
      "metadata": {
        "id": "3Ly70NnMJz7P"
      }
    },
    {
      "cell_type": "markdown",
      "source": [
        "## Google"
      ],
      "metadata": {
        "id": "caelA4OsKQ06"
      }
    },
    {
      "cell_type": "markdown",
      "source": [
        "### Metadata"
      ],
      "metadata": {
        "id": "X141U3PDKTU4"
      }
    },
    {
      "cell_type": "code",
      "source": [
        "# COBRA AL CORRER\n",
        "#Consultar la tabla Metadata del dataset GMaps\n",
        "\n",
        "sql_query = ('''SELECT *\n",
        "                FROM pg-yelp-gmaps.GMaps.Metadata\n",
        "                ''')\n",
        "\n",
        "df_meta = client.query(sql_query).to_dataframe()"
      ],
      "metadata": {
        "id": "BSz90Tcjqt3m"
      },
      "execution_count": null,
      "outputs": []
    },
    {
      "cell_type": "markdown",
      "source": [
        "### Reviews"
      ],
      "metadata": {
        "id": "UmduTUX8Kssq"
      }
    },
    {
      "cell_type": "code",
      "source": [
        "# COBRA AL CORRER\n",
        "#Consultar la tabla Reviews Part 1/4 del dataset GMaps\n",
        "\n",
        "sql_query = ('''SELECT *\n",
        "                FROM pg-yelp-gmaps.GMaps.Reviews\n",
        "                LIMIT 3000000''')\n",
        "\n",
        "df_reviewg_1 = client.query(sql_query).to_dataframe()"
      ],
      "metadata": {
        "id": "OSyijh_4Bjjc"
      },
      "execution_count": null,
      "outputs": []
    },
    {
      "cell_type": "code",
      "source": [
        "# COBRA AL CORRER\n",
        "#Consultar la tabla Reviews Part 2/4 del dataset GMaps\n",
        "\n",
        "sql_query = ('''SELECT *\n",
        "                FROM pg-yelp-gmaps.GMaps.Reviews\n",
        "                LIMIT 3000000 OFFSET 3000000''')\n",
        "\n",
        "df_reviewg_2 = client.query(sql_query).to_dataframe()"
      ],
      "metadata": {
        "id": "R8eLymbHztrZ"
      },
      "execution_count": null,
      "outputs": []
    },
    {
      "cell_type": "code",
      "source": [
        "# COBRA AL CORRER\n",
        "#Consultar la tabla Reviews Part 3/4 del dataset GMaps\n",
        "\n",
        "sql_query = ('''SELECT *\n",
        "                FROM pg-yelp-gmaps.GMaps.Reviews\n",
        "                LIMIT 3000000 OFFSET 6000000''')\n",
        "\n",
        "df_reviewg_3 = client.query(sql_query).to_dataframe()"
      ],
      "metadata": {
        "id": "eQTVTvsW1kNz"
      },
      "execution_count": null,
      "outputs": []
    },
    {
      "cell_type": "code",
      "source": [
        "# COBRA AL CORRER\n",
        "#Consultar la tabla Reviews Part 4/4 del dataset GMaps\n",
        "\n",
        "sql_query = ('''SELECT *\n",
        "                FROM pg-yelp-gmaps.GMaps.Reviews\n",
        "                LIMIT 3381800 OFFSET 9000000''')\n",
        "\n",
        "df_reviewg_4 = client.query(sql_query).to_dataframe()"
      ],
      "metadata": {
        "id": "taeEA4uC1xxZ"
      },
      "execution_count": null,
      "outputs": []
    },
    {
      "cell_type": "markdown",
      "source": [
        "## Yelp"
      ],
      "metadata": {
        "id": "WKLmkPaVKzKf"
      }
    },
    {
      "cell_type": "markdown",
      "source": [
        "### Business"
      ],
      "metadata": {
        "id": "vnpcs4phK0-N"
      }
    },
    {
      "cell_type": "code",
      "source": [
        "# COBRA AL CORRER\n",
        "#Consultar la tabla business del dataset Yelp\n",
        "\n",
        "sql_query = ('''SELECT *\n",
        "                FROM pg-yelp-gmaps.Yelp.business\n",
        "                ''')\n",
        "\n",
        "df_business = client.query(sql_query).to_dataframe()"
      ],
      "metadata": {
        "id": "qPABtdhSMPTj"
      },
      "execution_count": null,
      "outputs": []
    },
    {
      "cell_type": "markdown",
      "source": [
        "### Reviews"
      ],
      "metadata": {
        "id": "5XxaA5yaNkWO"
      }
    },
    {
      "cell_type": "code",
      "source": [
        "# COBRA AL CORRER\n",
        "#Consultar la tabla Reviews del dataset Yelp\n",
        "\n",
        "sql_query = ('''SELECT *\n",
        "                FROM pg-yelp-gmaps.Yelp.Reviews\n",
        "                ''')\n",
        "\n",
        "yelp_reviews = client.query(sql_query).to_dataframe()"
      ],
      "metadata": {
        "id": "MUj4Ga9zNnVH"
      },
      "execution_count": null,
      "outputs": []
    },
    {
      "cell_type": "markdown",
      "source": [
        "### Checkin"
      ],
      "metadata": {
        "id": "bCyu2e11PLbR"
      }
    },
    {
      "cell_type": "code",
      "source": [
        "# COBRA AL CORRER\n",
        "#Consultar la tabla checkin del dataset Yelp\n",
        "\n",
        "sql_query = ('''SELECT *\n",
        "                FROM pg-yelp-gmaps.Yelp.checkin\n",
        "                ''')\n",
        "\n",
        "df_checkin = client.query(sql_query).to_dataframe()"
      ],
      "metadata": {
        "id": "0-iCV4cbPPhK"
      },
      "execution_count": null,
      "outputs": []
    },
    {
      "cell_type": "markdown",
      "source": [
        "# Google"
      ],
      "metadata": {
        "id": "Q-5cAVyqDQME"
      }
    },
    {
      "cell_type": "markdown",
      "source": [
        "## Metadata"
      ],
      "metadata": {
        "id": "PI30Vo5NFL9j"
      }
    },
    {
      "cell_type": "code",
      "source": [
        "df_meta.head()"
      ],
      "metadata": {
        "colab": {
          "base_uri": "https://localhost:8080/",
          "height": 337
        },
        "id": "WpWTQgjDBDbB",
        "outputId": "e29b285e-bcb2-4c60-b453-606167d03d8b"
      },
      "execution_count": null,
      "outputs": [
        {
          "output_type": "execute_result",
          "data": {
            "text/plain": [
              "                        local_name                                gmap_id  \\\n",
              "0                     Waffle House  0x888942e07219e07f:0x7f23281a27e58635   \n",
              "1                       Doctor BBQ  0x886201ded8ffb9a7:0xf0bf7ff009a367c3   \n",
              "2         Korea Central Daily News  0x80dd2890e738c6d5:0xb2631a52958ffae0   \n",
              "3  Spiro and Star (S&S) Restaurant  0x880e2cdacbbe5741:0x579180a4e0b6f3ce   \n",
              "4                         Restroom  0x88327f63caa31723:0x86eaa385d28fe96d   \n",
              "\n",
              "     latitude            longitude  \\\n",
              "0    33.34435          -86.4395262   \n",
              "1  34.5132216          -86.2591951   \n",
              "2  33.7740997  -117.98799559999999   \n",
              "3  41.8840989          -87.6483245   \n",
              "4  42.1240993   -80.14828589999999   \n",
              "\n",
              "                                         subcategory avg_rating  \\\n",
              "0  breakfast restaurant, american restaurant, din...        1.0   \n",
              "1                                barbecue restaurant        1.0   \n",
              "2                                newspaper publisher        1.0   \n",
              "3                                         restaurant        1.0   \n",
              "4                                    public bathroom        1.0   \n",
              "\n",
              "  num_of_reviews price hours  \\\n",
              "0              3     $  None   \n",
              "1              1  None  None   \n",
              "2              1  None  None   \n",
              "3              1  None  None   \n",
              "4              1  None  None   \n",
              "\n",
              "                                                MISC state     platform  \\\n",
              "0  {\"Service options\": [\"Takeout\", \"Delivery\", \"D...  None  Google Maps   \n",
              "1  {\"Service options\": [\"Takeout\", \"Delivery\"], \"...  None  Google Maps   \n",
              "2  {\"Accessibility\": [\"Wheelchair accessible entr...  None  Google Maps   \n",
              "3  {\"Service options\": [\"Delivery\"], \"Accessibili...  None  Google Maps   \n",
              "4  {\"Accessibility\": [\"Wheelchair accessible entr...  None  Google Maps   \n",
              "\n",
              "       category  \n",
              "0  food service  \n",
              "1  food service  \n",
              "2  food service  \n",
              "3  food service  \n",
              "4  food service  "
            ],
            "text/html": [
              "\n",
              "  <div id=\"df-cdd8b823-2c07-41e5-84ad-d934cf235c98\">\n",
              "    <div class=\"colab-df-container\">\n",
              "      <div>\n",
              "<style scoped>\n",
              "    .dataframe tbody tr th:only-of-type {\n",
              "        vertical-align: middle;\n",
              "    }\n",
              "\n",
              "    .dataframe tbody tr th {\n",
              "        vertical-align: top;\n",
              "    }\n",
              "\n",
              "    .dataframe thead th {\n",
              "        text-align: right;\n",
              "    }\n",
              "</style>\n",
              "<table border=\"1\" class=\"dataframe\">\n",
              "  <thead>\n",
              "    <tr style=\"text-align: right;\">\n",
              "      <th></th>\n",
              "      <th>local_name</th>\n",
              "      <th>gmap_id</th>\n",
              "      <th>latitude</th>\n",
              "      <th>longitude</th>\n",
              "      <th>subcategory</th>\n",
              "      <th>avg_rating</th>\n",
              "      <th>num_of_reviews</th>\n",
              "      <th>price</th>\n",
              "      <th>hours</th>\n",
              "      <th>MISC</th>\n",
              "      <th>state</th>\n",
              "      <th>platform</th>\n",
              "      <th>category</th>\n",
              "    </tr>\n",
              "  </thead>\n",
              "  <tbody>\n",
              "    <tr>\n",
              "      <th>0</th>\n",
              "      <td>Waffle House</td>\n",
              "      <td>0x888942e07219e07f:0x7f23281a27e58635</td>\n",
              "      <td>33.34435</td>\n",
              "      <td>-86.4395262</td>\n",
              "      <td>breakfast restaurant, american restaurant, din...</td>\n",
              "      <td>1.0</td>\n",
              "      <td>3</td>\n",
              "      <td>$</td>\n",
              "      <td>None</td>\n",
              "      <td>{\"Service options\": [\"Takeout\", \"Delivery\", \"D...</td>\n",
              "      <td>None</td>\n",
              "      <td>Google Maps</td>\n",
              "      <td>food service</td>\n",
              "    </tr>\n",
              "    <tr>\n",
              "      <th>1</th>\n",
              "      <td>Doctor BBQ</td>\n",
              "      <td>0x886201ded8ffb9a7:0xf0bf7ff009a367c3</td>\n",
              "      <td>34.5132216</td>\n",
              "      <td>-86.2591951</td>\n",
              "      <td>barbecue restaurant</td>\n",
              "      <td>1.0</td>\n",
              "      <td>1</td>\n",
              "      <td>None</td>\n",
              "      <td>None</td>\n",
              "      <td>{\"Service options\": [\"Takeout\", \"Delivery\"], \"...</td>\n",
              "      <td>None</td>\n",
              "      <td>Google Maps</td>\n",
              "      <td>food service</td>\n",
              "    </tr>\n",
              "    <tr>\n",
              "      <th>2</th>\n",
              "      <td>Korea Central Daily News</td>\n",
              "      <td>0x80dd2890e738c6d5:0xb2631a52958ffae0</td>\n",
              "      <td>33.7740997</td>\n",
              "      <td>-117.98799559999999</td>\n",
              "      <td>newspaper publisher</td>\n",
              "      <td>1.0</td>\n",
              "      <td>1</td>\n",
              "      <td>None</td>\n",
              "      <td>None</td>\n",
              "      <td>{\"Accessibility\": [\"Wheelchair accessible entr...</td>\n",
              "      <td>None</td>\n",
              "      <td>Google Maps</td>\n",
              "      <td>food service</td>\n",
              "    </tr>\n",
              "    <tr>\n",
              "      <th>3</th>\n",
              "      <td>Spiro and Star (S&amp;S) Restaurant</td>\n",
              "      <td>0x880e2cdacbbe5741:0x579180a4e0b6f3ce</td>\n",
              "      <td>41.8840989</td>\n",
              "      <td>-87.6483245</td>\n",
              "      <td>restaurant</td>\n",
              "      <td>1.0</td>\n",
              "      <td>1</td>\n",
              "      <td>None</td>\n",
              "      <td>None</td>\n",
              "      <td>{\"Service options\": [\"Delivery\"], \"Accessibili...</td>\n",
              "      <td>None</td>\n",
              "      <td>Google Maps</td>\n",
              "      <td>food service</td>\n",
              "    </tr>\n",
              "    <tr>\n",
              "      <th>4</th>\n",
              "      <td>Restroom</td>\n",
              "      <td>0x88327f63caa31723:0x86eaa385d28fe96d</td>\n",
              "      <td>42.1240993</td>\n",
              "      <td>-80.14828589999999</td>\n",
              "      <td>public bathroom</td>\n",
              "      <td>1.0</td>\n",
              "      <td>1</td>\n",
              "      <td>None</td>\n",
              "      <td>None</td>\n",
              "      <td>{\"Accessibility\": [\"Wheelchair accessible entr...</td>\n",
              "      <td>None</td>\n",
              "      <td>Google Maps</td>\n",
              "      <td>food service</td>\n",
              "    </tr>\n",
              "  </tbody>\n",
              "</table>\n",
              "</div>\n",
              "      <button class=\"colab-df-convert\" onclick=\"convertToInteractive('df-cdd8b823-2c07-41e5-84ad-d934cf235c98')\"\n",
              "              title=\"Convert this dataframe to an interactive table.\"\n",
              "              style=\"display:none;\">\n",
              "        \n",
              "  <svg xmlns=\"http://www.w3.org/2000/svg\" height=\"24px\"viewBox=\"0 0 24 24\"\n",
              "       width=\"24px\">\n",
              "    <path d=\"M0 0h24v24H0V0z\" fill=\"none\"/>\n",
              "    <path d=\"M18.56 5.44l.94 2.06.94-2.06 2.06-.94-2.06-.94-.94-2.06-.94 2.06-2.06.94zm-11 1L8.5 8.5l.94-2.06 2.06-.94-2.06-.94L8.5 2.5l-.94 2.06-2.06.94zm10 10l.94 2.06.94-2.06 2.06-.94-2.06-.94-.94-2.06-.94 2.06-2.06.94z\"/><path d=\"M17.41 7.96l-1.37-1.37c-.4-.4-.92-.59-1.43-.59-.52 0-1.04.2-1.43.59L10.3 9.45l-7.72 7.72c-.78.78-.78 2.05 0 2.83L4 21.41c.39.39.9.59 1.41.59.51 0 1.02-.2 1.41-.59l7.78-7.78 2.81-2.81c.8-.78.8-2.07 0-2.86zM5.41 20L4 18.59l7.72-7.72 1.47 1.35L5.41 20z\"/>\n",
              "  </svg>\n",
              "      </button>\n",
              "      \n",
              "  <style>\n",
              "    .colab-df-container {\n",
              "      display:flex;\n",
              "      flex-wrap:wrap;\n",
              "      gap: 12px;\n",
              "    }\n",
              "\n",
              "    .colab-df-convert {\n",
              "      background-color: #E8F0FE;\n",
              "      border: none;\n",
              "      border-radius: 50%;\n",
              "      cursor: pointer;\n",
              "      display: none;\n",
              "      fill: #1967D2;\n",
              "      height: 32px;\n",
              "      padding: 0 0 0 0;\n",
              "      width: 32px;\n",
              "    }\n",
              "\n",
              "    .colab-df-convert:hover {\n",
              "      background-color: #E2EBFA;\n",
              "      box-shadow: 0px 1px 2px rgba(60, 64, 67, 0.3), 0px 1px 3px 1px rgba(60, 64, 67, 0.15);\n",
              "      fill: #174EA6;\n",
              "    }\n",
              "\n",
              "    [theme=dark] .colab-df-convert {\n",
              "      background-color: #3B4455;\n",
              "      fill: #D2E3FC;\n",
              "    }\n",
              "\n",
              "    [theme=dark] .colab-df-convert:hover {\n",
              "      background-color: #434B5C;\n",
              "      box-shadow: 0px 1px 3px 1px rgba(0, 0, 0, 0.15);\n",
              "      filter: drop-shadow(0px 1px 2px rgba(0, 0, 0, 0.3));\n",
              "      fill: #FFFFFF;\n",
              "    }\n",
              "  </style>\n",
              "\n",
              "      <script>\n",
              "        const buttonEl =\n",
              "          document.querySelector('#df-cdd8b823-2c07-41e5-84ad-d934cf235c98 button.colab-df-convert');\n",
              "        buttonEl.style.display =\n",
              "          google.colab.kernel.accessAllowed ? 'block' : 'none';\n",
              "\n",
              "        async function convertToInteractive(key) {\n",
              "          const element = document.querySelector('#df-cdd8b823-2c07-41e5-84ad-d934cf235c98');\n",
              "          const dataTable =\n",
              "            await google.colab.kernel.invokeFunction('convertToInteractive',\n",
              "                                                     [key], {});\n",
              "          if (!dataTable) return;\n",
              "\n",
              "          const docLinkHtml = 'Like what you see? Visit the ' +\n",
              "            '<a target=\"_blank\" href=https://colab.research.google.com/notebooks/data_table.ipynb>data table notebook</a>'\n",
              "            + ' to learn more about interactive tables.';\n",
              "          element.innerHTML = '';\n",
              "          dataTable['output_type'] = 'display_data';\n",
              "          await google.colab.output.renderOutput(dataTable, element);\n",
              "          const docLink = document.createElement('div');\n",
              "          docLink.innerHTML = docLinkHtml;\n",
              "          element.appendChild(docLink);\n",
              "        }\n",
              "      </script>\n",
              "    </div>\n",
              "  </div>\n",
              "  "
            ]
          },
          "metadata": {},
          "execution_count": 13
        }
      ]
    },
    {
      "cell_type": "code",
      "source": [
        "df_meta.info()"
      ],
      "metadata": {
        "colab": {
          "base_uri": "https://localhost:8080/"
        },
        "id": "6umFVfbXIT6s",
        "outputId": "97385462-9fe9-4888-8f91-bab921a481ad"
      },
      "execution_count": null,
      "outputs": [
        {
          "output_type": "stream",
          "name": "stdout",
          "text": [
            "<class 'pandas.core.frame.DataFrame'>\n",
            "RangeIndex: 377301 entries, 0 to 377300\n",
            "Data columns (total 13 columns):\n",
            " #   Column          Non-Null Count   Dtype \n",
            "---  ------          --------------   ----- \n",
            " 0   local_name      377301 non-null  object\n",
            " 1   gmap_id         377301 non-null  object\n",
            " 2   latitude        377301 non-null  object\n",
            " 3   longitude       377301 non-null  object\n",
            " 4   subcategory     377301 non-null  object\n",
            " 5   avg_rating      377301 non-null  object\n",
            " 6   num_of_reviews  377301 non-null  object\n",
            " 7   price           377301 non-null  object\n",
            " 8   hours           377301 non-null  object\n",
            " 9   MISC            377301 non-null  object\n",
            " 10  state           377301 non-null  object\n",
            " 11  platform        377301 non-null  object\n",
            " 12  category        377301 non-null  object\n",
            "dtypes: object(13)\n",
            "memory usage: 37.4+ MB\n"
          ]
        }
      ]
    },
    {
      "cell_type": "code",
      "source": [
        "# Eliminar registros que no corresponden a restaurantes\n",
        "idx = df_meta[df_meta['subcategory'].str.contains('food store|supplier|public|publish|convenience|gas |atm|bank|manufacturer|organization|food service|food producer|food market')].index\n",
        "df_meta = df_meta.drop(idx).reset_index(drop = True)"
      ],
      "metadata": {
        "id": "S3rBiVQ4Gowm"
      },
      "execution_count": null,
      "outputs": []
    },
    {
      "cell_type": "code",
      "source": [
        "#Transformar al tipo de dato correspondiente\n",
        "df_meta['hours'] = df_meta['hours'].apply(lambda x: ast.literal_eval(x))\n",
        "df_meta['MISC'] = df_meta['MISC'].apply(lambda x: ast.literal_eval(x))\n",
        "df_meta.info()"
      ],
      "metadata": {
        "id": "H2w8D-w76qiM",
        "colab": {
          "base_uri": "https://localhost:8080/"
        },
        "outputId": "92243b31-e9f7-44ea-cb5e-94b36a399bf1"
      },
      "execution_count": null,
      "outputs": [
        {
          "output_type": "stream",
          "name": "stdout",
          "text": [
            "<class 'pandas.core.frame.DataFrame'>\n",
            "RangeIndex: 324331 entries, 0 to 324330\n",
            "Data columns (total 13 columns):\n",
            " #   Column          Non-Null Count   Dtype \n",
            "---  ------          --------------   ----- \n",
            " 0   local_name      324331 non-null  object\n",
            " 1   gmap_id         324331 non-null  object\n",
            " 2   latitude        324331 non-null  object\n",
            " 3   longitude       324331 non-null  object\n",
            " 4   subcategory     324331 non-null  object\n",
            " 5   avg_rating      324331 non-null  object\n",
            " 6   num_of_reviews  324331 non-null  object\n",
            " 7   price           324331 non-null  object\n",
            " 8   hours           286622 non-null  object\n",
            " 9   MISC            311723 non-null  object\n",
            " 10  state           324331 non-null  object\n",
            " 11  platform        324331 non-null  object\n",
            " 12  category        324331 non-null  object\n",
            "dtypes: object(13)\n",
            "memory usage: 32.2+ MB\n"
          ]
        }
      ]
    },
    {
      "cell_type": "markdown",
      "source": [
        "### Categorías de restaurantes"
      ],
      "metadata": {
        "id": "6pUm9jJj9wse"
      }
    },
    {
      "cell_type": "code",
      "source": [
        "# Definir función para categorizar\n",
        "def categorize (row):\n",
        "    '''\n",
        "    Dado un string como entrada, devuelve a la categoría a la que pertenece según las palabras que contiene.\n",
        "    '''\n",
        "    row = row.lower()\n",
        "    if 'fast food' in row:\n",
        "        return 'Fast food'\n",
        "    elif any(word in row for word in ['burger', 'chicken', 'barbecue', 'barbeque', 'steak','bistro','buffet']):\n",
        "        return 'Tradicional'\n",
        "    elif any(word in row for word in ['pizza', 'sandwich', 'hot dog']):\n",
        "        return 'Pizza & Sandwich'\n",
        "    elif any(word in row for word in ['bar', 'beer', 'pub','club']):\n",
        "        return 'Bar'\n",
        "    elif any(word in row for word in ['mexican', 'taco']):\n",
        "        return 'Mexicana'\n",
        "    elif any(word in row for word in ['deli', 'seafood', 'wine', 'cocktail','vegan','vegeta']):\n",
        "        return 'Epecial'\n",
        "    elif any(word in row for word in ['chinese', 'italian', 'asian', 'japan', 'sushi', 'thai', 'indian', 'korean','latin','ramen','africa'\\\n",
        "                                       'mediterranean','vietnamese','jamaica','greek','eastern','caribbean','cuba','peru','salvador','cajun','french']):\n",
        "        return 'Internacional'\n",
        "    elif any(word in row for word in ['coffee','cafe', 'ice cream', 'dessert', 'yogurt', 'bakery', 'pastry', 'breakfast', 'cupcake', 'tea', 'smoothie','juice']):\n",
        "        return 'Desayuno'\n",
        "    else:\n",
        "        return 'Sin Dato'\n",
        "\n",
        "# Aplicar la función categorize a la columna subcategory y crear una nueva columna\n",
        "df_meta['rest_category'] = df_meta['subcategory'].apply(categorize)\n",
        "# Identifico índices de restaurantes sin clasificar\n",
        "idx_otra = list(df_meta[df_meta['rest_category'] == 'Sin Dato'].index)\n",
        "# Aplicar nuevamente la función categorize, para la columna local_name y los resturantes sin clasificar\n",
        "df_meta.loc[idx_otra,'rest_category'] = df_meta.loc[idx_otra,'local_name'].apply(categorize)"
      ],
      "metadata": {
        "id": "Rp5bLnki94dz"
      },
      "execution_count": null,
      "outputs": []
    },
    {
      "cell_type": "code",
      "source": [
        "df_meta.rest_category.value_counts()"
      ],
      "metadata": {
        "colab": {
          "base_uri": "https://localhost:8080/"
        },
        "id": "dMXPTngq-7e3",
        "outputId": "bea6895c-8c80-4814-dd48-9b25228ee1d9"
      },
      "execution_count": null,
      "outputs": [
        {
          "output_type": "execute_result",
          "data": {
            "text/plain": [
              "Bar                 90096\n",
              "Desayuno            56380\n",
              "Sin Dato            42571\n",
              "Internacional       29699\n",
              "Pizza & Sandwich    27992\n",
              "Fast food           27303\n",
              "Tradicional         19693\n",
              "Mexicana            17553\n",
              "Epecial             13044\n",
              "Name: rest_category, dtype: int64"
            ]
          },
          "metadata": {},
          "execution_count": 18
        }
      ]
    },
    {
      "cell_type": "markdown",
      "source": [
        "### Eliminar registros usando subcategorías y categorías"
      ],
      "metadata": {
        "id": "dAQpOO0qlft4"
      }
    },
    {
      "cell_type": "code",
      "source": [
        "# Eliminar registros que hayan quedado en categoría 'Sin dato' y la subcategoría NO contenga 'restaurant'\n",
        "idx2 = list(df_meta[(df_meta['rest_category'] == 'Sin Dato') & (~df_meta['subcategory'].str.contains('restaurant'))].index)\n",
        "df_meta = df_meta.drop(idx2).reset_index(drop = True)"
      ],
      "metadata": {
        "id": "0gqNgMgk_J--"
      },
      "execution_count": null,
      "outputs": []
    },
    {
      "cell_type": "code",
      "source": [
        "df_meta.rest_category.value_counts()"
      ],
      "metadata": {
        "colab": {
          "base_uri": "https://localhost:8080/"
        },
        "id": "lMSrk-l-hRME",
        "outputId": "7011c48a-2192-48ec-de7b-72fd7e1a353f"
      },
      "execution_count": null,
      "outputs": [
        {
          "output_type": "execute_result",
          "data": {
            "text/plain": [
              "Bar                 90096\n",
              "Desayuno            56380\n",
              "Sin Dato            41264\n",
              "Internacional       29699\n",
              "Pizza & Sandwich    27992\n",
              "Fast food           27303\n",
              "Tradicional         19693\n",
              "Mexicana            17553\n",
              "Epecial             13044\n",
              "Name: rest_category, dtype: int64"
            ]
          },
          "metadata": {},
          "execution_count": 20
        }
      ]
    },
    {
      "cell_type": "markdown",
      "source": [
        "### Días abierto"
      ],
      "metadata": {
        "id": "sc4cbifM8YR_"
      }
    },
    {
      "cell_type": "code",
      "source": [
        "# Obtener lista de días abiertos\n",
        "df_meta['days_open'] = df_meta[~df_meta.hours.isna()]['hours'].apply(lambda x: [day[0] for day in x if day[1] != 'Closed'])"
      ],
      "metadata": {
        "id": "r7wNzecf8bFM"
      },
      "execution_count": null,
      "outputs": []
    },
    {
      "cell_type": "code",
      "source": [
        "#Días abiertos discreto\n",
        "\n",
        "def open (row):\n",
        "    '''\n",
        "    Dado una lista de días como entrada, devuelve la categoría a la que pertenece según los días que contiene la lista.\n",
        "    '''\n",
        "    mon_sat = ['Monday', 'Tuesday', 'Wednesday', 'Thursday', 'Friday','Saturday']\n",
        "    thu_sun = ['Saturday', 'Sunday', 'Thursday', 'Friday']\n",
        "    week = ['Monday', 'Tuesday', 'Wednesday', 'Thursday', 'Friday']\n",
        "    if isinstance(row,list):\n",
        "        if len(row) == 7:\n",
        "            return 'Todos los días'\n",
        "        elif all(weekday in row for weekday in mon_sat):\n",
        "            return 'Domingo cerrado'\n",
        "        elif all(weekday in row for weekday in thu_sun):\n",
        "            return 'Jue-Dom'\n",
        "        elif all(weekday in row for weekday in week):\n",
        "            return 'Semana'\n",
        "        else:\n",
        "            return 'Otro'\n",
        "\n",
        "df_meta['abierto'] = df_meta.days_open.apply(open)"
      ],
      "metadata": {
        "id": "XLoksb-D8qET"
      },
      "execution_count": null,
      "outputs": []
    },
    {
      "cell_type": "code",
      "source": [
        "df_meta.abierto.value_counts()"
      ],
      "metadata": {
        "colab": {
          "base_uri": "https://localhost:8080/"
        },
        "id": "fUiuojj88zuj",
        "outputId": "41e8ee66-46e9-4232-90b8-022a0bd1b9f9"
      },
      "execution_count": null,
      "outputs": [
        {
          "output_type": "execute_result",
          "data": {
            "text/plain": [
              "Todos los días     161319\n",
              "Jue-Dom             38054\n",
              "Otro                36744\n",
              "Domingo cerrado     36491\n",
              "Semana              13086\n",
              "Name: abierto, dtype: int64"
            ]
          },
          "metadata": {},
          "execution_count": 23
        }
      ]
    },
    {
      "cell_type": "markdown",
      "source": [
        "### Servicio"
      ],
      "metadata": {
        "id": "RVY1JrQY9DuW"
      }
    },
    {
      "cell_type": "code",
      "source": [
        "#Crear columna 'service' de la llave correspondiente, lista de servicios ofrecidos\n",
        "df_meta['service'] = df_meta['MISC'].apply(lambda x: x['Service options'] if isinstance(x, dict) and 'Service options' in x.keys() else None)"
      ],
      "metadata": {
        "id": "exnQAsdq9KXV"
      },
      "execution_count": null,
      "outputs": []
    },
    {
      "cell_type": "code",
      "source": [
        "#Categorizar sin repetir el servicio\n",
        "\n",
        "def service_f (row):\n",
        "    full = ['Takeout', 'Dine-in', 'Delivery']\n",
        "    take_del = ['Takeout', 'Delivery']\n",
        "    take_dine = ['Takeout', 'Dine-in']\n",
        "    dine_del = ['Dine-in', 'Delivery']\n",
        "    dine_take = ['Dine-in', 'Takeout']\n",
        "\n",
        "    if isinstance(row,list):\n",
        "        if all(service in row for service in full):\n",
        "            return 'Dine-in, Takeout, Delivery'\n",
        "        elif all(service in row for service in take_del):\n",
        "            return 'Takeout, Delivery'\n",
        "        elif all(service in row for service in take_dine):\n",
        "            return 'Dine-in, Takeout'\n",
        "        elif all(service in row for service in dine_del):\n",
        "            return 'Dine-in, Delivery'\n",
        "        elif all(service in row for service in dine_take):\n",
        "            return 'Dine-in, Takeout'\n",
        "        elif 'Delivery' in row:\n",
        "            return 'Delivery'\n",
        "        elif 'Takeout' in row:\n",
        "            return 'Takeout'\n",
        "        elif 'Dine-in' in row:\n",
        "            return 'Dine-in'\n",
        "        else:\n",
        "            return 'Sin Dato'\n",
        "\n",
        "df_meta['service'] = df_meta['service'].apply(service_f)"
      ],
      "metadata": {
        "id": "44zwueI69Te2"
      },
      "execution_count": null,
      "outputs": []
    },
    {
      "cell_type": "code",
      "source": [
        "df_meta.service.value_counts()"
      ],
      "metadata": {
        "colab": {
          "base_uri": "https://localhost:8080/"
        },
        "id": "H8zHZ6Zx9jkP",
        "outputId": "cbc2fac4-2d6e-447a-e0e1-c39d69905bd0"
      },
      "execution_count": null,
      "outputs": [
        {
          "output_type": "execute_result",
          "data": {
            "text/plain": [
              "Dine-in, Takeout, Delivery    100833\n",
              "Takeout, Delivery              67301\n",
              "Delivery                       67142\n",
              "Dine-in, Delivery              14295\n",
              "Dine-in, Takeout               10709\n",
              "Takeout                         7951\n",
              "Dine-in                         3102\n",
              "Sin Dato                        1977\n",
              "Name: service, dtype: int64"
            ]
          },
          "metadata": {},
          "execution_count": 26
        }
      ]
    },
    {
      "cell_type": "markdown",
      "source": [
        "### Eliminar columnas"
      ],
      "metadata": {
        "id": "9qvbW9CulNFm"
      }
    },
    {
      "cell_type": "code",
      "source": [
        "# Eliminar columnas que no se darán uso\n",
        "df_meta.drop(columns = ['MISC','platform','category','hours','subcategory','price','state','days_open'], inplace=True)"
      ],
      "metadata": {
        "id": "RW07_ls_j5oH"
      },
      "execution_count": null,
      "outputs": []
    },
    {
      "cell_type": "markdown",
      "source": [
        "## Review"
      ],
      "metadata": {
        "id": "-9hZn1bqJgkz"
      }
    },
    {
      "cell_type": "markdown",
      "source": [
        "### Part I"
      ],
      "metadata": {
        "id": "v-Neo_wH2MYW"
      }
    },
    {
      "cell_type": "code",
      "source": [
        "df_reviewg_1.info()"
      ],
      "metadata": {
        "colab": {
          "base_uri": "https://localhost:8080/"
        },
        "id": "5xe-dFM3JlJr",
        "outputId": "bb17c91b-b4aa-42f9-d8db-5a5f2ee39e70"
      },
      "execution_count": null,
      "outputs": [
        {
          "output_type": "stream",
          "name": "stdout",
          "text": [
            "<class 'pandas.core.frame.DataFrame'>\n",
            "RangeIndex: 3000000 entries, 0 to 2999999\n",
            "Data columns (total 7 columns):\n",
            " #   Column   Dtype \n",
            "---  ------   ----- \n",
            " 0   user_id  object\n",
            " 1   date     object\n",
            " 2   rating   object\n",
            " 3   opinion  object\n",
            " 4   gmap_id  object\n",
            " 5   feeling  object\n",
            " 6   state    object\n",
            "dtypes: object(7)\n",
            "memory usage: 160.2+ MB\n"
          ]
        }
      ]
    },
    {
      "cell_type": "code",
      "source": [
        "# Filtrar registros que pertenecen a resturantes\n",
        "df_review_1f = df_reviewg_1[df_reviewg_1['gmap_id'].isin(df_meta['gmap_id'])]"
      ],
      "metadata": {
        "id": "CGa9IhRAymRr"
      },
      "execution_count": null,
      "outputs": []
    },
    {
      "cell_type": "code",
      "source": [
        "df_review_1f.info()"
      ],
      "metadata": {
        "colab": {
          "base_uri": "https://localhost:8080/"
        },
        "id": "GTAofKG_zKfg",
        "outputId": "34327b15-55f7-4465-ab9a-856a0130f08b"
      },
      "execution_count": null,
      "outputs": [
        {
          "output_type": "stream",
          "name": "stdout",
          "text": [
            "<class 'pandas.core.frame.DataFrame'>\n",
            "Int64Index: 1087662 entries, 0 to 2999999\n",
            "Data columns (total 7 columns):\n",
            " #   Column   Non-Null Count    Dtype \n",
            "---  ------   --------------    ----- \n",
            " 0   user_id  1087662 non-null  object\n",
            " 1   date     1087662 non-null  object\n",
            " 2   rating   1087662 non-null  object\n",
            " 3   opinion  1087662 non-null  object\n",
            " 4   gmap_id  1087662 non-null  object\n",
            " 5   feeling  1087662 non-null  object\n",
            " 6   state    1087662 non-null  object\n",
            "dtypes: object(7)\n",
            "memory usage: 66.4+ MB\n"
          ]
        }
      ]
    },
    {
      "cell_type": "markdown",
      "source": [
        "### Part II"
      ],
      "metadata": {
        "id": "gzmNJBYo2UBD"
      }
    },
    {
      "cell_type": "code",
      "source": [
        "df_reviewg_2.info()"
      ],
      "metadata": {
        "colab": {
          "base_uri": "https://localhost:8080/"
        },
        "outputId": "6b080d28-7cdc-4b2c-be7d-5c3a95790442",
        "id": "iHeudDlF2UBE"
      },
      "execution_count": null,
      "outputs": [
        {
          "output_type": "stream",
          "name": "stdout",
          "text": [
            "<class 'pandas.core.frame.DataFrame'>\n",
            "RangeIndex: 3000000 entries, 0 to 2999999\n",
            "Data columns (total 7 columns):\n",
            " #   Column   Dtype \n",
            "---  ------   ----- \n",
            " 0   user_id  object\n",
            " 1   date     object\n",
            " 2   rating   object\n",
            " 3   opinion  object\n",
            " 4   gmap_id  object\n",
            " 5   feeling  object\n",
            " 6   state    object\n",
            "dtypes: object(7)\n",
            "memory usage: 160.2+ MB\n"
          ]
        }
      ]
    },
    {
      "cell_type": "code",
      "source": [
        "# Filtrar registros que pertenecen a resturantes\n",
        "df_review_2f = df_reviewg_2[df_reviewg_2['gmap_id'].isin(df_meta['gmap_id'])]"
      ],
      "metadata": {
        "id": "uoF5QIqk2UBE"
      },
      "execution_count": null,
      "outputs": []
    },
    {
      "cell_type": "code",
      "source": [
        "df_review_2f.info()"
      ],
      "metadata": {
        "colab": {
          "base_uri": "https://localhost:8080/"
        },
        "outputId": "a9c39fcb-8eb1-4ac1-c4df-8b29792d5a5c",
        "id": "F-jm0j7A2UBE"
      },
      "execution_count": null,
      "outputs": [
        {
          "output_type": "stream",
          "name": "stdout",
          "text": [
            "<class 'pandas.core.frame.DataFrame'>\n",
            "Int64Index: 1226036 entries, 9 to 2999999\n",
            "Data columns (total 7 columns):\n",
            " #   Column   Non-Null Count    Dtype \n",
            "---  ------   --------------    ----- \n",
            " 0   user_id  1226036 non-null  object\n",
            " 1   date     1226036 non-null  object\n",
            " 2   rating   1226036 non-null  object\n",
            " 3   opinion  1226036 non-null  object\n",
            " 4   gmap_id  1226036 non-null  object\n",
            " 5   feeling  1226036 non-null  object\n",
            " 6   state    1226036 non-null  object\n",
            "dtypes: object(7)\n",
            "memory usage: 74.8+ MB\n"
          ]
        }
      ]
    },
    {
      "cell_type": "markdown",
      "source": [
        "### Part III"
      ],
      "metadata": {
        "id": "rHum4v4P2hkk"
      }
    },
    {
      "cell_type": "code",
      "source": [
        "df_reviewg_3.info()"
      ],
      "metadata": {
        "colab": {
          "base_uri": "https://localhost:8080/"
        },
        "outputId": "2915f9b7-b7db-4cb9-fd20-4618992c65b4",
        "id": "PeBOVIEx2hkk"
      },
      "execution_count": null,
      "outputs": [
        {
          "output_type": "stream",
          "name": "stdout",
          "text": [
            "<class 'pandas.core.frame.DataFrame'>\n",
            "RangeIndex: 3000000 entries, 0 to 2999999\n",
            "Data columns (total 7 columns):\n",
            " #   Column   Dtype \n",
            "---  ------   ----- \n",
            " 0   user_id  object\n",
            " 1   date     object\n",
            " 2   rating   object\n",
            " 3   opinion  object\n",
            " 4   gmap_id  object\n",
            " 5   feeling  object\n",
            " 6   state    object\n",
            "dtypes: object(7)\n",
            "memory usage: 160.2+ MB\n"
          ]
        }
      ]
    },
    {
      "cell_type": "code",
      "source": [
        "# Filtrar registros que pertenecen a resturantes\n",
        "df_review_3f = df_reviewg_3[df_reviewg_3['gmap_id'].isin(df_meta['gmap_id'])]"
      ],
      "metadata": {
        "id": "mIlNtfZq2hkl"
      },
      "execution_count": null,
      "outputs": []
    },
    {
      "cell_type": "code",
      "source": [
        "df_review_3f.info()"
      ],
      "metadata": {
        "colab": {
          "base_uri": "https://localhost:8080/"
        },
        "outputId": "24f5fc6f-f320-424f-bee4-3df607a7c37b",
        "id": "IQvU0aNv2hkl"
      },
      "execution_count": null,
      "outputs": [
        {
          "output_type": "stream",
          "name": "stdout",
          "text": [
            "<class 'pandas.core.frame.DataFrame'>\n",
            "Int64Index: 905761 entries, 0 to 2999997\n",
            "Data columns (total 7 columns):\n",
            " #   Column   Non-Null Count   Dtype \n",
            "---  ------   --------------   ----- \n",
            " 0   user_id  905761 non-null  object\n",
            " 1   date     905761 non-null  object\n",
            " 2   rating   905761 non-null  object\n",
            " 3   opinion  905761 non-null  object\n",
            " 4   gmap_id  905761 non-null  object\n",
            " 5   feeling  905761 non-null  object\n",
            " 6   state    905761 non-null  object\n",
            "dtypes: object(7)\n",
            "memory usage: 55.3+ MB\n"
          ]
        }
      ]
    },
    {
      "cell_type": "markdown",
      "source": [
        "### Part IV"
      ],
      "metadata": {
        "id": "C8pWU75V2quj"
      }
    },
    {
      "cell_type": "code",
      "source": [
        "df_reviewg_4.info()"
      ],
      "metadata": {
        "colab": {
          "base_uri": "https://localhost:8080/"
        },
        "outputId": "12606ecb-e9b6-4d09-ef09-d1a41e799d4b",
        "id": "sbH0l-jC2quk"
      },
      "execution_count": null,
      "outputs": [
        {
          "output_type": "stream",
          "name": "stdout",
          "text": [
            "<class 'pandas.core.frame.DataFrame'>\n",
            "RangeIndex: 3381800 entries, 0 to 3381799\n",
            "Data columns (total 7 columns):\n",
            " #   Column   Dtype \n",
            "---  ------   ----- \n",
            " 0   user_id  object\n",
            " 1   date     object\n",
            " 2   rating   object\n",
            " 3   opinion  object\n",
            " 4   gmap_id  object\n",
            " 5   feeling  object\n",
            " 6   state    object\n",
            "dtypes: object(7)\n",
            "memory usage: 180.6+ MB\n"
          ]
        }
      ]
    },
    {
      "cell_type": "code",
      "source": [
        "# Filtrar registros que pertenecen a resturantes\n",
        "df_review_4f = df_reviewg_4[df_reviewg_4['gmap_id'].isin(df_meta['gmap_id'])]"
      ],
      "metadata": {
        "id": "_tKcqZap2quk"
      },
      "execution_count": null,
      "outputs": []
    },
    {
      "cell_type": "code",
      "source": [
        "df_review_4f.info()"
      ],
      "metadata": {
        "colab": {
          "base_uri": "https://localhost:8080/"
        },
        "outputId": "7f6c8ff2-09e9-4621-cb67-fcc718a39037",
        "id": "3Wm6zo1s2qul"
      },
      "execution_count": null,
      "outputs": [
        {
          "output_type": "stream",
          "name": "stdout",
          "text": [
            "<class 'pandas.core.frame.DataFrame'>\n",
            "Int64Index: 886787 entries, 2 to 3381796\n",
            "Data columns (total 7 columns):\n",
            " #   Column   Non-Null Count   Dtype \n",
            "---  ------   --------------   ----- \n",
            " 0   user_id  886787 non-null  object\n",
            " 1   date     886787 non-null  object\n",
            " 2   rating   886787 non-null  object\n",
            " 3   opinion  886787 non-null  object\n",
            " 4   gmap_id  886787 non-null  object\n",
            " 5   feeling  886787 non-null  object\n",
            " 6   state    886787 non-null  object\n",
            "dtypes: object(7)\n",
            "memory usage: 54.1+ MB\n"
          ]
        }
      ]
    },
    {
      "cell_type": "markdown",
      "source": [
        "### Review concatenado\n",
        "\n"
      ],
      "metadata": {
        "id": "RP2i8KSX20x5"
      }
    },
    {
      "cell_type": "code",
      "source": [
        "dataframes = [df_review_1f, df_review_2f, df_review_3f, df_review_4f]\n",
        "# Concatenar dataframes filtrados\n",
        "df_reviewg = pd.concat(dataframes, axis=0)\n",
        "df_reviewg = df_reviewg.reset_index(drop=True)\n",
        "df_reviewg.info()"
      ],
      "metadata": {
        "id": "AoWgZKq_25jA",
        "colab": {
          "base_uri": "https://localhost:8080/"
        },
        "outputId": "c97dd24a-1e49-4e4b-c6cf-578999b09c69"
      },
      "execution_count": null,
      "outputs": [
        {
          "output_type": "stream",
          "name": "stdout",
          "text": [
            "<class 'pandas.core.frame.DataFrame'>\n",
            "RangeIndex: 4106246 entries, 0 to 4106245\n",
            "Data columns (total 7 columns):\n",
            " #   Column   Dtype \n",
            "---  ------   ----- \n",
            " 0   user_id  object\n",
            " 1   date     object\n",
            " 2   rating   object\n",
            " 3   opinion  object\n",
            " 4   gmap_id  object\n",
            " 5   feeling  object\n",
            " 6   state    object\n",
            "dtypes: object(7)\n",
            "memory usage: 219.3+ MB\n"
          ]
        }
      ]
    },
    {
      "cell_type": "code",
      "source": [
        "# Crear columna que indica si la longitud de la opinión es mayor a 30 caracteres\n",
        "df_reviewg['opinion_length'] = df_reviewg['opinion'].apply(lambda x: 1 if len(x.replace(\" \", \"\")) > 30 else 0)"
      ],
      "metadata": {
        "id": "8OVMXxQAZitM"
      },
      "execution_count": null,
      "outputs": []
    },
    {
      "cell_type": "code",
      "source": [
        "df_reviewg[\"opinion_length\"].value_counts()"
      ],
      "metadata": {
        "colab": {
          "base_uri": "https://localhost:8080/"
        },
        "id": "W1xbsRmFZx1X",
        "outputId": "f6f59c70-c7b9-4feb-9aeb-aa53339e9c99"
      },
      "execution_count": null,
      "outputs": [
        {
          "output_type": "execute_result",
          "data": {
            "text/plain": [
              "0    2487335\n",
              "1    1618911\n",
              "Name: opinion_length, dtype: int64"
            ]
          },
          "metadata": {},
          "execution_count": 42
        }
      ]
    },
    {
      "cell_type": "code",
      "source": [
        "df_reviewg.drop([\"user_id\"], axis=1, inplace=True)"
      ],
      "metadata": {
        "id": "WBd-RD3VPTR5"
      },
      "execution_count": null,
      "outputs": []
    },
    {
      "cell_type": "markdown",
      "source": [
        "## Metadata Extra"
      ],
      "metadata": {
        "id": "TClsBu0Vl6WQ"
      }
    },
    {
      "cell_type": "markdown",
      "source": [
        "### Extraer datos de Review"
      ],
      "metadata": {
        "id": "c14eRa8mmWQh"
      }
    },
    {
      "cell_type": "code",
      "source": [
        "# Cambiar tipo de dato de date\n",
        "df_reviewg['date'] = pd.to_datetime(df_reviewg['date'])"
      ],
      "metadata": {
        "id": "MQZjlcysm2_B"
      },
      "execution_count": null,
      "outputs": []
    },
    {
      "cell_type": "code",
      "source": [
        "# Obtener una lista de los ids de restaurantes que recibieron al menos una calificación en 2019 y 2021 respectivamente\n",
        "comment_2019 = list(df_reviewg[df_reviewg.date.dt.year == 2019]['gmap_id'].unique())\n",
        "comment_2021 = list(df_reviewg[df_reviewg.date.dt.year == 2021]['gmap_id'].unique())\n",
        "\n",
        "# Crear un nuevo dataframe con valores únicos de 'gmap_id'\n",
        "comments = pd.DataFrame(df_reviewg['gmap_id'].unique(), columns=['gmap_id'])\n",
        "# Agregar al dataframe dos columnas indicando si el restaurante tuvo o no calificación en los respectivos años\n",
        "comments['comment_2019'] = comments['gmap_id'].apply(lambda x: int(x in comment_2019))\n",
        "comments['comment_2021'] = comments['gmap_id'].apply(lambda x: int(x in comment_2021))"
      ],
      "metadata": {
        "id": "x7u5SGf_l8jh"
      },
      "execution_count": null,
      "outputs": []
    },
    {
      "cell_type": "code",
      "source": [
        "# Realizar left join basado en 'gmap_id'\n",
        "df_meta2 = pd.merge(df_meta, comments, on='gmap_id', how='left')\n",
        "df_meta2.info()"
      ],
      "metadata": {
        "colab": {
          "base_uri": "https://localhost:8080/"
        },
        "id": "2B_O0eIUolNi",
        "outputId": "d3c949af-871a-4f04-eb26-68554cc2b2cb"
      },
      "execution_count": null,
      "outputs": [
        {
          "output_type": "stream",
          "name": "stdout",
          "text": [
            "<class 'pandas.core.frame.DataFrame'>\n",
            "Int64Index: 323024 entries, 0 to 323023\n",
            "Data columns (total 11 columns):\n",
            " #   Column          Non-Null Count   Dtype  \n",
            "---  ------          --------------   -----  \n",
            " 0   local_name      323024 non-null  object \n",
            " 1   gmap_id         323024 non-null  object \n",
            " 2   latitude        323024 non-null  object \n",
            " 3   longitude       323024 non-null  object \n",
            " 4   avg_rating      323024 non-null  object \n",
            " 5   num_of_reviews  323024 non-null  object \n",
            " 6   rest_category   323024 non-null  object \n",
            " 7   abierto         285694 non-null  object \n",
            " 8   service         273310 non-null  object \n",
            " 9   comment_2019    49827 non-null   float64\n",
            " 10  comment_2021    49827 non-null   float64\n",
            "dtypes: float64(2), object(9)\n",
            "memory usage: 29.6+ MB\n"
          ]
        }
      ]
    },
    {
      "cell_type": "markdown",
      "source": [
        "## Exportar Metadata & Reviews"
      ],
      "metadata": {
        "id": "O-DJ3fJMaEdV"
      }
    },
    {
      "cell_type": "code",
      "source": [
        "#Filtrar registros según estados\n",
        "df_meta2 = df_meta2[df_meta2['gmap_id'].isin(df_reviewg['gmap_id'].unique())]\n",
        "# Transpasar la columna state a metadata\n",
        "df_meta2 = pd.merge(df_meta2, df_reviewg.drop_duplicates(subset=['gmap_id', 'state'])[['gmap_id', 'state']], on='gmap_id', how='left')\n",
        "# Eliminar columna state de review\n",
        "df_reviewg.drop(['state'], axis=1, inplace=True)"
      ],
      "metadata": {
        "id": "qNT7QeWcAfGi"
      },
      "execution_count": null,
      "outputs": []
    },
    {
      "cell_type": "code",
      "source": [
        "# Exportar archivos\n",
        "#df_meta2.to_csv('metadata_google.csv',index = False)\n",
        "#df_reviewg.to_csv('reviews_google_opinion.csv',index = False)"
      ],
      "metadata": {
        "id": "WRwTFSpwaLDQ"
      },
      "execution_count": null,
      "outputs": []
    },
    {
      "cell_type": "markdown",
      "source": [
        "# Yelp"
      ],
      "metadata": {
        "id": "7Z5Z9oPNs3p5"
      }
    },
    {
      "cell_type": "markdown",
      "source": [
        "## Business"
      ],
      "metadata": {
        "id": "LbMRmwOgQGia"
      }
    },
    {
      "cell_type": "code",
      "source": [
        "df_business.head()"
      ],
      "metadata": {
        "colab": {
          "base_uri": "https://localhost:8080/",
          "height": 337
        },
        "outputId": "f97b3e7b-a570-4268-8544-01b95e755184",
        "id": "bsXdW2ypQt-v"
      },
      "execution_count": null,
      "outputs": [
        {
          "output_type": "execute_result",
          "data": {
            "text/plain": [
              "              business_id                       local_name state    latitude  \\\n",
              "0  BJ0Z74sTz9sxRr1R533Inw          Best Rate Home Services    FL  27.9549045   \n",
              "1  dm9UbH8XPAP6735lHRYILA  Ruby's Roof Jamaican Restaurant    PA  40.0382907   \n",
              "2  aVRVBncwdK3GrqLKLFPKAg                Paradise Pizzeria    PA  40.0091223   \n",
              "3  IMn6n4kjpvp0ur_KT6C3pw                   Dollar General    FL  27.9365971   \n",
              "4  X3Qa-dXb2DFdZZ2UnAfSVg                          Dunkin'    PA   40.087335   \n",
              "\n",
              "     longitude stars num_of_reviews  \\\n",
              "0  -82.3334943   1.0              5   \n",
              "1  -75.1303845   1.0              5   \n",
              "2  -75.1004709   1.0              5   \n",
              "3   -82.290957   1.0              5   \n",
              "4   -75.039989   1.0              5   \n",
              "\n",
              "                                          attributes  \\\n",
              "0  {\"BusinessAcceptsCreditCards\": \"True\", \"ByAppo...   \n",
              "1  {\"RestaurantsDelivery\": \"True\", \"RestaurantsTa...   \n",
              "2  {\"RestaurantsDelivery\": \"True\", \"RestaurantsTa...   \n",
              "3  {\"RestaurantsPriceRange2\": \"1\", \"BusinessParki...   \n",
              "4  {\"RestaurantsPriceRange2\": \"1\", \"BikeParking\":...   \n",
              "\n",
              "                                         subcategory  \\\n",
              "0  restaurants, local services, movers, home clea...   \n",
              "1                             restaurants, caribbean   \n",
              "2                                 restaurants, pizza   \n",
              "3  shopping, discount store, food, grocery, fashi...   \n",
              "4            coffee & tea, donuts, food, restaurants   \n",
              "\n",
              "                                               hours platform      category  \n",
              "0  {\"Monday\": \"8:0-18:0\", \"Tuesday\": \"8:0-18:0\", ...     Yelp  food service  \n",
              "1  {\"Monday\": \"8:0-22:0\", \"Tuesday\": \"8:0-22:0\", ...     Yelp  food service  \n",
              "2  {\"Monday\": \"11:0-23:0\", \"Tuesday\": \"11:0-23:0\"...     Yelp  food service  \n",
              "3                                               None     Yelp  food service  \n",
              "4  {\"Monday\": \"5:0-18:0\", \"Tuesday\": \"5:0-18:0\", ...     Yelp  food service  "
            ],
            "text/html": [
              "\n",
              "  <div id=\"df-68119c0a-0de7-4c13-8e13-f7ce8ed67111\">\n",
              "    <div class=\"colab-df-container\">\n",
              "      <div>\n",
              "<style scoped>\n",
              "    .dataframe tbody tr th:only-of-type {\n",
              "        vertical-align: middle;\n",
              "    }\n",
              "\n",
              "    .dataframe tbody tr th {\n",
              "        vertical-align: top;\n",
              "    }\n",
              "\n",
              "    .dataframe thead th {\n",
              "        text-align: right;\n",
              "    }\n",
              "</style>\n",
              "<table border=\"1\" class=\"dataframe\">\n",
              "  <thead>\n",
              "    <tr style=\"text-align: right;\">\n",
              "      <th></th>\n",
              "      <th>business_id</th>\n",
              "      <th>local_name</th>\n",
              "      <th>state</th>\n",
              "      <th>latitude</th>\n",
              "      <th>longitude</th>\n",
              "      <th>stars</th>\n",
              "      <th>num_of_reviews</th>\n",
              "      <th>attributes</th>\n",
              "      <th>subcategory</th>\n",
              "      <th>hours</th>\n",
              "      <th>platform</th>\n",
              "      <th>category</th>\n",
              "    </tr>\n",
              "  </thead>\n",
              "  <tbody>\n",
              "    <tr>\n",
              "      <th>0</th>\n",
              "      <td>BJ0Z74sTz9sxRr1R533Inw</td>\n",
              "      <td>Best Rate Home Services</td>\n",
              "      <td>FL</td>\n",
              "      <td>27.9549045</td>\n",
              "      <td>-82.3334943</td>\n",
              "      <td>1.0</td>\n",
              "      <td>5</td>\n",
              "      <td>{\"BusinessAcceptsCreditCards\": \"True\", \"ByAppo...</td>\n",
              "      <td>restaurants, local services, movers, home clea...</td>\n",
              "      <td>{\"Monday\": \"8:0-18:0\", \"Tuesday\": \"8:0-18:0\", ...</td>\n",
              "      <td>Yelp</td>\n",
              "      <td>food service</td>\n",
              "    </tr>\n",
              "    <tr>\n",
              "      <th>1</th>\n",
              "      <td>dm9UbH8XPAP6735lHRYILA</td>\n",
              "      <td>Ruby's Roof Jamaican Restaurant</td>\n",
              "      <td>PA</td>\n",
              "      <td>40.0382907</td>\n",
              "      <td>-75.1303845</td>\n",
              "      <td>1.0</td>\n",
              "      <td>5</td>\n",
              "      <td>{\"RestaurantsDelivery\": \"True\", \"RestaurantsTa...</td>\n",
              "      <td>restaurants, caribbean</td>\n",
              "      <td>{\"Monday\": \"8:0-22:0\", \"Tuesday\": \"8:0-22:0\", ...</td>\n",
              "      <td>Yelp</td>\n",
              "      <td>food service</td>\n",
              "    </tr>\n",
              "    <tr>\n",
              "      <th>2</th>\n",
              "      <td>aVRVBncwdK3GrqLKLFPKAg</td>\n",
              "      <td>Paradise Pizzeria</td>\n",
              "      <td>PA</td>\n",
              "      <td>40.0091223</td>\n",
              "      <td>-75.1004709</td>\n",
              "      <td>1.0</td>\n",
              "      <td>5</td>\n",
              "      <td>{\"RestaurantsDelivery\": \"True\", \"RestaurantsTa...</td>\n",
              "      <td>restaurants, pizza</td>\n",
              "      <td>{\"Monday\": \"11:0-23:0\", \"Tuesday\": \"11:0-23:0\"...</td>\n",
              "      <td>Yelp</td>\n",
              "      <td>food service</td>\n",
              "    </tr>\n",
              "    <tr>\n",
              "      <th>3</th>\n",
              "      <td>IMn6n4kjpvp0ur_KT6C3pw</td>\n",
              "      <td>Dollar General</td>\n",
              "      <td>FL</td>\n",
              "      <td>27.9365971</td>\n",
              "      <td>-82.290957</td>\n",
              "      <td>1.0</td>\n",
              "      <td>5</td>\n",
              "      <td>{\"RestaurantsPriceRange2\": \"1\", \"BusinessParki...</td>\n",
              "      <td>shopping, discount store, food, grocery, fashi...</td>\n",
              "      <td>None</td>\n",
              "      <td>Yelp</td>\n",
              "      <td>food service</td>\n",
              "    </tr>\n",
              "    <tr>\n",
              "      <th>4</th>\n",
              "      <td>X3Qa-dXb2DFdZZ2UnAfSVg</td>\n",
              "      <td>Dunkin'</td>\n",
              "      <td>PA</td>\n",
              "      <td>40.087335</td>\n",
              "      <td>-75.039989</td>\n",
              "      <td>1.0</td>\n",
              "      <td>5</td>\n",
              "      <td>{\"RestaurantsPriceRange2\": \"1\", \"BikeParking\":...</td>\n",
              "      <td>coffee &amp; tea, donuts, food, restaurants</td>\n",
              "      <td>{\"Monday\": \"5:0-18:0\", \"Tuesday\": \"5:0-18:0\", ...</td>\n",
              "      <td>Yelp</td>\n",
              "      <td>food service</td>\n",
              "    </tr>\n",
              "  </tbody>\n",
              "</table>\n",
              "</div>\n",
              "      <button class=\"colab-df-convert\" onclick=\"convertToInteractive('df-68119c0a-0de7-4c13-8e13-f7ce8ed67111')\"\n",
              "              title=\"Convert this dataframe to an interactive table.\"\n",
              "              style=\"display:none;\">\n",
              "        \n",
              "  <svg xmlns=\"http://www.w3.org/2000/svg\" height=\"24px\"viewBox=\"0 0 24 24\"\n",
              "       width=\"24px\">\n",
              "    <path d=\"M0 0h24v24H0V0z\" fill=\"none\"/>\n",
              "    <path d=\"M18.56 5.44l.94 2.06.94-2.06 2.06-.94-2.06-.94-.94-2.06-.94 2.06-2.06.94zm-11 1L8.5 8.5l.94-2.06 2.06-.94-2.06-.94L8.5 2.5l-.94 2.06-2.06.94zm10 10l.94 2.06.94-2.06 2.06-.94-2.06-.94-.94-2.06-.94 2.06-2.06.94z\"/><path d=\"M17.41 7.96l-1.37-1.37c-.4-.4-.92-.59-1.43-.59-.52 0-1.04.2-1.43.59L10.3 9.45l-7.72 7.72c-.78.78-.78 2.05 0 2.83L4 21.41c.39.39.9.59 1.41.59.51 0 1.02-.2 1.41-.59l7.78-7.78 2.81-2.81c.8-.78.8-2.07 0-2.86zM5.41 20L4 18.59l7.72-7.72 1.47 1.35L5.41 20z\"/>\n",
              "  </svg>\n",
              "      </button>\n",
              "      \n",
              "  <style>\n",
              "    .colab-df-container {\n",
              "      display:flex;\n",
              "      flex-wrap:wrap;\n",
              "      gap: 12px;\n",
              "    }\n",
              "\n",
              "    .colab-df-convert {\n",
              "      background-color: #E8F0FE;\n",
              "      border: none;\n",
              "      border-radius: 50%;\n",
              "      cursor: pointer;\n",
              "      display: none;\n",
              "      fill: #1967D2;\n",
              "      height: 32px;\n",
              "      padding: 0 0 0 0;\n",
              "      width: 32px;\n",
              "    }\n",
              "\n",
              "    .colab-df-convert:hover {\n",
              "      background-color: #E2EBFA;\n",
              "      box-shadow: 0px 1px 2px rgba(60, 64, 67, 0.3), 0px 1px 3px 1px rgba(60, 64, 67, 0.15);\n",
              "      fill: #174EA6;\n",
              "    }\n",
              "\n",
              "    [theme=dark] .colab-df-convert {\n",
              "      background-color: #3B4455;\n",
              "      fill: #D2E3FC;\n",
              "    }\n",
              "\n",
              "    [theme=dark] .colab-df-convert:hover {\n",
              "      background-color: #434B5C;\n",
              "      box-shadow: 0px 1px 3px 1px rgba(0, 0, 0, 0.15);\n",
              "      filter: drop-shadow(0px 1px 2px rgba(0, 0, 0, 0.3));\n",
              "      fill: #FFFFFF;\n",
              "    }\n",
              "  </style>\n",
              "\n",
              "      <script>\n",
              "        const buttonEl =\n",
              "          document.querySelector('#df-68119c0a-0de7-4c13-8e13-f7ce8ed67111 button.colab-df-convert');\n",
              "        buttonEl.style.display =\n",
              "          google.colab.kernel.accessAllowed ? 'block' : 'none';\n",
              "\n",
              "        async function convertToInteractive(key) {\n",
              "          const element = document.querySelector('#df-68119c0a-0de7-4c13-8e13-f7ce8ed67111');\n",
              "          const dataTable =\n",
              "            await google.colab.kernel.invokeFunction('convertToInteractive',\n",
              "                                                     [key], {});\n",
              "          if (!dataTable) return;\n",
              "\n",
              "          const docLinkHtml = 'Like what you see? Visit the ' +\n",
              "            '<a target=\"_blank\" href=https://colab.research.google.com/notebooks/data_table.ipynb>data table notebook</a>'\n",
              "            + ' to learn more about interactive tables.';\n",
              "          element.innerHTML = '';\n",
              "          dataTable['output_type'] = 'display_data';\n",
              "          await google.colab.output.renderOutput(dataTable, element);\n",
              "          const docLink = document.createElement('div');\n",
              "          docLink.innerHTML = docLinkHtml;\n",
              "          element.appendChild(docLink);\n",
              "        }\n",
              "      </script>\n",
              "    </div>\n",
              "  </div>\n",
              "  "
            ]
          },
          "metadata": {},
          "execution_count": 49
        }
      ]
    },
    {
      "cell_type": "code",
      "source": [
        "df_business.info()"
      ],
      "metadata": {
        "colab": {
          "base_uri": "https://localhost:8080/"
        },
        "outputId": "8339e059-9dcf-4e84-f59b-c85792d330b3",
        "id": "ItwUFGWBQt-x"
      },
      "execution_count": null,
      "outputs": [
        {
          "output_type": "stream",
          "name": "stdout",
          "text": [
            "<class 'pandas.core.frame.DataFrame'>\n",
            "RangeIndex: 30253 entries, 0 to 30252\n",
            "Data columns (total 12 columns):\n",
            " #   Column          Non-Null Count  Dtype \n",
            "---  ------          --------------  ----- \n",
            " 0   business_id     30253 non-null  object\n",
            " 1   local_name      30253 non-null  object\n",
            " 2   state           30253 non-null  object\n",
            " 3   latitude        30253 non-null  object\n",
            " 4   longitude       30253 non-null  object\n",
            " 5   stars           30253 non-null  object\n",
            " 6   num_of_reviews  30253 non-null  object\n",
            " 7   attributes      30253 non-null  object\n",
            " 8   subcategory     30253 non-null  object\n",
            " 9   hours           30253 non-null  object\n",
            " 10  platform        30253 non-null  object\n",
            " 11  category        30253 non-null  object\n",
            "dtypes: object(12)\n",
            "memory usage: 2.8+ MB\n"
          ]
        }
      ]
    },
    {
      "cell_type": "code",
      "source": [
        "# Eliminar registros que no corresponden a restaurantes\n",
        "idx = df_business[df_business['subcategory'].str.contains('food store|supplier|public|publish|convenience|gas |atm|bank|manufacturer|organization|food producer|food market|grocery')].index\n",
        "df_business = df_business.drop(idx).reset_index(drop = True)"
      ],
      "metadata": {
        "id": "T86Wq_dMQt-y"
      },
      "execution_count": null,
      "outputs": []
    },
    {
      "cell_type": "code",
      "source": [
        "# Eliminar registro de otro estado\n",
        "df_business.drop(index = df_business[df_business.local_name == 'Adrians Bakery'].index, inplace = True)"
      ],
      "metadata": {
        "id": "pSMxVscZl3Ik"
      },
      "execution_count": null,
      "outputs": []
    },
    {
      "cell_type": "code",
      "source": [
        "#Transformar al tipo de dato correspondiente\n",
        "df_business['hours'] = df_business['hours'].apply(lambda x: ast.literal_eval(x))\n",
        "df_business['attributes'] = df_business['attributes'].apply(lambda x: ast.literal_eval(x))\n",
        "df_business.info()"
      ],
      "metadata": {
        "colab": {
          "base_uri": "https://localhost:8080/"
        },
        "id": "km9pz4DRQt-z",
        "outputId": "30d09aee-c2ce-4829-c339-98286060814e"
      },
      "execution_count": null,
      "outputs": [
        {
          "output_type": "stream",
          "name": "stdout",
          "text": [
            "<class 'pandas.core.frame.DataFrame'>\n",
            "Int64Index: 27311 entries, 0 to 27311\n",
            "Data columns (total 12 columns):\n",
            " #   Column          Non-Null Count  Dtype \n",
            "---  ------          --------------  ----- \n",
            " 0   business_id     27311 non-null  object\n",
            " 1   local_name      27311 non-null  object\n",
            " 2   state           27311 non-null  object\n",
            " 3   latitude        27311 non-null  object\n",
            " 4   longitude       27311 non-null  object\n",
            " 5   stars           27311 non-null  object\n",
            " 6   num_of_reviews  27311 non-null  object\n",
            " 7   attributes      26962 non-null  object\n",
            " 8   subcategory     27311 non-null  object\n",
            " 9   hours           23367 non-null  object\n",
            " 10  platform        27311 non-null  object\n",
            " 11  category        27311 non-null  object\n",
            "dtypes: object(12)\n",
            "memory usage: 2.7+ MB\n"
          ]
        }
      ]
    },
    {
      "cell_type": "markdown",
      "source": [
        "### Categorías de restaurantes"
      ],
      "metadata": {
        "id": "4FwJomY3aReq"
      }
    },
    {
      "cell_type": "code",
      "source": [
        "# Definir función para categorizar\n",
        "def categorize (row):\n",
        "    '''\n",
        "    Dado un string como entrada, devuelve a la categoría a la que pertenece según las palabras que contiene.\n",
        "    '''\n",
        "    row = row.lower()\n",
        "    if 'fast food' in row:\n",
        "        return 'Fast food'\n",
        "    elif any(word in row for word in ['burger', 'chicken', 'barbecue', 'barbeque', 'steak','bistro','buffet']):\n",
        "        return 'Tradicional'\n",
        "    elif any(word in row for word in ['pizza', 'sandwich', 'hot dog']):\n",
        "        return 'Pizza & Sandwich'\n",
        "    elif any(word in row for word in ['bar', 'beer', 'pub','club','nightlife','brew']):\n",
        "        return 'Bar'\n",
        "    elif any(word in row for word in ['mexican', 'taco']):\n",
        "        return 'Mexicana'\n",
        "    elif any(word in row for word in ['deli', 'seafood', 'wine', 'cocktail','vegan','vegeta']):\n",
        "        return 'Epecial'\n",
        "    elif any(word in row for word in ['chinese', 'italian', 'asian', 'japan', 'sushi', 'thai', 'indian', 'korean','latin','ramen','africa'\\\n",
        "                                       'mediterranean','vietnamese','jamaica','greek','eastern','caribbean','cuba','peru','salvador','cajun','french','german'\\\n",
        "                                        'polish','brazil','filipin']):\n",
        "        return 'Internacional'\n",
        "    elif any(word in row for word in ['coffee','cafe', 'ice cream', 'dessert', 'yogurt', 'baker', 'pastry', 'breakfast', 'cupcake', 'tea', 'smoothie','juice']):\n",
        "        return 'Desayuno'\n",
        "    else:\n",
        "        return 'Sin Dato'\n",
        "\n",
        "df_business['rest_category'] = df_business['subcategory'].apply(categorize)\n",
        "\n",
        "# Asignar categoría a los 'food truck' restantes\n",
        "idx_truck = list(df_business[(df_business['rest_category'] == 'Sin Dato') & (df_business['subcategory'].str.contains('food truck'))].index)\n",
        "df_business.loc[idx_truck,'rest_category'] = 'Tradicional'"
      ],
      "metadata": {
        "id": "f_yV8BMCaZtx"
      },
      "execution_count": null,
      "outputs": []
    },
    {
      "cell_type": "code",
      "source": [
        "df_business.rest_category.value_counts()"
      ],
      "metadata": {
        "colab": {
          "base_uri": "https://localhost:8080/"
        },
        "id": "VOSAq_RZcJfZ",
        "outputId": "788865ad-2ed6-4b93-b5f2-329583db5b80"
      },
      "execution_count": null,
      "outputs": [
        {
          "output_type": "execute_result",
          "data": {
            "text/plain": [
              "Bar                 6207\n",
              "Pizza & Sandwich    4396\n",
              "Desayuno            3655\n",
              "Tradicional         3587\n",
              "Internacional       3228\n",
              "Fast food           2056\n",
              "Sin Dato            1809\n",
              "Epecial             1389\n",
              "Mexicana             984\n",
              "Name: rest_category, dtype: int64"
            ]
          },
          "metadata": {},
          "execution_count": 55
        }
      ]
    },
    {
      "cell_type": "markdown",
      "source": [
        "### Eliminar registros usando subcategorías y categorías"
      ],
      "metadata": {
        "id": "bFYfLALUeDnZ"
      }
    },
    {
      "cell_type": "code",
      "source": [
        "# Eliminar registros restantes que no tienen categoría y no contienen la palabra restaurante\n",
        "idx2 = list(df_business[(df_business['rest_category'] == 'Sin Dato') & (~df_business['subcategory'].str.contains('restaurant'))].index)\n",
        "df_business = df_business.drop(idx2).reset_index(drop = True)"
      ],
      "metadata": {
        "id": "gmJwHCIzeDnb"
      },
      "execution_count": null,
      "outputs": []
    },
    {
      "cell_type": "code",
      "source": [
        "df_business.rest_category.value_counts()"
      ],
      "metadata": {
        "colab": {
          "base_uri": "https://localhost:8080/"
        },
        "id": "pIBL8HJgnW10",
        "outputId": "162bb103-eba3-4da6-9a85-04a3cebf5f37"
      },
      "execution_count": null,
      "outputs": [
        {
          "output_type": "execute_result",
          "data": {
            "text/plain": [
              "Bar                 6207\n",
              "Pizza & Sandwich    4396\n",
              "Desayuno            3655\n",
              "Tradicional         3587\n",
              "Internacional       3228\n",
              "Fast food           2056\n",
              "Epecial             1389\n",
              "Sin Dato            1184\n",
              "Mexicana             984\n",
              "Name: rest_category, dtype: int64"
            ]
          },
          "metadata": {},
          "execution_count": 57
        }
      ]
    },
    {
      "cell_type": "markdown",
      "source": [
        "### Días abierto"
      ],
      "metadata": {
        "id": "qrt7qNW6UZCj"
      }
    },
    {
      "cell_type": "code",
      "source": [
        "# Crear una columna con lista de días abierto\n",
        "df_business['day_open'] = df_business.hours.apply(lambda x: list(x.keys()) if isinstance(x, dict) else None)"
      ],
      "metadata": {
        "id": "pWtfi0vTs6e9"
      },
      "execution_count": null,
      "outputs": []
    },
    {
      "cell_type": "code",
      "source": [
        "#Días abiertos discreto\n",
        "\n",
        "def open (row):\n",
        "    '''\n",
        "    Dado una lista de días como entrada, devuelve la categoría a la que pertenece según los días que contiene la lista.\n",
        "    '''\n",
        "    mon_sat = ['Monday', 'Tuesday', 'Wednesday', 'Thursday', 'Friday','Saturday']\n",
        "    tue_sun = ['Saturday', 'Sunday', 'Thursday', 'Friday']\n",
        "    wed_sat = ['Saturday', 'Thursday', 'Friday', 'Wednesday']\n",
        "    week = ['Monday', 'Tuesday', 'Wednesday', 'Thursday', 'Friday']\n",
        "    if isinstance(row,list):\n",
        "        if len(row) == 7:\n",
        "            return 'Todos los días'\n",
        "        elif all(weekday in row for weekday in mon_sat):\n",
        "            return 'Domingo cerrado'\n",
        "        elif all(weekday in row for weekday in tue_sun):\n",
        "            return 'Jue-Dom'\n",
        "        elif all(weekday in row for weekday in wed_sat):\n",
        "            return 'Mie-Sab'\n",
        "        elif all(weekday in row for weekday in week):\n",
        "            return 'Semana'\n",
        "        else:\n",
        "            return 'Otro'\n",
        "\n",
        "df_business['abierto'] = df_business.day_open.apply(open)"
      ],
      "metadata": {
        "id": "fKRVNovzU9-n"
      },
      "execution_count": null,
      "outputs": []
    },
    {
      "cell_type": "code",
      "source": [
        "df_business.abierto.value_counts()"
      ],
      "metadata": {
        "colab": {
          "base_uri": "https://localhost:8080/"
        },
        "id": "BGhzQ6wSVTkD",
        "outputId": "1dd5ad4e-9a0e-41a1-a0be-e3230e7883e2"
      },
      "execution_count": null,
      "outputs": [
        {
          "output_type": "execute_result",
          "data": {
            "text/plain": [
              "Todos los días     15795\n",
              "Jue-Dom             3073\n",
              "Domingo cerrado     2105\n",
              "Mie-Sab              794\n",
              "Otro                 567\n",
              "Semana               549\n",
              "Name: abierto, dtype: int64"
            ]
          },
          "metadata": {},
          "execution_count": 60
        }
      ]
    },
    {
      "cell_type": "markdown",
      "source": [
        "### Servicio"
      ],
      "metadata": {
        "id": "FeKs0JZtVidv"
      }
    },
    {
      "cell_type": "code",
      "source": [
        "# Definir las claves a chequear en el diccionario de cada fila de la columna 'attributes'\n",
        "keys_to_check = ['RestaurantsTakeOut', 'RestaurantsTableService', 'RestaurantsCounterService', 'DriveThru', 'RestaurantsDelivery']\n",
        "\n",
        "# Crear una columna nueva con la lista de las llaves conteniendo valores True\n",
        "df_business['service_raw'] = df_business['attributes'].apply(lambda x: [\"'\"+key+\"'\" for key, value in x.items() if key in keys_to_check and value] if isinstance(x, dict) else None)"
      ],
      "metadata": {
        "id": "dmXEVrESVkuz"
      },
      "execution_count": null,
      "outputs": []
    },
    {
      "cell_type": "code",
      "source": [
        "# Crear un nuevo df con las columnas 'business_id' y 'service', estando expandida los valores lista en la segunda\n",
        "service_yelp = df_business[['business_id', 'service_raw']].explode('service_raw').reset_index(drop=True)\n",
        "service_yelp.head()"
      ],
      "metadata": {
        "colab": {
          "base_uri": "https://localhost:8080/",
          "height": 206
        },
        "id": "L6Coh10GWMW5",
        "outputId": "6984d6a1-ce8b-441c-ac82-1879e3fe3347"
      },
      "execution_count": null,
      "outputs": [
        {
          "output_type": "execute_result",
          "data": {
            "text/plain": [
              "              business_id                service_raw\n",
              "0  BJ0Z74sTz9sxRr1R533Inw       'RestaurantsTakeOut'\n",
              "1  BJ0Z74sTz9sxRr1R533Inw  'RestaurantsTableService'\n",
              "2  dm9UbH8XPAP6735lHRYILA      'RestaurantsDelivery'\n",
              "3  dm9UbH8XPAP6735lHRYILA       'RestaurantsTakeOut'\n",
              "4  aVRVBncwdK3GrqLKLFPKAg      'RestaurantsDelivery'"
            ],
            "text/html": [
              "\n",
              "  <div id=\"df-c4412433-2360-400f-a52a-20d9780d28ee\">\n",
              "    <div class=\"colab-df-container\">\n",
              "      <div>\n",
              "<style scoped>\n",
              "    .dataframe tbody tr th:only-of-type {\n",
              "        vertical-align: middle;\n",
              "    }\n",
              "\n",
              "    .dataframe tbody tr th {\n",
              "        vertical-align: top;\n",
              "    }\n",
              "\n",
              "    .dataframe thead th {\n",
              "        text-align: right;\n",
              "    }\n",
              "</style>\n",
              "<table border=\"1\" class=\"dataframe\">\n",
              "  <thead>\n",
              "    <tr style=\"text-align: right;\">\n",
              "      <th></th>\n",
              "      <th>business_id</th>\n",
              "      <th>service_raw</th>\n",
              "    </tr>\n",
              "  </thead>\n",
              "  <tbody>\n",
              "    <tr>\n",
              "      <th>0</th>\n",
              "      <td>BJ0Z74sTz9sxRr1R533Inw</td>\n",
              "      <td>'RestaurantsTakeOut'</td>\n",
              "    </tr>\n",
              "    <tr>\n",
              "      <th>1</th>\n",
              "      <td>BJ0Z74sTz9sxRr1R533Inw</td>\n",
              "      <td>'RestaurantsTableService'</td>\n",
              "    </tr>\n",
              "    <tr>\n",
              "      <th>2</th>\n",
              "      <td>dm9UbH8XPAP6735lHRYILA</td>\n",
              "      <td>'RestaurantsDelivery'</td>\n",
              "    </tr>\n",
              "    <tr>\n",
              "      <th>3</th>\n",
              "      <td>dm9UbH8XPAP6735lHRYILA</td>\n",
              "      <td>'RestaurantsTakeOut'</td>\n",
              "    </tr>\n",
              "    <tr>\n",
              "      <th>4</th>\n",
              "      <td>aVRVBncwdK3GrqLKLFPKAg</td>\n",
              "      <td>'RestaurantsDelivery'</td>\n",
              "    </tr>\n",
              "  </tbody>\n",
              "</table>\n",
              "</div>\n",
              "      <button class=\"colab-df-convert\" onclick=\"convertToInteractive('df-c4412433-2360-400f-a52a-20d9780d28ee')\"\n",
              "              title=\"Convert this dataframe to an interactive table.\"\n",
              "              style=\"display:none;\">\n",
              "        \n",
              "  <svg xmlns=\"http://www.w3.org/2000/svg\" height=\"24px\"viewBox=\"0 0 24 24\"\n",
              "       width=\"24px\">\n",
              "    <path d=\"M0 0h24v24H0V0z\" fill=\"none\"/>\n",
              "    <path d=\"M18.56 5.44l.94 2.06.94-2.06 2.06-.94-2.06-.94-.94-2.06-.94 2.06-2.06.94zm-11 1L8.5 8.5l.94-2.06 2.06-.94-2.06-.94L8.5 2.5l-.94 2.06-2.06.94zm10 10l.94 2.06.94-2.06 2.06-.94-2.06-.94-.94-2.06-.94 2.06-2.06.94z\"/><path d=\"M17.41 7.96l-1.37-1.37c-.4-.4-.92-.59-1.43-.59-.52 0-1.04.2-1.43.59L10.3 9.45l-7.72 7.72c-.78.78-.78 2.05 0 2.83L4 21.41c.39.39.9.59 1.41.59.51 0 1.02-.2 1.41-.59l7.78-7.78 2.81-2.81c.8-.78.8-2.07 0-2.86zM5.41 20L4 18.59l7.72-7.72 1.47 1.35L5.41 20z\"/>\n",
              "  </svg>\n",
              "      </button>\n",
              "      \n",
              "  <style>\n",
              "    .colab-df-container {\n",
              "      display:flex;\n",
              "      flex-wrap:wrap;\n",
              "      gap: 12px;\n",
              "    }\n",
              "\n",
              "    .colab-df-convert {\n",
              "      background-color: #E8F0FE;\n",
              "      border: none;\n",
              "      border-radius: 50%;\n",
              "      cursor: pointer;\n",
              "      display: none;\n",
              "      fill: #1967D2;\n",
              "      height: 32px;\n",
              "      padding: 0 0 0 0;\n",
              "      width: 32px;\n",
              "    }\n",
              "\n",
              "    .colab-df-convert:hover {\n",
              "      background-color: #E2EBFA;\n",
              "      box-shadow: 0px 1px 2px rgba(60, 64, 67, 0.3), 0px 1px 3px 1px rgba(60, 64, 67, 0.15);\n",
              "      fill: #174EA6;\n",
              "    }\n",
              "\n",
              "    [theme=dark] .colab-df-convert {\n",
              "      background-color: #3B4455;\n",
              "      fill: #D2E3FC;\n",
              "    }\n",
              "\n",
              "    [theme=dark] .colab-df-convert:hover {\n",
              "      background-color: #434B5C;\n",
              "      box-shadow: 0px 1px 3px 1px rgba(0, 0, 0, 0.15);\n",
              "      filter: drop-shadow(0px 1px 2px rgba(0, 0, 0, 0.3));\n",
              "      fill: #FFFFFF;\n",
              "    }\n",
              "  </style>\n",
              "\n",
              "      <script>\n",
              "        const buttonEl =\n",
              "          document.querySelector('#df-c4412433-2360-400f-a52a-20d9780d28ee button.colab-df-convert');\n",
              "        buttonEl.style.display =\n",
              "          google.colab.kernel.accessAllowed ? 'block' : 'none';\n",
              "\n",
              "        async function convertToInteractive(key) {\n",
              "          const element = document.querySelector('#df-c4412433-2360-400f-a52a-20d9780d28ee');\n",
              "          const dataTable =\n",
              "            await google.colab.kernel.invokeFunction('convertToInteractive',\n",
              "                                                     [key], {});\n",
              "          if (!dataTable) return;\n",
              "\n",
              "          const docLinkHtml = 'Like what you see? Visit the ' +\n",
              "            '<a target=\"_blank\" href=https://colab.research.google.com/notebooks/data_table.ipynb>data table notebook</a>'\n",
              "            + ' to learn more about interactive tables.';\n",
              "          element.innerHTML = '';\n",
              "          dataTable['output_type'] = 'display_data';\n",
              "          await google.colab.output.renderOutput(dataTable, element);\n",
              "          const docLink = document.createElement('div');\n",
              "          docLink.innerHTML = docLinkHtml;\n",
              "          element.appendChild(docLink);\n",
              "        }\n",
              "      </script>\n",
              "    </div>\n",
              "  </div>\n",
              "  "
            ]
          },
          "metadata": {},
          "execution_count": 62
        }
      ]
    },
    {
      "cell_type": "code",
      "source": [
        "# Reemplazar por los valores definidos\n",
        "service_yelp['service'] = service_yelp.service_raw.replace({\"'RestaurantsTakeOut'\": 'Takeout', \"'DriveThru'\":'Takeout',\"'RestaurantsDelivery'\":'Delivery',\n",
        "                              \"'RestaurantsTableService'\": 'Dine-in', \"'RestaurantsCounterService'\":'Dine-in'})\n",
        "service_yelp.service.fillna('Sin Dato', inplace= True)\n",
        "service_yelp.head()"
      ],
      "metadata": {
        "colab": {
          "base_uri": "https://localhost:8080/",
          "height": 206
        },
        "id": "hF4LhTaCW5U6",
        "outputId": "ae92566c-3060-45ba-8eea-975ce6489e9a"
      },
      "execution_count": null,
      "outputs": [
        {
          "output_type": "execute_result",
          "data": {
            "text/plain": [
              "              business_id                service_raw   service\n",
              "0  BJ0Z74sTz9sxRr1R533Inw       'RestaurantsTakeOut'   Takeout\n",
              "1  BJ0Z74sTz9sxRr1R533Inw  'RestaurantsTableService'   Dine-in\n",
              "2  dm9UbH8XPAP6735lHRYILA      'RestaurantsDelivery'  Delivery\n",
              "3  dm9UbH8XPAP6735lHRYILA       'RestaurantsTakeOut'   Takeout\n",
              "4  aVRVBncwdK3GrqLKLFPKAg      'RestaurantsDelivery'  Delivery"
            ],
            "text/html": [
              "\n",
              "  <div id=\"df-fabf94c6-6b5e-44af-97da-1cdc6b128d60\">\n",
              "    <div class=\"colab-df-container\">\n",
              "      <div>\n",
              "<style scoped>\n",
              "    .dataframe tbody tr th:only-of-type {\n",
              "        vertical-align: middle;\n",
              "    }\n",
              "\n",
              "    .dataframe tbody tr th {\n",
              "        vertical-align: top;\n",
              "    }\n",
              "\n",
              "    .dataframe thead th {\n",
              "        text-align: right;\n",
              "    }\n",
              "</style>\n",
              "<table border=\"1\" class=\"dataframe\">\n",
              "  <thead>\n",
              "    <tr style=\"text-align: right;\">\n",
              "      <th></th>\n",
              "      <th>business_id</th>\n",
              "      <th>service_raw</th>\n",
              "      <th>service</th>\n",
              "    </tr>\n",
              "  </thead>\n",
              "  <tbody>\n",
              "    <tr>\n",
              "      <th>0</th>\n",
              "      <td>BJ0Z74sTz9sxRr1R533Inw</td>\n",
              "      <td>'RestaurantsTakeOut'</td>\n",
              "      <td>Takeout</td>\n",
              "    </tr>\n",
              "    <tr>\n",
              "      <th>1</th>\n",
              "      <td>BJ0Z74sTz9sxRr1R533Inw</td>\n",
              "      <td>'RestaurantsTableService'</td>\n",
              "      <td>Dine-in</td>\n",
              "    </tr>\n",
              "    <tr>\n",
              "      <th>2</th>\n",
              "      <td>dm9UbH8XPAP6735lHRYILA</td>\n",
              "      <td>'RestaurantsDelivery'</td>\n",
              "      <td>Delivery</td>\n",
              "    </tr>\n",
              "    <tr>\n",
              "      <th>3</th>\n",
              "      <td>dm9UbH8XPAP6735lHRYILA</td>\n",
              "      <td>'RestaurantsTakeOut'</td>\n",
              "      <td>Takeout</td>\n",
              "    </tr>\n",
              "    <tr>\n",
              "      <th>4</th>\n",
              "      <td>aVRVBncwdK3GrqLKLFPKAg</td>\n",
              "      <td>'RestaurantsDelivery'</td>\n",
              "      <td>Delivery</td>\n",
              "    </tr>\n",
              "  </tbody>\n",
              "</table>\n",
              "</div>\n",
              "      <button class=\"colab-df-convert\" onclick=\"convertToInteractive('df-fabf94c6-6b5e-44af-97da-1cdc6b128d60')\"\n",
              "              title=\"Convert this dataframe to an interactive table.\"\n",
              "              style=\"display:none;\">\n",
              "        \n",
              "  <svg xmlns=\"http://www.w3.org/2000/svg\" height=\"24px\"viewBox=\"0 0 24 24\"\n",
              "       width=\"24px\">\n",
              "    <path d=\"M0 0h24v24H0V0z\" fill=\"none\"/>\n",
              "    <path d=\"M18.56 5.44l.94 2.06.94-2.06 2.06-.94-2.06-.94-.94-2.06-.94 2.06-2.06.94zm-11 1L8.5 8.5l.94-2.06 2.06-.94-2.06-.94L8.5 2.5l-.94 2.06-2.06.94zm10 10l.94 2.06.94-2.06 2.06-.94-2.06-.94-.94-2.06-.94 2.06-2.06.94z\"/><path d=\"M17.41 7.96l-1.37-1.37c-.4-.4-.92-.59-1.43-.59-.52 0-1.04.2-1.43.59L10.3 9.45l-7.72 7.72c-.78.78-.78 2.05 0 2.83L4 21.41c.39.39.9.59 1.41.59.51 0 1.02-.2 1.41-.59l7.78-7.78 2.81-2.81c.8-.78.8-2.07 0-2.86zM5.41 20L4 18.59l7.72-7.72 1.47 1.35L5.41 20z\"/>\n",
              "  </svg>\n",
              "      </button>\n",
              "      \n",
              "  <style>\n",
              "    .colab-df-container {\n",
              "      display:flex;\n",
              "      flex-wrap:wrap;\n",
              "      gap: 12px;\n",
              "    }\n",
              "\n",
              "    .colab-df-convert {\n",
              "      background-color: #E8F0FE;\n",
              "      border: none;\n",
              "      border-radius: 50%;\n",
              "      cursor: pointer;\n",
              "      display: none;\n",
              "      fill: #1967D2;\n",
              "      height: 32px;\n",
              "      padding: 0 0 0 0;\n",
              "      width: 32px;\n",
              "    }\n",
              "\n",
              "    .colab-df-convert:hover {\n",
              "      background-color: #E2EBFA;\n",
              "      box-shadow: 0px 1px 2px rgba(60, 64, 67, 0.3), 0px 1px 3px 1px rgba(60, 64, 67, 0.15);\n",
              "      fill: #174EA6;\n",
              "    }\n",
              "\n",
              "    [theme=dark] .colab-df-convert {\n",
              "      background-color: #3B4455;\n",
              "      fill: #D2E3FC;\n",
              "    }\n",
              "\n",
              "    [theme=dark] .colab-df-convert:hover {\n",
              "      background-color: #434B5C;\n",
              "      box-shadow: 0px 1px 3px 1px rgba(0, 0, 0, 0.15);\n",
              "      filter: drop-shadow(0px 1px 2px rgba(0, 0, 0, 0.3));\n",
              "      fill: #FFFFFF;\n",
              "    }\n",
              "  </style>\n",
              "\n",
              "      <script>\n",
              "        const buttonEl =\n",
              "          document.querySelector('#df-fabf94c6-6b5e-44af-97da-1cdc6b128d60 button.colab-df-convert');\n",
              "        buttonEl.style.display =\n",
              "          google.colab.kernel.accessAllowed ? 'block' : 'none';\n",
              "\n",
              "        async function convertToInteractive(key) {\n",
              "          const element = document.querySelector('#df-fabf94c6-6b5e-44af-97da-1cdc6b128d60');\n",
              "          const dataTable =\n",
              "            await google.colab.kernel.invokeFunction('convertToInteractive',\n",
              "                                                     [key], {});\n",
              "          if (!dataTable) return;\n",
              "\n",
              "          const docLinkHtml = 'Like what you see? Visit the ' +\n",
              "            '<a target=\"_blank\" href=https://colab.research.google.com/notebooks/data_table.ipynb>data table notebook</a>'\n",
              "            + ' to learn more about interactive tables.';\n",
              "          element.innerHTML = '';\n",
              "          dataTable['output_type'] = 'display_data';\n",
              "          await google.colab.output.renderOutput(dataTable, element);\n",
              "          const docLink = document.createElement('div');\n",
              "          docLink.innerHTML = docLinkHtml;\n",
              "          element.appendChild(docLink);\n",
              "        }\n",
              "      </script>\n",
              "    </div>\n",
              "  </div>\n",
              "  "
            ]
          },
          "metadata": {},
          "execution_count": 63
        }
      ]
    },
    {
      "cell_type": "code",
      "source": [
        "# Transformar dataframe a valores únicos asociado a cada 'business_id'\n",
        "service_yelp_unq = service_yelp.groupby('business_id')['service'].agg(lambda x: list(set(x))).reset_index()\n",
        "service_yelp_unq.head()"
      ],
      "metadata": {
        "colab": {
          "base_uri": "https://localhost:8080/",
          "height": 206
        },
        "id": "5o_ArHnLXPo7",
        "outputId": "13ede373-63df-473e-9d0d-7f62d522cec3"
      },
      "execution_count": null,
      "outputs": [
        {
          "output_type": "execute_result",
          "data": {
            "text/plain": [
              "              business_id                       service\n",
              "0  ---kPU91CF4Lq2-WlRu9Lw  [Dine-in, Delivery, Takeout]\n",
              "1  --ARBQr1WMsTWiwOKOj-FQ                    [Sin Dato]\n",
              "2  --ZVrH2X2QXBFdCilbirsw  [Dine-in, Takeout, Delivery]\n",
              "3  --epgcb7xHGuJ-4PUeSLAw                     [Takeout]\n",
              "4  --onnLZrsCazmcy2P_7fcw           [Takeout, Delivery]"
            ],
            "text/html": [
              "\n",
              "  <div id=\"df-f87facb0-33b6-482d-9459-dce27371fbbb\">\n",
              "    <div class=\"colab-df-container\">\n",
              "      <div>\n",
              "<style scoped>\n",
              "    .dataframe tbody tr th:only-of-type {\n",
              "        vertical-align: middle;\n",
              "    }\n",
              "\n",
              "    .dataframe tbody tr th {\n",
              "        vertical-align: top;\n",
              "    }\n",
              "\n",
              "    .dataframe thead th {\n",
              "        text-align: right;\n",
              "    }\n",
              "</style>\n",
              "<table border=\"1\" class=\"dataframe\">\n",
              "  <thead>\n",
              "    <tr style=\"text-align: right;\">\n",
              "      <th></th>\n",
              "      <th>business_id</th>\n",
              "      <th>service</th>\n",
              "    </tr>\n",
              "  </thead>\n",
              "  <tbody>\n",
              "    <tr>\n",
              "      <th>0</th>\n",
              "      <td>---kPU91CF4Lq2-WlRu9Lw</td>\n",
              "      <td>[Dine-in, Delivery, Takeout]</td>\n",
              "    </tr>\n",
              "    <tr>\n",
              "      <th>1</th>\n",
              "      <td>--ARBQr1WMsTWiwOKOj-FQ</td>\n",
              "      <td>[Sin Dato]</td>\n",
              "    </tr>\n",
              "    <tr>\n",
              "      <th>2</th>\n",
              "      <td>--ZVrH2X2QXBFdCilbirsw</td>\n",
              "      <td>[Dine-in, Takeout, Delivery]</td>\n",
              "    </tr>\n",
              "    <tr>\n",
              "      <th>3</th>\n",
              "      <td>--epgcb7xHGuJ-4PUeSLAw</td>\n",
              "      <td>[Takeout]</td>\n",
              "    </tr>\n",
              "    <tr>\n",
              "      <th>4</th>\n",
              "      <td>--onnLZrsCazmcy2P_7fcw</td>\n",
              "      <td>[Takeout, Delivery]</td>\n",
              "    </tr>\n",
              "  </tbody>\n",
              "</table>\n",
              "</div>\n",
              "      <button class=\"colab-df-convert\" onclick=\"convertToInteractive('df-f87facb0-33b6-482d-9459-dce27371fbbb')\"\n",
              "              title=\"Convert this dataframe to an interactive table.\"\n",
              "              style=\"display:none;\">\n",
              "        \n",
              "  <svg xmlns=\"http://www.w3.org/2000/svg\" height=\"24px\"viewBox=\"0 0 24 24\"\n",
              "       width=\"24px\">\n",
              "    <path d=\"M0 0h24v24H0V0z\" fill=\"none\"/>\n",
              "    <path d=\"M18.56 5.44l.94 2.06.94-2.06 2.06-.94-2.06-.94-.94-2.06-.94 2.06-2.06.94zm-11 1L8.5 8.5l.94-2.06 2.06-.94-2.06-.94L8.5 2.5l-.94 2.06-2.06.94zm10 10l.94 2.06.94-2.06 2.06-.94-2.06-.94-.94-2.06-.94 2.06-2.06.94z\"/><path d=\"M17.41 7.96l-1.37-1.37c-.4-.4-.92-.59-1.43-.59-.52 0-1.04.2-1.43.59L10.3 9.45l-7.72 7.72c-.78.78-.78 2.05 0 2.83L4 21.41c.39.39.9.59 1.41.59.51 0 1.02-.2 1.41-.59l7.78-7.78 2.81-2.81c.8-.78.8-2.07 0-2.86zM5.41 20L4 18.59l7.72-7.72 1.47 1.35L5.41 20z\"/>\n",
              "  </svg>\n",
              "      </button>\n",
              "      \n",
              "  <style>\n",
              "    .colab-df-container {\n",
              "      display:flex;\n",
              "      flex-wrap:wrap;\n",
              "      gap: 12px;\n",
              "    }\n",
              "\n",
              "    .colab-df-convert {\n",
              "      background-color: #E8F0FE;\n",
              "      border: none;\n",
              "      border-radius: 50%;\n",
              "      cursor: pointer;\n",
              "      display: none;\n",
              "      fill: #1967D2;\n",
              "      height: 32px;\n",
              "      padding: 0 0 0 0;\n",
              "      width: 32px;\n",
              "    }\n",
              "\n",
              "    .colab-df-convert:hover {\n",
              "      background-color: #E2EBFA;\n",
              "      box-shadow: 0px 1px 2px rgba(60, 64, 67, 0.3), 0px 1px 3px 1px rgba(60, 64, 67, 0.15);\n",
              "      fill: #174EA6;\n",
              "    }\n",
              "\n",
              "    [theme=dark] .colab-df-convert {\n",
              "      background-color: #3B4455;\n",
              "      fill: #D2E3FC;\n",
              "    }\n",
              "\n",
              "    [theme=dark] .colab-df-convert:hover {\n",
              "      background-color: #434B5C;\n",
              "      box-shadow: 0px 1px 3px 1px rgba(0, 0, 0, 0.15);\n",
              "      filter: drop-shadow(0px 1px 2px rgba(0, 0, 0, 0.3));\n",
              "      fill: #FFFFFF;\n",
              "    }\n",
              "  </style>\n",
              "\n",
              "      <script>\n",
              "        const buttonEl =\n",
              "          document.querySelector('#df-f87facb0-33b6-482d-9459-dce27371fbbb button.colab-df-convert');\n",
              "        buttonEl.style.display =\n",
              "          google.colab.kernel.accessAllowed ? 'block' : 'none';\n",
              "\n",
              "        async function convertToInteractive(key) {\n",
              "          const element = document.querySelector('#df-f87facb0-33b6-482d-9459-dce27371fbbb');\n",
              "          const dataTable =\n",
              "            await google.colab.kernel.invokeFunction('convertToInteractive',\n",
              "                                                     [key], {});\n",
              "          if (!dataTable) return;\n",
              "\n",
              "          const docLinkHtml = 'Like what you see? Visit the ' +\n",
              "            '<a target=\"_blank\" href=https://colab.research.google.com/notebooks/data_table.ipynb>data table notebook</a>'\n",
              "            + ' to learn more about interactive tables.';\n",
              "          element.innerHTML = '';\n",
              "          dataTable['output_type'] = 'display_data';\n",
              "          await google.colab.output.renderOutput(dataTable, element);\n",
              "          const docLink = document.createElement('div');\n",
              "          docLink.innerHTML = docLinkHtml;\n",
              "          element.appendChild(docLink);\n",
              "        }\n",
              "      </script>\n",
              "    </div>\n",
              "  </div>\n",
              "  "
            ]
          },
          "metadata": {},
          "execution_count": 64
        }
      ]
    },
    {
      "cell_type": "code",
      "source": [
        "# Convertir lista a string\n",
        "service_yelp_unq['service'] = service_yelp_unq.service.apply(lambda x: ', '.join(map(str, x)))\n",
        "# Renombrar valores para homogenizar\n",
        "service_yelp_unq.service.replace({'Takeout, Delivery, Dine-in':'Dine-in, Takeout, Delivery',\n",
        "                                    'Dine-in, Delivery, Takeout':'Dine-in, Takeout, Delivery',\n",
        "                                    'Delivery, Dine-in, Takeout': 'Dine-in, Takeout, Delivery',\n",
        "                                    'Takeout, Dine-in': 'Dine-in, Takeout',\n",
        "                                    'Delivery, Dine-in': 'Dine-in, Delivery'}, inplace = True)\n",
        "service_yelp_unq.info()"
      ],
      "metadata": {
        "colab": {
          "base_uri": "https://localhost:8080/"
        },
        "id": "kD026s-EXqpA",
        "outputId": "20d2be85-94be-495c-c964-596936aa65f4"
      },
      "execution_count": null,
      "outputs": [
        {
          "output_type": "stream",
          "name": "stdout",
          "text": [
            "<class 'pandas.core.frame.DataFrame'>\n",
            "RangeIndex: 26686 entries, 0 to 26685\n",
            "Data columns (total 2 columns):\n",
            " #   Column       Non-Null Count  Dtype \n",
            "---  ------       --------------  ----- \n",
            " 0   business_id  26686 non-null  object\n",
            " 1   service      26686 non-null  object\n",
            "dtypes: object(2)\n",
            "memory usage: 417.1+ KB\n"
          ]
        }
      ]
    },
    {
      "cell_type": "code",
      "source": [
        "# Realizar left join basado en 'gmap_id'\n",
        "df_business = pd.merge(df_business, service_yelp_unq, on='business_id', how='left')\n",
        "df_business.info()"
      ],
      "metadata": {
        "colab": {
          "base_uri": "https://localhost:8080/"
        },
        "id": "He-dYjnyYfP_",
        "outputId": "a0e9a75b-d092-4d69-9b3c-5adf615724cb"
      },
      "execution_count": null,
      "outputs": [
        {
          "output_type": "stream",
          "name": "stdout",
          "text": [
            "<class 'pandas.core.frame.DataFrame'>\n",
            "Int64Index: 26686 entries, 0 to 26685\n",
            "Data columns (total 17 columns):\n",
            " #   Column          Non-Null Count  Dtype \n",
            "---  ------          --------------  ----- \n",
            " 0   business_id     26686 non-null  object\n",
            " 1   local_name      26686 non-null  object\n",
            " 2   state           26686 non-null  object\n",
            " 3   latitude        26686 non-null  object\n",
            " 4   longitude       26686 non-null  object\n",
            " 5   stars           26686 non-null  object\n",
            " 6   num_of_reviews  26686 non-null  object\n",
            " 7   attributes      26363 non-null  object\n",
            " 8   subcategory     26686 non-null  object\n",
            " 9   hours           22883 non-null  object\n",
            " 10  platform        26686 non-null  object\n",
            " 11  category        26686 non-null  object\n",
            " 12  rest_category   26686 non-null  object\n",
            " 13  day_open        22883 non-null  object\n",
            " 14  abierto         22883 non-null  object\n",
            " 15  service_raw     26363 non-null  object\n",
            " 16  service         26686 non-null  object\n",
            "dtypes: object(17)\n",
            "memory usage: 3.7+ MB\n"
          ]
        }
      ]
    },
    {
      "cell_type": "code",
      "source": [
        "df_business.service.value_counts()"
      ],
      "metadata": {
        "colab": {
          "base_uri": "https://localhost:8080/"
        },
        "id": "a8myMLJJZeCF",
        "outputId": "15dc5e1e-b4b1-49ad-a5b9-ed6029c4fb13"
      },
      "execution_count": null,
      "outputs": [
        {
          "output_type": "execute_result",
          "data": {
            "text/plain": [
              "Dine-in, Takeout, Delivery    8355\n",
              "Delivery, Takeout             7785\n",
              "Takeout, Delivery             4996\n",
              "Sin Dato                      3528\n",
              "Takeout                       1497\n",
              "Delivery                       351\n",
              "Dine-in, Takeout                84\n",
              "Dine-in                         48\n",
              "Dine-in, Delivery               42\n",
              "Name: service, dtype: int64"
            ]
          },
          "metadata": {},
          "execution_count": 67
        }
      ]
    },
    {
      "cell_type": "markdown",
      "source": [
        "### Precio"
      ],
      "metadata": {
        "id": "eXWcpbhgrR0Y"
      }
    },
    {
      "cell_type": "code",
      "source": [
        "# Definir una función para extraer los valores de precio del diccionario de 'attributes'\n",
        "def extract_price(attributes):\n",
        "    if isinstance(attributes, dict) and 'RestaurantsPriceRange2' in attributes:\n",
        "        return attributes['RestaurantsPriceRange2']\n",
        "    else:\n",
        "        return None\n",
        "\n",
        "# Aplicar la función para crear una columna precio con los valores\n",
        "df_business['price'] = df_business['attributes'].apply(lambda x: extract_price(x))"
      ],
      "metadata": {
        "id": "LgViLsj8rT3O"
      },
      "execution_count": null,
      "outputs": []
    },
    {
      "cell_type": "code",
      "source": [
        "# Reemplazar los valores extrídos por los valores deseados\n",
        "df_business.price.replace({'1':'S','2':'SS','3':'SSS','4':'SSSS'}, inplace= True)\n",
        "df_business.price.value_counts()"
      ],
      "metadata": {
        "colab": {
          "base_uri": "https://localhost:8080/"
        },
        "id": "BElCQPN_ryE2",
        "outputId": "b4a1f4b6-dd59-405c-dd3b-538eaf59c0ae"
      },
      "execution_count": null,
      "outputs": [
        {
          "output_type": "execute_result",
          "data": {
            "text/plain": [
              "SS      11601\n",
              "S        9594\n",
              "SSS       914\n",
              "SSSS      112\n",
              "None        5\n",
              "Name: price, dtype: int64"
            ]
          },
          "metadata": {},
          "execution_count": 69
        }
      ]
    },
    {
      "cell_type": "markdown",
      "source": [
        "### Eliminar columnas"
      ],
      "metadata": {
        "id": "7PJ__-5HC7mu"
      }
    },
    {
      "cell_type": "code",
      "source": [
        "# Eliminar columnas a las que no se darán uso\n",
        "df_business.drop(columns = ['attributes','subcategory','platform','category','hours','day_open','service_raw'], inplace=True)"
      ],
      "metadata": {
        "id": "cgodeYcJC-B7"
      },
      "execution_count": null,
      "outputs": []
    },
    {
      "cell_type": "markdown",
      "source": [
        "## Reviews"
      ],
      "metadata": {
        "id": "xwMO78-6yHn-"
      }
    },
    {
      "cell_type": "code",
      "source": [
        "yelp_reviews.head()"
      ],
      "metadata": {
        "id": "Bio4Ife2yM-2",
        "colab": {
          "base_uri": "https://localhost:8080/",
          "height": 206
        },
        "outputId": "9b6b9029-24a1-4d1b-e96a-c66d1c3295d4"
      },
      "execution_count": null,
      "outputs": [
        {
          "output_type": "execute_result",
          "data": {
            "text/plain": [
              "                review_id                 user_id             business_id  \\\n",
              "0  d2jRO-CNiN759AxFGCx2Mg  wNez7l0M4uC5PXMoYJNpAw  xPWfBAXS1s5fw2Qcb8xX7g   \n",
              "1  __blE0UkvbkwsQDudVdNIg  cPJZGsyD1onwRMpaUyrCUA  a7GH7t5cJy62O6IevecFkA   \n",
              "2  hUR1NyXFMllPYloDKnD89g  eLeilJYc3paH6MffqFBzDA  yJYriI9Sbw8E4wmZUXglWA   \n",
              "3  firtM38j0ODlX32du5ZIGQ  BEiWWB5q345DS6EZpCcdSg  CLrVFkXQLuXaHA7dJEHZKQ   \n",
              "4  puy8QO6mAW2qhZ72nomYOg  wBDaGSPpN3Rt_P0fZZaBmw  BbnL_wJLB-EHvFx0dXuAjg   \n",
              "\n",
              "  rating                                            opinion        date  \\\n",
              "0    4.0  This joint has a very wide lunch special menu....  2016-08-25   \n",
              "1    4.0  We stayed here over a weekend and the place wa...  2016-08-25   \n",
              "2    4.0  Eatery on the corner in the middle of Freret n...  2017-01-10   \n",
              "3    4.0  Just Ravoli was more than expected.  It is des...  2017-03-27   \n",
              "4    4.0  Excellent food - the seafood was great.\\nThe f...  2017-05-16   \n",
              "\n",
              "    feeling  \n",
              "0  Positive  \n",
              "1  Positive  \n",
              "2  Positive  \n",
              "3  Positive  \n",
              "4  Positive  "
            ],
            "text/html": [
              "\n",
              "  <div id=\"df-a1ed6a7e-1a31-469b-9fac-a5506cac8432\">\n",
              "    <div class=\"colab-df-container\">\n",
              "      <div>\n",
              "<style scoped>\n",
              "    .dataframe tbody tr th:only-of-type {\n",
              "        vertical-align: middle;\n",
              "    }\n",
              "\n",
              "    .dataframe tbody tr th {\n",
              "        vertical-align: top;\n",
              "    }\n",
              "\n",
              "    .dataframe thead th {\n",
              "        text-align: right;\n",
              "    }\n",
              "</style>\n",
              "<table border=\"1\" class=\"dataframe\">\n",
              "  <thead>\n",
              "    <tr style=\"text-align: right;\">\n",
              "      <th></th>\n",
              "      <th>review_id</th>\n",
              "      <th>user_id</th>\n",
              "      <th>business_id</th>\n",
              "      <th>rating</th>\n",
              "      <th>opinion</th>\n",
              "      <th>date</th>\n",
              "      <th>feeling</th>\n",
              "    </tr>\n",
              "  </thead>\n",
              "  <tbody>\n",
              "    <tr>\n",
              "      <th>0</th>\n",
              "      <td>d2jRO-CNiN759AxFGCx2Mg</td>\n",
              "      <td>wNez7l0M4uC5PXMoYJNpAw</td>\n",
              "      <td>xPWfBAXS1s5fw2Qcb8xX7g</td>\n",
              "      <td>4.0</td>\n",
              "      <td>This joint has a very wide lunch special menu....</td>\n",
              "      <td>2016-08-25</td>\n",
              "      <td>Positive</td>\n",
              "    </tr>\n",
              "    <tr>\n",
              "      <th>1</th>\n",
              "      <td>__blE0UkvbkwsQDudVdNIg</td>\n",
              "      <td>cPJZGsyD1onwRMpaUyrCUA</td>\n",
              "      <td>a7GH7t5cJy62O6IevecFkA</td>\n",
              "      <td>4.0</td>\n",
              "      <td>We stayed here over a weekend and the place wa...</td>\n",
              "      <td>2016-08-25</td>\n",
              "      <td>Positive</td>\n",
              "    </tr>\n",
              "    <tr>\n",
              "      <th>2</th>\n",
              "      <td>hUR1NyXFMllPYloDKnD89g</td>\n",
              "      <td>eLeilJYc3paH6MffqFBzDA</td>\n",
              "      <td>yJYriI9Sbw8E4wmZUXglWA</td>\n",
              "      <td>4.0</td>\n",
              "      <td>Eatery on the corner in the middle of Freret n...</td>\n",
              "      <td>2017-01-10</td>\n",
              "      <td>Positive</td>\n",
              "    </tr>\n",
              "    <tr>\n",
              "      <th>3</th>\n",
              "      <td>firtM38j0ODlX32du5ZIGQ</td>\n",
              "      <td>BEiWWB5q345DS6EZpCcdSg</td>\n",
              "      <td>CLrVFkXQLuXaHA7dJEHZKQ</td>\n",
              "      <td>4.0</td>\n",
              "      <td>Just Ravoli was more than expected.  It is des...</td>\n",
              "      <td>2017-03-27</td>\n",
              "      <td>Positive</td>\n",
              "    </tr>\n",
              "    <tr>\n",
              "      <th>4</th>\n",
              "      <td>puy8QO6mAW2qhZ72nomYOg</td>\n",
              "      <td>wBDaGSPpN3Rt_P0fZZaBmw</td>\n",
              "      <td>BbnL_wJLB-EHvFx0dXuAjg</td>\n",
              "      <td>4.0</td>\n",
              "      <td>Excellent food - the seafood was great.\\nThe f...</td>\n",
              "      <td>2017-05-16</td>\n",
              "      <td>Positive</td>\n",
              "    </tr>\n",
              "  </tbody>\n",
              "</table>\n",
              "</div>\n",
              "      <button class=\"colab-df-convert\" onclick=\"convertToInteractive('df-a1ed6a7e-1a31-469b-9fac-a5506cac8432')\"\n",
              "              title=\"Convert this dataframe to an interactive table.\"\n",
              "              style=\"display:none;\">\n",
              "        \n",
              "  <svg xmlns=\"http://www.w3.org/2000/svg\" height=\"24px\"viewBox=\"0 0 24 24\"\n",
              "       width=\"24px\">\n",
              "    <path d=\"M0 0h24v24H0V0z\" fill=\"none\"/>\n",
              "    <path d=\"M18.56 5.44l.94 2.06.94-2.06 2.06-.94-2.06-.94-.94-2.06-.94 2.06-2.06.94zm-11 1L8.5 8.5l.94-2.06 2.06-.94-2.06-.94L8.5 2.5l-.94 2.06-2.06.94zm10 10l.94 2.06.94-2.06 2.06-.94-2.06-.94-.94-2.06-.94 2.06-2.06.94z\"/><path d=\"M17.41 7.96l-1.37-1.37c-.4-.4-.92-.59-1.43-.59-.52 0-1.04.2-1.43.59L10.3 9.45l-7.72 7.72c-.78.78-.78 2.05 0 2.83L4 21.41c.39.39.9.59 1.41.59.51 0 1.02-.2 1.41-.59l7.78-7.78 2.81-2.81c.8-.78.8-2.07 0-2.86zM5.41 20L4 18.59l7.72-7.72 1.47 1.35L5.41 20z\"/>\n",
              "  </svg>\n",
              "      </button>\n",
              "      \n",
              "  <style>\n",
              "    .colab-df-container {\n",
              "      display:flex;\n",
              "      flex-wrap:wrap;\n",
              "      gap: 12px;\n",
              "    }\n",
              "\n",
              "    .colab-df-convert {\n",
              "      background-color: #E8F0FE;\n",
              "      border: none;\n",
              "      border-radius: 50%;\n",
              "      cursor: pointer;\n",
              "      display: none;\n",
              "      fill: #1967D2;\n",
              "      height: 32px;\n",
              "      padding: 0 0 0 0;\n",
              "      width: 32px;\n",
              "    }\n",
              "\n",
              "    .colab-df-convert:hover {\n",
              "      background-color: #E2EBFA;\n",
              "      box-shadow: 0px 1px 2px rgba(60, 64, 67, 0.3), 0px 1px 3px 1px rgba(60, 64, 67, 0.15);\n",
              "      fill: #174EA6;\n",
              "    }\n",
              "\n",
              "    [theme=dark] .colab-df-convert {\n",
              "      background-color: #3B4455;\n",
              "      fill: #D2E3FC;\n",
              "    }\n",
              "\n",
              "    [theme=dark] .colab-df-convert:hover {\n",
              "      background-color: #434B5C;\n",
              "      box-shadow: 0px 1px 3px 1px rgba(0, 0, 0, 0.15);\n",
              "      filter: drop-shadow(0px 1px 2px rgba(0, 0, 0, 0.3));\n",
              "      fill: #FFFFFF;\n",
              "    }\n",
              "  </style>\n",
              "\n",
              "      <script>\n",
              "        const buttonEl =\n",
              "          document.querySelector('#df-a1ed6a7e-1a31-469b-9fac-a5506cac8432 button.colab-df-convert');\n",
              "        buttonEl.style.display =\n",
              "          google.colab.kernel.accessAllowed ? 'block' : 'none';\n",
              "\n",
              "        async function convertToInteractive(key) {\n",
              "          const element = document.querySelector('#df-a1ed6a7e-1a31-469b-9fac-a5506cac8432');\n",
              "          const dataTable =\n",
              "            await google.colab.kernel.invokeFunction('convertToInteractive',\n",
              "                                                     [key], {});\n",
              "          if (!dataTable) return;\n",
              "\n",
              "          const docLinkHtml = 'Like what you see? Visit the ' +\n",
              "            '<a target=\"_blank\" href=https://colab.research.google.com/notebooks/data_table.ipynb>data table notebook</a>'\n",
              "            + ' to learn more about interactive tables.';\n",
              "          element.innerHTML = '';\n",
              "          dataTable['output_type'] = 'display_data';\n",
              "          await google.colab.output.renderOutput(dataTable, element);\n",
              "          const docLink = document.createElement('div');\n",
              "          docLink.innerHTML = docLinkHtml;\n",
              "          element.appendChild(docLink);\n",
              "        }\n",
              "      </script>\n",
              "    </div>\n",
              "  </div>\n",
              "  "
            ]
          },
          "metadata": {},
          "execution_count": 71
        }
      ]
    },
    {
      "cell_type": "code",
      "source": [
        "yelp_reviews.info()"
      ],
      "metadata": {
        "colab": {
          "base_uri": "https://localhost:8080/"
        },
        "id": "7xTmT0a4yv9Y",
        "outputId": "779a0f0a-acb9-45d5-9975-55368b77c5d5"
      },
      "execution_count": null,
      "outputs": [
        {
          "output_type": "stream",
          "name": "stdout",
          "text": [
            "<class 'pandas.core.frame.DataFrame'>\n",
            "RangeIndex: 4596987 entries, 0 to 4596986\n",
            "Data columns (total 7 columns):\n",
            " #   Column       Dtype \n",
            "---  ------       ----- \n",
            " 0   review_id    object\n",
            " 1   user_id      object\n",
            " 2   business_id  object\n",
            " 3   rating       object\n",
            " 4   opinion      object\n",
            " 5   date         object\n",
            " 6   feeling      object\n",
            "dtypes: object(7)\n",
            "memory usage: 245.5+ MB\n"
          ]
        }
      ]
    },
    {
      "cell_type": "code",
      "source": [
        "# Filtrar los registros que no corresponden a restaurantes\n",
        "yelp_reviews = yelp_reviews[yelp_reviews['business_id'].isin(df_business['business_id'])].reset_index(drop = True)\n",
        "yelp_reviews.info()"
      ],
      "metadata": {
        "colab": {
          "base_uri": "https://localhost:8080/"
        },
        "id": "QuqHHuIizNyp",
        "outputId": "c9590fef-caa2-442a-c21b-d92bef432709"
      },
      "execution_count": null,
      "outputs": [
        {
          "output_type": "stream",
          "name": "stdout",
          "text": [
            "<class 'pandas.core.frame.DataFrame'>\n",
            "RangeIndex: 1420212 entries, 0 to 1420211\n",
            "Data columns (total 7 columns):\n",
            " #   Column       Non-Null Count    Dtype \n",
            "---  ------       --------------    ----- \n",
            " 0   review_id    1420212 non-null  object\n",
            " 1   user_id      1420212 non-null  object\n",
            " 2   business_id  1420212 non-null  object\n",
            " 3   rating       1420212 non-null  object\n",
            " 4   opinion      1420212 non-null  object\n",
            " 5   date         1420212 non-null  object\n",
            " 6   feeling      1420212 non-null  object\n",
            "dtypes: object(7)\n",
            "memory usage: 75.8+ MB\n"
          ]
        }
      ]
    },
    {
      "cell_type": "code",
      "source": [
        "# Crear columna con 1 y 0 indicando si la opinión es mayor a 200 caracteres\n",
        "yelp_reviews['opinion_length'] = yelp_reviews['opinion'].apply(lambda x: 1 if len(x.replace(\" \", \"\")) > 200 else 0)"
      ],
      "metadata": {
        "id": "JNpD_DNnyzGt"
      },
      "execution_count": null,
      "outputs": []
    },
    {
      "cell_type": "code",
      "source": [
        "# Corte 30, 1: 1420087\n",
        "# Corte 45, 1: 1419135\n",
        "# Corte 80, 1: 1382165\n",
        "# Corte 150, 1: 1123512\n",
        "# Corte 200, 1: 955825\n",
        "yelp_reviews.opinion_length.value_counts()"
      ],
      "metadata": {
        "colab": {
          "base_uri": "https://localhost:8080/"
        },
        "id": "plGrQ4Gz0Dlg",
        "outputId": "e6a35940-df9e-4a54-faa7-b09f362efffe"
      },
      "execution_count": null,
      "outputs": [
        {
          "output_type": "execute_result",
          "data": {
            "text/plain": [
              "1    955805\n",
              "0    464407\n",
              "Name: opinion_length, dtype: int64"
            ]
          },
          "metadata": {},
          "execution_count": 75
        }
      ]
    },
    {
      "cell_type": "code",
      "source": [
        "yelp_reviews.drop([\"user_id\",'review_id'], axis=1, inplace=True)"
      ],
      "metadata": {
        "id": "smZDm4F9AUDt"
      },
      "execution_count": null,
      "outputs": []
    },
    {
      "cell_type": "code",
      "source": [
        "#yelp_reviews.to_csv('reviews_yelp_opinion.csv',index = False)"
      ],
      "metadata": {
        "id": "G8OQkzpHAUD0"
      },
      "execution_count": null,
      "outputs": []
    },
    {
      "cell_type": "markdown",
      "source": [
        "## Business Extra"
      ],
      "metadata": {
        "id": "HakyvsG14mQ7"
      }
    },
    {
      "cell_type": "code",
      "source": [
        "yelp_reviews['date'] = pd.to_datetime(yelp_reviews['date'])"
      ],
      "metadata": {
        "id": "vwvCnip246Nh"
      },
      "execution_count": null,
      "outputs": []
    },
    {
      "cell_type": "code",
      "source": [
        "# Obtener una lista de los ids de restaurantes que recibieron al menos un comentario en 2019 y 2021 respectivamente\n",
        "comment_2019y = list(yelp_reviews[yelp_reviews.date.dt.year == 2019]['business_id'].unique())\n",
        "comment_2021y = list(yelp_reviews[yelp_reviews.date.dt.year == 2021]['business_id'].unique())\n",
        "\n",
        "# Crear un nuevo dataframe con valores únicos de 'business_id'\n",
        "comments_yelp = pd.DataFrame(yelp_reviews['business_id'].unique(), columns=['business_id'])\n",
        "# Agregar al dataframe dos columnas indicando si el restaurante tuvo o no comentarios en los respectivos años\n",
        "comments_yelp['comment_2019'] = comments_yelp['business_id'].apply(lambda x: int(x in comment_2019y))\n",
        "comments_yelp['comment_2021'] = comments_yelp['business_id'].apply(lambda x: int(x in comment_2021y))"
      ],
      "metadata": {
        "id": "hysdH8tD46N6"
      },
      "execution_count": null,
      "outputs": []
    },
    {
      "cell_type": "code",
      "source": [
        "# Realizar left join basado en 'business_id'\n",
        "df_business2 = pd.merge(df_business, comments_yelp, on='business_id', how='left')\n",
        "df_business2.info()"
      ],
      "metadata": {
        "colab": {
          "base_uri": "https://localhost:8080/"
        },
        "outputId": "6d97705f-e27f-421e-96cf-4fe82bcd8201",
        "id": "Sl2nzWCG46N7"
      },
      "execution_count": null,
      "outputs": [
        {
          "output_type": "stream",
          "name": "stdout",
          "text": [
            "<class 'pandas.core.frame.DataFrame'>\n",
            "Int64Index: 26686 entries, 0 to 26685\n",
            "Data columns (total 13 columns):\n",
            " #   Column          Non-Null Count  Dtype  \n",
            "---  ------          --------------  -----  \n",
            " 0   business_id     26686 non-null  object \n",
            " 1   local_name      26686 non-null  object \n",
            " 2   state           26686 non-null  object \n",
            " 3   latitude        26686 non-null  object \n",
            " 4   longitude       26686 non-null  object \n",
            " 5   stars           26686 non-null  object \n",
            " 6   num_of_reviews  26686 non-null  object \n",
            " 7   rest_category   26686 non-null  object \n",
            " 8   abierto         22883 non-null  object \n",
            " 9   service         26686 non-null  object \n",
            " 10  price           22226 non-null  object \n",
            " 11  comment_2019    23382 non-null  float64\n",
            " 12  comment_2021    23382 non-null  float64\n",
            "dtypes: float64(2), object(11)\n",
            "memory usage: 2.9+ MB\n"
          ]
        }
      ]
    },
    {
      "cell_type": "markdown",
      "source": [
        "### Exportar Business"
      ],
      "metadata": {
        "id": "1Vrz_LBEhmxi"
      }
    },
    {
      "cell_type": "code",
      "source": [
        "# Exportar archivo\n",
        "#df_business2.to_csv('business_yelp.csv',index = False)"
      ],
      "metadata": {
        "id": "r6mm52WnhqBs"
      },
      "execution_count": null,
      "outputs": []
    },
    {
      "cell_type": "markdown",
      "source": [
        "## Checkin"
      ],
      "metadata": {
        "id": "BRjDYcBV4Xj9"
      }
    },
    {
      "cell_type": "code",
      "source": [
        "df_checkin.head()"
      ],
      "metadata": {
        "colab": {
          "base_uri": "https://localhost:8080/",
          "height": 206
        },
        "id": "CaDnyV-W6NuD",
        "outputId": "6c690cf8-ac3b-4f6e-f36e-0224b0c2bc60"
      },
      "execution_count": null,
      "outputs": [
        {
          "output_type": "execute_result",
          "data": {
            "text/plain": [
              "              business_id                                               date\n",
              "0  ---kPU91CF4Lq2-WlRu9Lw  2020-03-13 21:10:56, 2020-06-02 22:18:06, 2020...\n",
              "1  --0iUa4sNDFiZFrAdIWhZQ  2010-09-13 21:43:09, 2011-05-04 23:08:15, 2011...\n",
              "2  --30_8IhuyMHbSOcNWd6DQ           2013-06-14 23:29:17, 2014-08-13 23:20:22\n",
              "3  --7PUidqRWpRSpXebiyxTg  2011-02-15 17:12:00, 2011-07-28 02:46:10, 2012...\n",
              "4  --7jw19RH9JKXgFohspgQw  2014-04-21 20:42:11, 2014-04-28 21:04:46, 2014..."
            ],
            "text/html": [
              "\n",
              "  <div id=\"df-865de489-4602-4b73-9b2c-3f37b2877d59\">\n",
              "    <div class=\"colab-df-container\">\n",
              "      <div>\n",
              "<style scoped>\n",
              "    .dataframe tbody tr th:only-of-type {\n",
              "        vertical-align: middle;\n",
              "    }\n",
              "\n",
              "    .dataframe tbody tr th {\n",
              "        vertical-align: top;\n",
              "    }\n",
              "\n",
              "    .dataframe thead th {\n",
              "        text-align: right;\n",
              "    }\n",
              "</style>\n",
              "<table border=\"1\" class=\"dataframe\">\n",
              "  <thead>\n",
              "    <tr style=\"text-align: right;\">\n",
              "      <th></th>\n",
              "      <th>business_id</th>\n",
              "      <th>date</th>\n",
              "    </tr>\n",
              "  </thead>\n",
              "  <tbody>\n",
              "    <tr>\n",
              "      <th>0</th>\n",
              "      <td>---kPU91CF4Lq2-WlRu9Lw</td>\n",
              "      <td>2020-03-13 21:10:56, 2020-06-02 22:18:06, 2020...</td>\n",
              "    </tr>\n",
              "    <tr>\n",
              "      <th>1</th>\n",
              "      <td>--0iUa4sNDFiZFrAdIWhZQ</td>\n",
              "      <td>2010-09-13 21:43:09, 2011-05-04 23:08:15, 2011...</td>\n",
              "    </tr>\n",
              "    <tr>\n",
              "      <th>2</th>\n",
              "      <td>--30_8IhuyMHbSOcNWd6DQ</td>\n",
              "      <td>2013-06-14 23:29:17, 2014-08-13 23:20:22</td>\n",
              "    </tr>\n",
              "    <tr>\n",
              "      <th>3</th>\n",
              "      <td>--7PUidqRWpRSpXebiyxTg</td>\n",
              "      <td>2011-02-15 17:12:00, 2011-07-28 02:46:10, 2012...</td>\n",
              "    </tr>\n",
              "    <tr>\n",
              "      <th>4</th>\n",
              "      <td>--7jw19RH9JKXgFohspgQw</td>\n",
              "      <td>2014-04-21 20:42:11, 2014-04-28 21:04:46, 2014...</td>\n",
              "    </tr>\n",
              "  </tbody>\n",
              "</table>\n",
              "</div>\n",
              "      <button class=\"colab-df-convert\" onclick=\"convertToInteractive('df-865de489-4602-4b73-9b2c-3f37b2877d59')\"\n",
              "              title=\"Convert this dataframe to an interactive table.\"\n",
              "              style=\"display:none;\">\n",
              "        \n",
              "  <svg xmlns=\"http://www.w3.org/2000/svg\" height=\"24px\"viewBox=\"0 0 24 24\"\n",
              "       width=\"24px\">\n",
              "    <path d=\"M0 0h24v24H0V0z\" fill=\"none\"/>\n",
              "    <path d=\"M18.56 5.44l.94 2.06.94-2.06 2.06-.94-2.06-.94-.94-2.06-.94 2.06-2.06.94zm-11 1L8.5 8.5l.94-2.06 2.06-.94-2.06-.94L8.5 2.5l-.94 2.06-2.06.94zm10 10l.94 2.06.94-2.06 2.06-.94-2.06-.94-.94-2.06-.94 2.06-2.06.94z\"/><path d=\"M17.41 7.96l-1.37-1.37c-.4-.4-.92-.59-1.43-.59-.52 0-1.04.2-1.43.59L10.3 9.45l-7.72 7.72c-.78.78-.78 2.05 0 2.83L4 21.41c.39.39.9.59 1.41.59.51 0 1.02-.2 1.41-.59l7.78-7.78 2.81-2.81c.8-.78.8-2.07 0-2.86zM5.41 20L4 18.59l7.72-7.72 1.47 1.35L5.41 20z\"/>\n",
              "  </svg>\n",
              "      </button>\n",
              "      \n",
              "  <style>\n",
              "    .colab-df-container {\n",
              "      display:flex;\n",
              "      flex-wrap:wrap;\n",
              "      gap: 12px;\n",
              "    }\n",
              "\n",
              "    .colab-df-convert {\n",
              "      background-color: #E8F0FE;\n",
              "      border: none;\n",
              "      border-radius: 50%;\n",
              "      cursor: pointer;\n",
              "      display: none;\n",
              "      fill: #1967D2;\n",
              "      height: 32px;\n",
              "      padding: 0 0 0 0;\n",
              "      width: 32px;\n",
              "    }\n",
              "\n",
              "    .colab-df-convert:hover {\n",
              "      background-color: #E2EBFA;\n",
              "      box-shadow: 0px 1px 2px rgba(60, 64, 67, 0.3), 0px 1px 3px 1px rgba(60, 64, 67, 0.15);\n",
              "      fill: #174EA6;\n",
              "    }\n",
              "\n",
              "    [theme=dark] .colab-df-convert {\n",
              "      background-color: #3B4455;\n",
              "      fill: #D2E3FC;\n",
              "    }\n",
              "\n",
              "    [theme=dark] .colab-df-convert:hover {\n",
              "      background-color: #434B5C;\n",
              "      box-shadow: 0px 1px 3px 1px rgba(0, 0, 0, 0.15);\n",
              "      filter: drop-shadow(0px 1px 2px rgba(0, 0, 0, 0.3));\n",
              "      fill: #FFFFFF;\n",
              "    }\n",
              "  </style>\n",
              "\n",
              "      <script>\n",
              "        const buttonEl =\n",
              "          document.querySelector('#df-865de489-4602-4b73-9b2c-3f37b2877d59 button.colab-df-convert');\n",
              "        buttonEl.style.display =\n",
              "          google.colab.kernel.accessAllowed ? 'block' : 'none';\n",
              "\n",
              "        async function convertToInteractive(key) {\n",
              "          const element = document.querySelector('#df-865de489-4602-4b73-9b2c-3f37b2877d59');\n",
              "          const dataTable =\n",
              "            await google.colab.kernel.invokeFunction('convertToInteractive',\n",
              "                                                     [key], {});\n",
              "          if (!dataTable) return;\n",
              "\n",
              "          const docLinkHtml = 'Like what you see? Visit the ' +\n",
              "            '<a target=\"_blank\" href=https://colab.research.google.com/notebooks/data_table.ipynb>data table notebook</a>'\n",
              "            + ' to learn more about interactive tables.';\n",
              "          element.innerHTML = '';\n",
              "          dataTable['output_type'] = 'display_data';\n",
              "          await google.colab.output.renderOutput(dataTable, element);\n",
              "          const docLink = document.createElement('div');\n",
              "          docLink.innerHTML = docLinkHtml;\n",
              "          element.appendChild(docLink);\n",
              "        }\n",
              "      </script>\n",
              "    </div>\n",
              "  </div>\n",
              "  "
            ]
          },
          "metadata": {},
          "execution_count": 83
        }
      ]
    },
    {
      "cell_type": "code",
      "source": [
        "df_checkin.info()"
      ],
      "metadata": {
        "colab": {
          "base_uri": "https://localhost:8080/"
        },
        "id": "zFIL6fgV6S8r",
        "outputId": "df1d4efa-57ab-4d70-b045-e7ccc69d7b09"
      },
      "execution_count": null,
      "outputs": [
        {
          "output_type": "stream",
          "name": "stdout",
          "text": [
            "<class 'pandas.core.frame.DataFrame'>\n",
            "RangeIndex: 131930 entries, 0 to 131929\n",
            "Data columns (total 2 columns):\n",
            " #   Column       Non-Null Count   Dtype \n",
            "---  ------       --------------   ----- \n",
            " 0   business_id  131930 non-null  object\n",
            " 1   date         131930 non-null  object\n",
            "dtypes: object(2)\n",
            "memory usage: 2.0+ MB\n"
          ]
        }
      ]
    },
    {
      "cell_type": "code",
      "source": [
        "# Filtrar los registros que no corresponden a restaurantes\n",
        "df_checkin = df_checkin[df_checkin['business_id'].isin(df_business['business_id'])].reset_index(drop = True)\n",
        "df_checkin.info()"
      ],
      "metadata": {
        "colab": {
          "base_uri": "https://localhost:8080/"
        },
        "id": "0lMm2ZsXolOO",
        "outputId": "27409ec1-6998-4181-f8a4-4458895b4607"
      },
      "execution_count": null,
      "outputs": [
        {
          "output_type": "stream",
          "name": "stdout",
          "text": [
            "<class 'pandas.core.frame.DataFrame'>\n",
            "RangeIndex: 26026 entries, 0 to 26025\n",
            "Data columns (total 2 columns):\n",
            " #   Column       Non-Null Count  Dtype \n",
            "---  ------       --------------  ----- \n",
            " 0   business_id  26026 non-null  object\n",
            " 1   date         26026 non-null  object\n",
            "dtypes: object(2)\n",
            "memory usage: 406.8+ KB\n"
          ]
        }
      ]
    },
    {
      "cell_type": "code",
      "source": [
        "# Dividir los valores separados por coma en la columna 'date'\n",
        "df_checkin['date'] = df_checkin['date'].str.split(', ')\n",
        "\n",
        "# Expandir los valores de la lista en la columna 'date' en filas separadas\n",
        "df_checkin = df_checkin.explode('date')\n",
        "\n",
        "# Convertir en formato de tiempo\n",
        "df_checkin['date'] = pd.to_datetime(df_checkin['date'])\n",
        "\n",
        "# Transformar fecha al formato 'YYYY-MM-DD'\n",
        "df_checkin['date'] = df_checkin['date'].dt.strftime('%Y-%m-%d')\n",
        "\n",
        "df_checkin.head()"
      ],
      "metadata": {
        "colab": {
          "base_uri": "https://localhost:8080/",
          "height": 206
        },
        "id": "_bTAilBh6VFx",
        "outputId": "48dd6963-42f3-4dd2-9cb1-f62cb9ef0253"
      },
      "execution_count": null,
      "outputs": [
        {
          "output_type": "execute_result",
          "data": {
            "text/plain": [
              "              business_id        date\n",
              "0  ---kPU91CF4Lq2-WlRu9Lw  2020-03-13\n",
              "0  ---kPU91CF4Lq2-WlRu9Lw  2020-06-02\n",
              "0  ---kPU91CF4Lq2-WlRu9Lw  2020-07-24\n",
              "0  ---kPU91CF4Lq2-WlRu9Lw  2020-10-24\n",
              "0  ---kPU91CF4Lq2-WlRu9Lw  2020-12-09"
            ],
            "text/html": [
              "\n",
              "  <div id=\"df-4daaa7e9-fa09-4318-b88a-29ad31687fd8\">\n",
              "    <div class=\"colab-df-container\">\n",
              "      <div>\n",
              "<style scoped>\n",
              "    .dataframe tbody tr th:only-of-type {\n",
              "        vertical-align: middle;\n",
              "    }\n",
              "\n",
              "    .dataframe tbody tr th {\n",
              "        vertical-align: top;\n",
              "    }\n",
              "\n",
              "    .dataframe thead th {\n",
              "        text-align: right;\n",
              "    }\n",
              "</style>\n",
              "<table border=\"1\" class=\"dataframe\">\n",
              "  <thead>\n",
              "    <tr style=\"text-align: right;\">\n",
              "      <th></th>\n",
              "      <th>business_id</th>\n",
              "      <th>date</th>\n",
              "    </tr>\n",
              "  </thead>\n",
              "  <tbody>\n",
              "    <tr>\n",
              "      <th>0</th>\n",
              "      <td>---kPU91CF4Lq2-WlRu9Lw</td>\n",
              "      <td>2020-03-13</td>\n",
              "    </tr>\n",
              "    <tr>\n",
              "      <th>0</th>\n",
              "      <td>---kPU91CF4Lq2-WlRu9Lw</td>\n",
              "      <td>2020-06-02</td>\n",
              "    </tr>\n",
              "    <tr>\n",
              "      <th>0</th>\n",
              "      <td>---kPU91CF4Lq2-WlRu9Lw</td>\n",
              "      <td>2020-07-24</td>\n",
              "    </tr>\n",
              "    <tr>\n",
              "      <th>0</th>\n",
              "      <td>---kPU91CF4Lq2-WlRu9Lw</td>\n",
              "      <td>2020-10-24</td>\n",
              "    </tr>\n",
              "    <tr>\n",
              "      <th>0</th>\n",
              "      <td>---kPU91CF4Lq2-WlRu9Lw</td>\n",
              "      <td>2020-12-09</td>\n",
              "    </tr>\n",
              "  </tbody>\n",
              "</table>\n",
              "</div>\n",
              "      <button class=\"colab-df-convert\" onclick=\"convertToInteractive('df-4daaa7e9-fa09-4318-b88a-29ad31687fd8')\"\n",
              "              title=\"Convert this dataframe to an interactive table.\"\n",
              "              style=\"display:none;\">\n",
              "        \n",
              "  <svg xmlns=\"http://www.w3.org/2000/svg\" height=\"24px\"viewBox=\"0 0 24 24\"\n",
              "       width=\"24px\">\n",
              "    <path d=\"M0 0h24v24H0V0z\" fill=\"none\"/>\n",
              "    <path d=\"M18.56 5.44l.94 2.06.94-2.06 2.06-.94-2.06-.94-.94-2.06-.94 2.06-2.06.94zm-11 1L8.5 8.5l.94-2.06 2.06-.94-2.06-.94L8.5 2.5l-.94 2.06-2.06.94zm10 10l.94 2.06.94-2.06 2.06-.94-2.06-.94-.94-2.06-.94 2.06-2.06.94z\"/><path d=\"M17.41 7.96l-1.37-1.37c-.4-.4-.92-.59-1.43-.59-.52 0-1.04.2-1.43.59L10.3 9.45l-7.72 7.72c-.78.78-.78 2.05 0 2.83L4 21.41c.39.39.9.59 1.41.59.51 0 1.02-.2 1.41-.59l7.78-7.78 2.81-2.81c.8-.78.8-2.07 0-2.86zM5.41 20L4 18.59l7.72-7.72 1.47 1.35L5.41 20z\"/>\n",
              "  </svg>\n",
              "      </button>\n",
              "      \n",
              "  <style>\n",
              "    .colab-df-container {\n",
              "      display:flex;\n",
              "      flex-wrap:wrap;\n",
              "      gap: 12px;\n",
              "    }\n",
              "\n",
              "    .colab-df-convert {\n",
              "      background-color: #E8F0FE;\n",
              "      border: none;\n",
              "      border-radius: 50%;\n",
              "      cursor: pointer;\n",
              "      display: none;\n",
              "      fill: #1967D2;\n",
              "      height: 32px;\n",
              "      padding: 0 0 0 0;\n",
              "      width: 32px;\n",
              "    }\n",
              "\n",
              "    .colab-df-convert:hover {\n",
              "      background-color: #E2EBFA;\n",
              "      box-shadow: 0px 1px 2px rgba(60, 64, 67, 0.3), 0px 1px 3px 1px rgba(60, 64, 67, 0.15);\n",
              "      fill: #174EA6;\n",
              "    }\n",
              "\n",
              "    [theme=dark] .colab-df-convert {\n",
              "      background-color: #3B4455;\n",
              "      fill: #D2E3FC;\n",
              "    }\n",
              "\n",
              "    [theme=dark] .colab-df-convert:hover {\n",
              "      background-color: #434B5C;\n",
              "      box-shadow: 0px 1px 3px 1px rgba(0, 0, 0, 0.15);\n",
              "      filter: drop-shadow(0px 1px 2px rgba(0, 0, 0, 0.3));\n",
              "      fill: #FFFFFF;\n",
              "    }\n",
              "  </style>\n",
              "\n",
              "      <script>\n",
              "        const buttonEl =\n",
              "          document.querySelector('#df-4daaa7e9-fa09-4318-b88a-29ad31687fd8 button.colab-df-convert');\n",
              "        buttonEl.style.display =\n",
              "          google.colab.kernel.accessAllowed ? 'block' : 'none';\n",
              "\n",
              "        async function convertToInteractive(key) {\n",
              "          const element = document.querySelector('#df-4daaa7e9-fa09-4318-b88a-29ad31687fd8');\n",
              "          const dataTable =\n",
              "            await google.colab.kernel.invokeFunction('convertToInteractive',\n",
              "                                                     [key], {});\n",
              "          if (!dataTable) return;\n",
              "\n",
              "          const docLinkHtml = 'Like what you see? Visit the ' +\n",
              "            '<a target=\"_blank\" href=https://colab.research.google.com/notebooks/data_table.ipynb>data table notebook</a>'\n",
              "            + ' to learn more about interactive tables.';\n",
              "          element.innerHTML = '';\n",
              "          dataTable['output_type'] = 'display_data';\n",
              "          await google.colab.output.renderOutput(dataTable, element);\n",
              "          const docLink = document.createElement('div');\n",
              "          docLink.innerHTML = docLinkHtml;\n",
              "          element.appendChild(docLink);\n",
              "        }\n",
              "      </script>\n",
              "    </div>\n",
              "  </div>\n",
              "  "
            ]
          },
          "metadata": {},
          "execution_count": 86
        }
      ]
    },
    {
      "cell_type": "code",
      "source": [
        "# Exportar archivo\n",
        "#df_checkin.to_csv('checkin_yelp.csv',index = False)"
      ],
      "metadata": {
        "id": "3yQ9geMhiics"
      },
      "execution_count": null,
      "outputs": []
    },
    {
      "cell_type": "markdown",
      "source": [
        "# Exportar a BigQuery"
      ],
      "metadata": {
        "id": "EgLkzFTwbXle"
      }
    },
    {
      "cell_type": "markdown",
      "source": [
        "## Crear dataset"
      ],
      "metadata": {
        "id": "bqARQHnfbdB0"
      }
    },
    {
      "cell_type": "code",
      "source": [
        "'''\n",
        "# Especificar el ID del dataset\n",
        "dataset_id = \"GoogleMaps\"\n",
        "\n",
        "# Crear un objeto de referencia del dataset\n",
        "dataset_ref = client.dataset(dataset_id)\n",
        "\n",
        "# Crear el dataset\n",
        "dataset = bigquery.Dataset(dataset_ref)\n",
        "dataset = client.create_dataset(dataset)\n",
        "\n",
        "print(f\"Dataset '{dataset.dataset_id}' created.\")"
      ],
      "metadata": {
        "id": "g8O87aOgba5W",
        "colab": {
          "base_uri": "https://localhost:8080/"
        },
        "outputId": "2ec21f9e-45e5-44be-f452-d1dd112ac819"
      },
      "execution_count": null,
      "outputs": [
        {
          "output_type": "stream",
          "name": "stdout",
          "text": [
            "Dataset 'GoogleMaps' created.\n"
          ]
        }
      ]
    },
    {
      "cell_type": "code",
      "source": [
        "'''\n",
        "# Especificar el ID del dataset\n",
        "dataset_id2 = \"Yelp2\"\n",
        "\n",
        "# Crear un objeto de referencia del dataset\n",
        "dataset_ref2 = client.dataset(dataset_id2)\n",
        "\n",
        "# Crear el dataset\n",
        "dataset2 = bigquery.Dataset(dataset_ref2)\n",
        "dataset2 = client.create_dataset(dataset2)\n"
      ],
      "metadata": {
        "id": "GNrem3rBcDQ2"
      },
      "execution_count": null,
      "outputs": []
    },
    {
      "cell_type": "code",
      "source": [
        "print(f\"Dataset '{dataset2.dataset_id}' created.\")"
      ],
      "metadata": {
        "colab": {
          "base_uri": "https://localhost:8080/"
        },
        "id": "C7ujOAAwYFFG",
        "outputId": "2a97b996-be0b-4020-cb00-194ebda00dc7"
      },
      "execution_count": null,
      "outputs": [
        {
          "output_type": "stream",
          "name": "stdout",
          "text": [
            "Dataset 'Yelp2' created.\n"
          ]
        }
      ]
    },
    {
      "cell_type": "markdown",
      "source": [
        "## Crear tablas"
      ],
      "metadata": {
        "id": "ob275YJEc-0m"
      }
    },
    {
      "cell_type": "markdown",
      "source": [
        "### GoogleMaps"
      ],
      "metadata": {
        "id": "CL6Teh6ieFIY"
      }
    },
    {
      "cell_type": "code",
      "source": [
        "'''\n",
        "# Crear un objeto de referencia de la tabla\n",
        "tableRef1 = client.dataset(\"GoogleMaps\").table(\"metadata\")\n",
        "\n",
        "# Definir trabajo\n",
        "bigqueryJob1 = client.load_table_from_dataframe(df_meta2, tableRef1)\n",
        "\n",
        "# Ejecutar trabajo\n",
        "bigqueryJob1.result()"
      ],
      "metadata": {
        "id": "baeuLv-wdBVc",
        "colab": {
          "base_uri": "https://localhost:8080/"
        },
        "outputId": "5b055a41-9d83-44d6-9d8d-81738c45918e"
      },
      "execution_count": null,
      "outputs": [
        {
          "output_type": "execute_result",
          "data": {
            "text/plain": [
              "LoadJob<project=pg-yelp-gmaps-389415, location=US, id=4c691f49-f74c-452b-b524-59d080d74c6d>"
            ]
          },
          "metadata": {},
          "execution_count": 93
        }
      ]
    },
    {
      "cell_type": "code",
      "source": [
        "'''\n",
        "# Crear un objeto de referencia de la tabla\n",
        "tableRef2 = client.dataset(\"GoogleMaps\").table(\"reviews\")\n",
        "\n",
        "# Definir trabajo\n",
        "bigqueryJob2 = client.load_table_from_dataframe(df_reviewg, tableRef2)\n",
        "\n",
        "# Ejecutar trabajo\n",
        "bigqueryJob2.result()"
      ],
      "metadata": {
        "id": "iS92_Pw7eTkt",
        "colab": {
          "base_uri": "https://localhost:8080/"
        },
        "outputId": "6dd2b590-6274-475c-9060-2478b44c5dc3"
      },
      "execution_count": null,
      "outputs": [
        {
          "output_type": "execute_result",
          "data": {
            "text/plain": [
              "LoadJob<project=pg-yelp-gmaps-389415, location=US, id=c3ccd301-e155-4061-abeb-ce86e9194d08>"
            ]
          },
          "metadata": {},
          "execution_count": 94
        }
      ]
    },
    {
      "cell_type": "markdown",
      "source": [
        "### Yelp"
      ],
      "metadata": {
        "id": "cQi82eHde104"
      }
    },
    {
      "cell_type": "code",
      "source": [
        "'''\n",
        "# Crear un objeto de referencia de la tabla\n",
        "tableRef3 = client.dataset(\"Yelp2\").table(\"business\")\n",
        "\n",
        "# Definir trabajo\n",
        "bigqueryJob3 = client.load_table_from_dataframe(df_business2, tableRef3)\n",
        "\n",
        "# Ejecutar trabajo\n",
        "bigqueryJob3.result()"
      ],
      "metadata": {
        "id": "NgWPYKny9-9h",
        "colab": {
          "base_uri": "https://localhost:8080/"
        },
        "outputId": "10ce3474-a985-4852-b489-c28576eb45fa"
      },
      "execution_count": null,
      "outputs": [
        {
          "output_type": "execute_result",
          "data": {
            "text/plain": [
              "LoadJob<project=pg-yelp-gmaps-389415, location=US, id=c0b27a28-1d7f-4bd7-b405-362b3d3e61af>"
            ]
          },
          "metadata": {},
          "execution_count": 88
        }
      ]
    },
    {
      "cell_type": "code",
      "source": [
        "'''\n",
        "# Crear un objeto de referencia de la tabla\n",
        "tableRef4 = client.dataset(\"Yelp2\").table(\"reviews\")\n",
        "\n",
        "# Definir trabajo\n",
        "bigqueryJob4 = client.load_table_from_dataframe(yelp_reviews, tableRef4)\n",
        "\n",
        "# Ejecutar trabajo\n",
        "bigqueryJob4.result()"
      ],
      "metadata": {
        "id": "2zrXnGVO-Zmm",
        "colab": {
          "base_uri": "https://localhost:8080/"
        },
        "outputId": "1c4179ec-0af5-44e3-a88b-c63224c98fc3"
      },
      "execution_count": null,
      "outputs": [
        {
          "output_type": "execute_result",
          "data": {
            "text/plain": [
              "LoadJob<project=pg-yelp-gmaps-389415, location=US, id=90876ca4-3bec-478b-b555-b119093f5043>"
            ]
          },
          "metadata": {},
          "execution_count": 96
        }
      ]
    },
    {
      "cell_type": "code",
      "source": [
        "'''\n",
        "# Crear un objeto de referencia de la tabla\n",
        "tableRef5 = client.dataset(\"Yelp2\").table(\"checkin\")\n",
        "\n",
        "# Definir trabajo\n",
        "bigqueryJob5 = client.load_table_from_dataframe(df_checkin, tableRef5)\n",
        "\n",
        "# Ejecutar trabajo\n",
        "bigqueryJob5.result()"
      ],
      "metadata": {
        "id": "49koyZaY-qAV",
        "colab": {
          "base_uri": "https://localhost:8080/"
        },
        "outputId": "22c629ea-4b3d-48aa-d2b7-18ed202292a2"
      },
      "execution_count": null,
      "outputs": [
        {
          "output_type": "execute_result",
          "data": {
            "text/plain": [
              "LoadJob<project=pg-yelp-gmaps-389415, location=US, id=7c224cbb-4a9a-47d9-bd9a-0a9061315d24>"
            ]
          },
          "metadata": {},
          "execution_count": 97
        }
      ]
    }
  ]
}